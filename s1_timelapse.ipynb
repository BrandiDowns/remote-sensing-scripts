{
 "cells": [
  {
   "cell_type": "code",
   "execution_count": 1,
   "id": "55e983b2",
   "metadata": {},
   "outputs": [],
   "source": [
    "import ee\n",
    "import geemap\n",
    "\n",
    "from datetime import datetime\n",
    "\n",
    "ee.Initialize()"
   ]
  },
  {
   "cell_type": "code",
   "execution_count": 3,
   "id": "9138f6d0",
   "metadata": {},
   "outputs": [],
   "source": [
    "# Define an area of interest\n",
    "roi = ee.Geometry.Rectangle([70.7980547394194417, 23.2880385161501735, 71.5060515087354958, 23.9024834537972986]); # Nanda Bet small region\n"
   ]
  },
  {
   "cell_type": "code",
   "execution_count": null,
   "id": "12aadd26",
   "metadata": {},
   "outputs": [],
   "source": [
    "# Import S1 data\n",
    "d1 = '2020-01-01'\n",
    "d2 = '2021-01-01'\n",
    "img_collection = (ee.ImageCollection('COPERNICUS/S1_GRD')\n",
    "    .filter(ee.Filter.eq('instrumentMode', 'IW'))\n",
    "    .filterMetadata('resolution_meters', 'equals', 10)\n",
    "    .filter(ee.Filter.eq('orbitProperties_pass', 'DESCENDING'))\n",
    "    .filterBounds(roi)\n",
    "    .filterDate(d1, d2)\n",
    "    .select('VV', 'VH'))\n",
    "    \n",
    "vv_collection = img_collection.select('VV')\n",
    "vh_collection = img_collection.select('VH')"
   ]
  },
  {
   "cell_type": "code",
   "execution_count": null,
   "id": "82fab30c",
   "metadata": {
    "scrolled": true
   },
   "outputs": [],
   "source": [
    "# Create a map and add s1 images\n",
    "Map = geemap.Map()\n",
    "Map.centerObject(roi, 8)\n",
    "Map"
   ]
  },
  {
   "cell_type": "code",
   "execution_count": null,
   "id": "6cae34e5",
   "metadata": {},
   "outputs": [],
   "source": [
    "# create vv timelapse\n",
    "vv_gif_file = r\"C:\\Users\\brand\\Documents\\python\\nanda_bet\\gifs\\s1_vv_2020_timelapse.gif\"\n",
    "\n",
    "vv_timelapse = geemap.sentinel1_timelapse(\n",
    "    roi,\n",
    "    out_gif=vv_gif_file,\n",
    "    start_year=2020,\n",
    "    end_year=2020,\n",
    "    start_date='01-01',\n",
    "    end_date='12-31',\n",
    "    frequency='day',\n",
    "    bands=['VV'],\n",
    "    vis_params={\"min\": -20, \"max\": -5},\n",
    "    palette=[\"#000000\", \"#FFFFFF\"],\n",
    "    frames_per_second=1,\n",
    "    title='VV (dB)',\n",
    "    add_colorbar=True,\n",
    "    colorbar_bg_color='gray',\n",
    ")\n",
    "\n",
    "geemap.show_image(vv_timelapse)"
   ]
  },
  {
   "cell_type": "code",
   "execution_count": null,
   "id": "90f1fbf6",
   "metadata": {},
   "outputs": [],
   "source": [
    "# create vh timelapse\n",
    "vh_gif_file = r\"C:\\Users\\brand\\Documents\\python\\nanda_bet\\gifs\\s1_vh_2020_timelapse.gif\"\n",
    "\n",
    "vh_timelapse = geemap.sentinel1_timelapse(\n",
    "    roi,\n",
    "    out_gif=vh_gif_file,\n",
    "    start_year=2020,\n",
    "    end_year=2020,\n",
    "    start_date='01-01',\n",
    "    end_date='12-31',\n",
    "    frequency='day',\n",
    "    bands=['VH'],\n",
    "    vis_params={\"min\": -25, \"max\": -10},\n",
    "    palette=[\"#000000\", \"#FFFFFF\"],\n",
    "    frames_per_second=1,\n",
    "    title='VH (dB)',\n",
    "    add_colorbar=True,\n",
    "    colorbar_bg_color='gray',\n",
    ")\n",
    "\n",
    "geemap.show_image(vh_timelapse)"
   ]
  }
 ],
 "metadata": {
  "kernelspec": {
   "display_name": "Python [conda env:nandabetenv] *",
   "language": "python",
   "name": "conda-env-nandabetenv-py"
  },
  "language_info": {
   "codemirror_mode": {
    "name": "ipython",
    "version": 3
   },
   "file_extension": ".py",
   "mimetype": "text/x-python",
   "name": "python",
   "nbconvert_exporter": "python",
   "pygments_lexer": "ipython3",
   "version": "3.8.13"
  }
 },
 "nbformat": 4,
 "nbformat_minor": 5
}
