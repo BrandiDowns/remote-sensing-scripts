{
 "cells": [
  {
   "cell_type": "code",
   "execution_count": 1,
   "id": "fd005bab",
   "metadata": {},
   "outputs": [
    {
     "data": {
      "text/html": [
       "<p>To authorize access needed by Earth Engine, open the following\n",
       "        URL in a web browser and follow the instructions:</p>\n",
       "        <p><a href=https://code.earthengine.google.com/client-auth?scopes=https%3A//www.googleapis.com/auth/earthengine%20https%3A//www.googleapis.com/auth/devstorage.full_control&request_id=EMeNkAoINJC4d2fdSOLKN_VYfI47fmoNt6QlHveJe94&tc=g_KrYpCWibwxUB8DbKKVqR8M4gSpQVgg7xC60sL5FUI&cc=wcx_FNR2BZt9vjKsLO7494fTBsh8VmuxJUiGqXtO1_4>https://code.earthengine.google.com/client-auth?scopes=https%3A//www.googleapis.com/auth/earthengine%20https%3A//www.googleapis.com/auth/devstorage.full_control&request_id=EMeNkAoINJC4d2fdSOLKN_VYfI47fmoNt6QlHveJe94&tc=g_KrYpCWibwxUB8DbKKVqR8M4gSpQVgg7xC60sL5FUI&cc=wcx_FNR2BZt9vjKsLO7494fTBsh8VmuxJUiGqXtO1_4</a></p>\n",
       "        <p>The authorization workflow will generate a code, which you should paste in the box below.</p>\n",
       "        "
      ],
      "text/plain": [
       "<IPython.core.display.HTML object>"
      ]
     },
     "metadata": {},
     "output_type": "display_data"
    },
    {
     "name": "stdout",
     "output_type": "stream",
     "text": [
      "Enter verification code: 4/1AbUR2VMpmBKt5kR2-MsX3LChbrvBCoV9eT81tUTgn1yazio4GcK7Wolmmuc\n",
      "\n",
      "Successfully saved authorization token.\n"
     ]
    }
   ],
   "source": [
    "import ee\n",
    "import geemap\n",
    "from datetime import datetime, timedelta\n",
    "import math\n",
    "import matplotlib.pyplot as plt\n",
    "import numpy as np\n",
    "import ipynb\n",
    "import time\n",
    "from speckle_filter import leesigma\n",
    "\n",
    "ee.Authenticate()\n",
    "ee.Initialize()"
   ]
  },
  {
   "cell_type": "code",
   "execution_count": 67,
   "id": "863bba8e",
   "metadata": {},
   "outputs": [
    {
     "name": "stdout",
     "output_type": "stream",
     "text": [
      "Number of images: 1\n",
      "Bands: ['VV', 'VH', 'angle']\n"
     ]
    }
   ],
   "source": [
    "# define region and dates of interest\n",
    "# roi = ee.Geometry.Rectangle([70.7980547394194417, 23.2880385161501735, 71.5060515087354958, 23.9024834537972986])  # Nanda Bet small region\n",
    "# roi2 = ee.Geometry.Rectangle([69.98568, 22.66953, 72.76651, 24.60271])  # Nanda Bet S1 extent\n",
    "roi = ee.Geometry.Rectangle([70.3145, 23.0592, 72.4516, 24.2214])  # Nanda Bet - CYGNSS & S1 common extent for fusion\n",
    "\n",
    "d1 = '2020-12-04'\n",
    "d2 = '2020-12-05'\n",
    "\n",
    "# d1 = '2020-08-18'\n",
    "# d2 = '2020-08-19'\n",
    "\n",
    "# get s1 data\n",
    "s1_collection = (ee.ImageCollection('COPERNICUS/S1_GRD_FLOAT')\n",
    "                 .filter(ee.Filter.eq('instrumentMode', 'IW'))\n",
    "                 .filterMetadata('resolution_meters', 'equals', 10)\n",
    "                 .filter(ee.Filter.eq('orbitProperties_pass', 'DESCENDING'))\n",
    "                 .filter(ee.Filter.date(d1,d2))\n",
    "                 .filterBounds(roi))\n",
    "\n",
    "n = s1_collection.size().getInfo()\n",
    "print('Number of images:', n)\n",
    "print('Bands:', s1_collection.first().bandNames().getInfo())\n",
    "                "
   ]
  },
  {
   "cell_type": "code",
   "execution_count": 68,
   "id": "71677649",
   "metadata": {},
   "outputs": [
    {
     "data": {
      "text/plain": [
       "['12-04-2020']"
      ]
     },
     "execution_count": 68,
     "metadata": {},
     "output_type": "execute_result"
    }
   ],
   "source": [
    "# get dates of images\n",
    "acq_times = s1_collection.aggregate_array('system:time_start').getInfo()\n",
    "date_list = [time.strftime('%m-%d-%Y', time.gmtime(t/1000)) for t in acq_times]\n",
    "date_list"
   ]
  },
  {
   "cell_type": "code",
   "execution_count": 69,
   "id": "87a9e381",
   "metadata": {},
   "outputs": [],
   "source": [
    "# implement speckle filter and get vv/vh ratio\n",
    "def speckle(img):\n",
    "    from speckle_filter import leesigma\n",
    "    k = 5\n",
    "    vv = img.select('VV')\n",
    "    vh = img.select('VH')\n",
    "    vv_vh = vv.divide(vh).rename('VV_VH')\n",
    "    vv_filtered = leesigma(vv,k).rename('VV_filtered')\n",
    "    vh_filtered = leesigma(vh,k).rename('VH_filtered')\n",
    "    vv_vh_filtered = vv_filtered.divide(vh_filtered).rename('VV_VH_filtered')\n",
    "    img = img.addBands(ee.Image([vv_vh, vv_filtered, vh_filtered, vv_vh_filtered]))\n",
    "    return img\n",
    "\n",
    "s1_collection = s1_collection.map(speckle)\n",
    "#print(s1_collection.first().bandNames().getInfo())"
   ]
  },
  {
   "cell_type": "code",
   "execution_count": 61,
   "id": "b6ea89bf",
   "metadata": {
    "scrolled": true
   },
   "outputs": [
    {
     "data": {
      "application/vnd.jupyter.widget-view+json": {
       "model_id": "49c104f7c702407c9d8be902277970ac",
       "version_major": 2,
       "version_minor": 0
      },
      "text/plain": [
       "Map(center=[23.643099947449006, 71.38305000000001], controls=(WidgetControl(options=['position', 'transparent_…"
      ]
     },
     "metadata": {},
     "output_type": "display_data"
    }
   ],
   "source": [
    "# map to make sure it looks right\n",
    "\n",
    "# define visualization parameters\n",
    "vv_vis = {\n",
    "    'min': 0,\n",
    "    'max': 0.2,\n",
    "    'palette': ['#000000','#ffffff']\n",
    "}\n",
    "\n",
    "vh_vis = {\n",
    "    'min': 0,\n",
    "    'max': 0.03,\n",
    "    'palette': ['#000000','#ffffff']\n",
    "}\n",
    "\n",
    "vv_vh_vis = {\n",
    "    'min': 3,\n",
    "    'max': 30,\n",
    "    'palette': ['#000000','#ffffff']\n",
    "}\n",
    "\n",
    "\n",
    "\n",
    "# Select individual images to display on map\n",
    "\n",
    "s1_collection_list = s1_collection.toList(n)\n",
    "\n",
    "idx = 0  #get first image in collection\n",
    "vv = ee.Image(s1_collection_list.get(idx)).select('VV_filtered')\n",
    "vh = ee.Image(s1_collection_list.get(idx)).select('VH_filtered')\n",
    "vv_vh = ee.Image(s1_collection_list.get(idx)).select('VV_VH_filtered')\n",
    "vv_unfiltered = ee.Image(s1_collection_list.get(idx)).select('VV')\n",
    "\n",
    "\n",
    "# Create map and add layers\n",
    "M = geemap.Map()\n",
    "M.centerObject(roi, 8)\n",
    "\n",
    "M.addLayer(vv, vv_vis, 'VV')\n",
    "M.addLayer(vh, vh_vis, 'VH')\n",
    "M.addLayer(vv_vh, vv_vh_vis, 'VV/VH')\n",
    "M.addLayer(vv_unfiltered, vv_vis, 'VV Unfiltered')\n",
    "\n",
    "M  # show map\n"
   ]
  },
  {
   "cell_type": "code",
   "execution_count": 50,
   "id": "17298ebe",
   "metadata": {},
   "outputs": [
    {
     "name": "stdout",
     "output_type": "stream",
     "text": [
      "10\n"
     ]
    }
   ],
   "source": [
    "ns = ee.Image(s1_collection_list.get(0)).select('VV_filtered').projection().nominalScale().getInfo()\n",
    "print(ns)"
   ]
  },
  {
   "cell_type": "code",
   "execution_count": 70,
   "id": "5d02e82b",
   "metadata": {},
   "outputs": [
    {
     "name": "stdout",
     "output_type": "stream",
     "text": [
      "12-04-2020\n"
     ]
    }
   ],
   "source": [
    "# export images\n",
    "s1_collection_list = s1_collection.toList(n)\n",
    "\n",
    "i = 0\n",
    "#print(ee.Image(s1_collection_list.get(i)).select('VV_filtered').projection().crs().getInfo())\n",
    "ns = ee.Image(s1_collection_list.get(i)).select('VV_filtered').projection().nominalScale().getInfo()\n",
    "#print(ns)\n",
    "task_id = []\n",
    "\n",
    "for i in range(n):\n",
    "    img = ee.Image(s1_collection_list.get(i)).select(['VV_filtered','VH_filtered','VV_VH_filtered']).clip(roi)\n",
    "    txt = 's1_nanda_bet_' + date_list[i] + '_100m'\n",
    "    task = ee.batch.Export.image.toDrive(image=img,\n",
    "                                        description=txt,\n",
    "                                        scale=100,\n",
    "                                        region=roi,\n",
    "                                        fileNamePrefix=txt,\n",
    "                                        crs='EPSG:4326',\n",
    "                                        fileFormat='GeoTIFF',\n",
    "                                        maxPixels=1e9)\n",
    "    task.start()\n",
    "    task_id.append(task.id)\n",
    "    print(date_list[i])\n",
    "    \n"
   ]
  },
  {
   "cell_type": "code",
   "execution_count": 34,
   "id": "7c24daf6",
   "metadata": {},
   "outputs": [
    {
     "name": "stdout",
     "output_type": "stream",
     "text": [
      "[{'state': 'COMPLETED', 'description': 's1_nanda_bet_01-03-2020', 'creation_timestamp_ms': 1663260176170, 'update_timestamp_ms': 1663261123605, 'start_timestamp_ms': 1663260222878, 'task_type': 'EXPORT_IMAGE', 'destination_uris': ['https://drive.google.com/'], 'attempt': 1, 'batch_eecu_usage_seconds': 6100.69580078125, 'id': 'B7GV2MKIIIZ7EPVO5632SPKU', 'name': 'projects/earthengine-legacy/operations/B7GV2MKIIIZ7EPVO5632SPKU'}]\n",
      "\n",
      "Task started on: 09-15-2022\n"
     ]
    }
   ],
   "source": [
    "#task.status()\n",
    "t_id = \"B7GV2MKIIIZ7EPVO5632SPKU\"\n",
    "print(ee.data.getTaskStatus(t_id))\n",
    "\n",
    "t = ee.data.getTaskStatus(\"B7GV2MKIIIZ7EPVO5632SPKU\")[0].get('creation_timestamp_ms')\n",
    "print('\\nTask started on:', time.strftime('%m-%d-%Y', time.gmtime(t/1000)))"
   ]
  },
  {
   "cell_type": "code",
   "execution_count": 52,
   "id": "cb422d19",
   "metadata": {},
   "outputs": [
    {
     "data": {
      "text/plain": [
       "[<Task VLCF6GE7ZW5YQYWKLPOUXTMH EXPORT_IMAGE: s1_nanda_bet_07-13-2020_100m (RUNNING)>,\n",
       " <Task Q2IJ2RYRLVAXV2GJJOWYVRGU EXPORT_IMAGE: s1_nanda_bet_02-08-2020_100m (COMPLETED)>,\n",
       " <Task L5LUQLCVHR6METJHVIDCB6AQ EXPORT_IMAGE: s1_nanda_bet_02-20-2020_100m (COMPLETED)>,\n",
       " <Task OS2CILXXFQVFZDX6TR6B23DJ EXPORT_IMAGE: s1_nanda_bet_03-03-2020_100m (COMPLETED)>,\n",
       " <Task UJTNUM3TYS5ID7MWBJO4DEAJ EXPORT_IMAGE: s1_nanda_bet_01-27-2020_100m (COMPLETED)>,\n",
       " <Task 6F3IG2LKZAULZXTLAGZWZBCH EXPORT_IMAGE: s1_nanda_bet_01-15-2020_100m (COMPLETED)>,\n",
       " <Task OI4LKKI2SP4DZHD5NBBQS3WM EXPORT_IMAGE: s1_nanda_bet_07-25-2020 (COMPLETED)>,\n",
       " <Task 4I3VDJZJNNCL3SIEMCXSPI7D EXPORT_IMAGE: s1_nanda_bet_08-06-2020 (COMPLETED)>,\n",
       " <Task 2T5ZWQ6EP6SG7DGAFMFMEPPW EXPORT_IMAGE: s1_nanda_bet_08-18-2020 (COMPLETED)>,\n",
       " <Task ORK4YRQNNZFNKJGG7ZKDOHET EXPORT_IMAGE: copernicus_land_cover_nanda_bet_2019 (COMPLETED)>,\n",
       " <Task AVYCYKJA7L4V7RQRL4NHHC7G EXPORT_IMAGE: copernicus_land_cover_nanda_bet_2019 (COMPLETED)>,\n",
       " <Task LTU3NR6YAHYJISP3BZYNB5VZ EXPORT_IMAGE: s1_08-18-2020_100m (COMPLETED)>,\n",
       " <Task AQXDPEAVUHWAEEKMJAS5MQ4R EXPORT_IMAGE: s1_08-06-2020_100m (COMPLETED)>,\n",
       " <Task NE5ONN3Y2VTYI7QHF4XS4WSQ EXPORT_IMAGE: s1_08-06-2020_100m (COMPLETED)>,\n",
       " <Task 77725KKOSJ3UVABFF6BZBLTD EXPORT_IMAGE: s1_08-06-2020_100m (COMPLETED)>,\n",
       " <Task CEHWPR344YJETDR5JEKIASQJ EXPORT_IMAGE: s1_08-06-2020_100m (COMPLETED)>,\n",
       " <Task SUFLPX7AZTCOBPS3VW3AFXRW EXPORT_IMAGE: s1_08-30-2020_100m (COMPLETED)>,\n",
       " <Task KOTGCG2HZXEMIR3QMSESPBPX EXPORT_IMAGE: s1_08-18-2020_100m (COMPLETED)>,\n",
       " <Task R6OI7XOBQQWW4J6EF3TQEXYT EXPORT_IMAGE: s1_03-03-2020_100m (COMPLETED)>,\n",
       " <Task 2NPP2OAC3DYS2UI2UGA5UBHE EXPORT_IMAGE: s1_03-15-2020_10m (CANCELLED)>,\n",
       " <Task NDYV3I6JPSSZO4F66N3QN6RX EXPORT_IMAGE: s1_04-15-2020_10m (COMPLETED)>]"
      ]
     },
     "execution_count": 52,
     "metadata": {},
     "output_type": "execute_result"
    }
   ],
   "source": [
    "task.list()"
   ]
  },
  {
   "cell_type": "code",
   "execution_count": 77,
   "id": "d1082586",
   "metadata": {},
   "outputs": [
    {
     "data": {
      "text/plain": [
       "'READY'"
      ]
     },
     "execution_count": 77,
     "metadata": {},
     "output_type": "execute_result"
    }
   ],
   "source": [
    "(ee.data.getTaskStatus(task_id[1])[0]).get('state')"
   ]
  }
 ],
 "metadata": {
  "kernelspec": {
   "display_name": "Python [conda env:nandabetenv] *",
   "language": "python",
   "name": "conda-env-nandabetenv-py"
  },
  "language_info": {
   "codemirror_mode": {
    "name": "ipython",
    "version": 3
   },
   "file_extension": ".py",
   "mimetype": "text/x-python",
   "name": "python",
   "nbconvert_exporter": "python",
   "pygments_lexer": "ipython3",
   "version": "3.8.13"
  }
 },
 "nbformat": 4,
 "nbformat_minor": 5
}
