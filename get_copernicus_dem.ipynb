{
 "cells": [
  {
   "cell_type": "code",
   "execution_count": 1,
   "id": "2a9905b3",
   "metadata": {},
   "outputs": [],
   "source": [
    "import ee\n",
    "import geemap\n",
    "from datetime import datetime, timedelta\n",
    "import math\n",
    "import matplotlib.pyplot as plt\n",
    "import numpy as np\n",
    "import ipynb\n",
    "import time"
   ]
  },
  {
   "cell_type": "code",
   "execution_count": 2,
   "id": "5bcd3728",
   "metadata": {},
   "outputs": [
    {
     "data": {
      "text/html": [
       "<p>To authorize access needed by Earth Engine, open the following\n",
       "        URL in a web browser and follow the instructions:</p>\n",
       "        <p><a href=https://code.earthengine.google.com/client-auth?scopes=https%3A//www.googleapis.com/auth/earthengine%20https%3A//www.googleapis.com/auth/devstorage.full_control&request_id=smtKeDfvtE0pvg8bGJa8o1vYuov3uQLhUGIfxDFzwTo&tc=2DBGdq6OkYxjbavjvIXllnSTq-ZRyeY-AD-yokXcUPo&cc=5XT0LHXynDmrG02ah9iaY7YOjwyEDQ03QGZKhUD5108>https://code.earthengine.google.com/client-auth?scopes=https%3A//www.googleapis.com/auth/earthengine%20https%3A//www.googleapis.com/auth/devstorage.full_control&request_id=smtKeDfvtE0pvg8bGJa8o1vYuov3uQLhUGIfxDFzwTo&tc=2DBGdq6OkYxjbavjvIXllnSTq-ZRyeY-AD-yokXcUPo&cc=5XT0LHXynDmrG02ah9iaY7YOjwyEDQ03QGZKhUD5108</a></p>\n",
       "        <p>The authorization workflow will generate a code, which you should paste in the box below.</p>\n",
       "        "
      ],
      "text/plain": [
       "<IPython.core.display.HTML object>"
      ]
     },
     "metadata": {},
     "output_type": "display_data"
    },
    {
     "name": "stdout",
     "output_type": "stream",
     "text": [
      "Enter verification code: 4/1AWtgzh7Gvb7umhD456xHwoRb6yU1xeOjFe_bHb-5vPPRGoedTkG8Nl3Oum0\n",
      "\n",
      "Successfully saved authorization token.\n"
     ]
    }
   ],
   "source": [
    "# Get authentication credentials to initialize ee\n",
    "ee.Authenticate()\n",
    "ee.Initialize()"
   ]
  },
  {
   "cell_type": "code",
   "execution_count": 3,
   "id": "c20a4871",
   "metadata": {},
   "outputs": [],
   "source": [
    "# Define geometry for data collection\n",
    "\n",
    "\n",
    "# Nanda Bet larger S1 extent\n",
    "# roi = ee.Geometry.Rectangle([69.98568, 22.66953, 72.76651, 24.60271]);\n",
    "# shp_file = 'data/s1_boundary.shp'\n",
    "# boundary = geemap.shp_to_ee(shp_file)\n",
    "\n",
    "\n",
    "# # Nanda Bet smaller region\n",
    "# roi = ee.Geometry.Rectangle([70.7980547394194417, 23.2880385161501735, 71.5060515087354958, 23.9024834537972986])  \n",
    "# shp_file = 'data/smaller_region.shp'\n",
    "# boundary = geemap.shp_to_ee(shp_file)\n",
    "\n",
    "\n",
    "# # Gujarat extent\n",
    "# shp_file = 'data/gujarat_extent.shp'\n",
    "# boundary = geemap.shp_to_ee(shp_file)\n",
    "# roi = boundary.geometry()\n",
    "\n",
    "\n",
    "# South Sudan\n",
    "shp_file = 'data/osm_south_sudan_boundary_v2.shp'\n",
    "boundary = geemap.shp_to_ee(shp_file)\n",
    "roi = boundary.geometry()\n"
   ]
  },
  {
   "cell_type": "code",
   "execution_count": 4,
   "id": "5b1c4756",
   "metadata": {},
   "outputs": [],
   "source": [
    "# Get dem in roi\n",
    "\n",
    "dem_col = ee.ImageCollection(\"projects/sat-io/open-datasets/GLO-30\").filterBounds(roi)"
   ]
  },
  {
   "cell_type": "code",
   "execution_count": 5,
   "id": "c88d1d8d",
   "metadata": {},
   "outputs": [
    {
     "name": "stdout",
     "output_type": "stream",
     "text": [
      "{'type': 'Image', 'bands': [{'id': 'b1', 'data_type': {'type': 'PixelType', 'precision': 'float'}, 'dimensions': [3600, 3600], 'crs': 'EPSG:4326', 'crs_transform': [0.0002777777777777778, 0, 29.999861111111112, 0, -0.0002777777777777778, 4.0001388888888885]}], 'version': 1644308331431283, 'id': 'projects/sat-io/open-datasets/GLO-30/Copernicus_DSM_COG_10_N03_00_E030_00_DEM', 'properties': {'num_bands': 1, 'id_no': 'Copernicus_DSM_COG_10_N03_00_E030_00_DEM', 'ysize': 3600, 'system:footprint': {'type': 'LinearRing', 'coordinates': [[29.999965141390838, 3.0000016829220923], [30.00000006847977, 2.9999994935369383], [30.499861137770377, 2.9999995305740357], [30.999722165715863, 2.999999495373395], [30.99985063481075, 3.000112567308768], [30.999992143185963, 3.0002087554201102], [31.00000089447152, 3.000254463118545], [31.000001157010075, 3.999999977649988], [30.99988782781346, 4.00012821797], [30.99979147603467, 4.000269561785379], [30.999745619212014, 4.000278250227774], [30.499861137770385, 4.00027828633176], [29.99999989208035, 4.000278241784423], [29.999871473244287, 4.000165172439797], [29.99972973610475, 4.000069039830932], [29.999721092515838, 4.000023257393056], [29.999721357115504, 3.00027774596018], [29.9998346057263, 3.000149559634906], [29.999930919890943, 3.000008192517304], [29.999965141390838, 3.0000016829220923]]}, 'xsize': 3600, 'system:asset_size': 53846132, 'system:index': 'Copernicus_DSM_COG_10_N03_00_E030_00_DEM'}}\n"
     ]
    }
   ],
   "source": [
    "# Display metadata\n",
    "\n",
    "print(dem_col.first().getInfo())"
   ]
  },
  {
   "cell_type": "code",
   "execution_count": 6,
   "id": "bf956f4e",
   "metadata": {},
   "outputs": [
    {
     "name": "stdout",
     "output_type": "stream",
     "text": [
      "Number of images in dem collection: 441\n"
     ]
    }
   ],
   "source": [
    "# Print number of images in image collection\n",
    "\n",
    "print('Number of images in dem collection:', dem_col.size().getInfo())"
   ]
  },
  {
   "cell_type": "code",
   "execution_count": 7,
   "id": "3bd58903",
   "metadata": {},
   "outputs": [],
   "source": [
    "# Merge collection to image by taking mean and clip to boundary\n",
    "\n",
    "dem = ee.Image(dem_col.mean()).clip(boundary.geometry())"
   ]
  },
  {
   "cell_type": "code",
   "execution_count": 17,
   "id": "6c519bb2",
   "metadata": {},
   "outputs": [],
   "source": [
    "# Define visualization parameters\n",
    "\n",
    "palette = ['#000000', '#1E5BC0', '#0882E9', '#00A6D7', '#00C67B', '#31D36D', '#69E079',\n",
    "           '#A5EE87', '#E5FC93', '#F3EF92', '#D1C680', '#B29E70', '#967860', '#88655D',\n",
    "           '#A68A85', '#C2B1AF', '#E1D8D7', '#FFFFFF'];\n",
    "\n",
    "\n",
    "dem_vis = {'min': 500, 'max': 3000, 'palette': palette};"
   ]
  },
  {
   "cell_type": "code",
   "execution_count": 18,
   "id": "537fe535",
   "metadata": {},
   "outputs": [
    {
     "data": {
      "application/vnd.jupyter.widget-view+json": {
       "model_id": "34598bed774a4753b64f559e4db7b39b",
       "version_major": 2,
       "version_minor": 0
      },
      "text/plain": [
       "Map(center=[7.372388511008682, 30.179029749002392], controls=(WidgetControl(options=['position', 'transparent_…"
      ]
     },
     "metadata": {},
     "output_type": "display_data"
    }
   ],
   "source": [
    "# Create map and add layers\n",
    "\n",
    "M = geemap.Map()\n",
    "M.centerObject(roi, 6)\n",
    "M.addLayer(dem,dem_vis,'Elevation')\n",
    "M"
   ]
  },
  {
   "cell_type": "code",
   "execution_count": 19,
   "id": "9bb94582",
   "metadata": {},
   "outputs": [],
   "source": [
    "# Export dem geotiff to google drive\n",
    "\n",
    "txt = 'copernicus_dem_180m_ssudan'\n",
    "task = ee.batch.Export.image.toDrive(image=dem,\n",
    "                                    description=txt,\n",
    "                                    scale=180,\n",
    "                                    region=boundary.geometry(),\n",
    "                                    fileNamePrefix=txt,\n",
    "                                    crs='EPSG:4326',\n",
    "                                    fileFormat='GeoTIFF',\n",
    "                                    maxPixels=2e10)\n",
    "task.start()    "
   ]
  },
  {
   "cell_type": "code",
   "execution_count": 22,
   "id": "3f16f6ab",
   "metadata": {},
   "outputs": [
    {
     "data": {
      "text/plain": [
       "[<Task ESUYUTB2V4V4T7DL3P2AQAL6 EXPORT_IMAGE: copernicus_dem_180m_ssudan (RUNNING)>,\n",
       " <Task TQVBNT7GYYIRPAPG4CH4U6A5 EXPORT_IMAGE: s1_nandabet_03-03-2020_20m (COMPLETED)>,\n",
       " <Task OWIHZ7CGYJ4US6N2SN2XADKO EXPORT_IMAGE: dw_label_nandabet_20200301_20m (COMPLETED)>,\n",
       " <Task EHSTRGBKUSWYUIKY4B5QVZFX EXPORT_IMAGE: dw_bands_nandabet_20200301_20m (COMPLETED)>,\n",
       " <Task BJGCCBABWUWE37IK5D7VORSB EXPORT_IMAGE: s2_nandabet_20200303_all_bands (COMPLETED)>,\n",
       " <Task BGORK4R5DYOO4W7PH2HGWYKW EXPORT_IMAGE: s1_nanda_bet_08-18-2020 (COMPLETED)>,\n",
       " <Task XO2LXBBZWYNR6W3ITQF5QMHD EXPORT_IMAGE: s1_everglades_12-06-2021 (COMPLETED)>,\n",
       " <Task OPNHMXYRWGANN2IFFQVHRK4Q EXPORT_IMAGE: s1_everglades_12-06-2021 (COMPLETED)>]"
      ]
     },
     "execution_count": 22,
     "metadata": {},
     "output_type": "execute_result"
    }
   ],
   "source": [
    "# Check task progress\n",
    "\n",
    "task.list()"
   ]
  }
 ],
 "metadata": {
  "kernelspec": {
   "display_name": "Python [conda env:nandabetenv]",
   "language": "python",
   "name": "conda-env-nandabetenv-py"
  },
  "language_info": {
   "codemirror_mode": {
    "name": "ipython",
    "version": 3
   },
   "file_extension": ".py",
   "mimetype": "text/x-python",
   "name": "python",
   "nbconvert_exporter": "python",
   "pygments_lexer": "ipython3",
   "version": "3.8.13"
  }
 },
 "nbformat": 4,
 "nbformat_minor": 5
}
