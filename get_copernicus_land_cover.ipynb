{
 "cells": [
  {
   "cell_type": "code",
   "execution_count": 1,
   "id": "b4b83df3",
   "metadata": {},
   "outputs": [
    {
     "data": {
      "text/html": [
       "<p>To authorize access needed by Earth Engine, open the following\n",
       "        URL in a web browser and follow the instructions:</p>\n",
       "        <p><a href=https://code.earthengine.google.com/client-auth?scopes=https%3A//www.googleapis.com/auth/earthengine%20https%3A//www.googleapis.com/auth/devstorage.full_control&request_id=Iuv4-mCUxvsbb0VbsM8M9GnjhQ7SeEwPMXu2-F0Dq_E&tc=rs8-sH60M9GphIgDOZacvkhvFQT1hP4tw7h54mcdMGI&cc=zQ5UpIo2Rd3QWvkMqKq-Fbue0oZi95BW9ezANTCTujY>https://code.earthengine.google.com/client-auth?scopes=https%3A//www.googleapis.com/auth/earthengine%20https%3A//www.googleapis.com/auth/devstorage.full_control&request_id=Iuv4-mCUxvsbb0VbsM8M9GnjhQ7SeEwPMXu2-F0Dq_E&tc=rs8-sH60M9GphIgDOZacvkhvFQT1hP4tw7h54mcdMGI&cc=zQ5UpIo2Rd3QWvkMqKq-Fbue0oZi95BW9ezANTCTujY</a></p>\n",
       "        <p>The authorization workflow will generate a code, which you should paste in the box below.</p>\n",
       "        "
      ],
      "text/plain": [
       "<IPython.core.display.HTML object>"
      ]
     },
     "metadata": {},
     "output_type": "display_data"
    },
    {
     "name": "stdout",
     "output_type": "stream",
     "text": [
      "Enter verification code: 4/1AbUR2VPNYxAr0l8MZ5kYzMX0Xs78hGUtxHfx7Yym4g0UT1Vb-SHdov3wh-c\n",
      "\n",
      "Successfully saved authorization token.\n"
     ]
    }
   ],
   "source": [
    "import ee\n",
    "import geemap\n",
    "from datetime import datetime, timedelta\n",
    "import math\n",
    "import matplotlib.pyplot as plt\n",
    "import numpy as np\n",
    "import ipynb\n",
    "import time\n",
    "from speckle_filter import leesigma\n",
    "\n",
    "ee.Authenticate()\n",
    "ee.Initialize()"
   ]
  },
  {
   "cell_type": "code",
   "execution_count": 6,
   "id": "8710d3bc",
   "metadata": {},
   "outputs": [],
   "source": [
    "# define region and get land cover data\n",
    "roi = ee.Geometry.Rectangle([70.3145, 23.0592, 72.4516, 24.2214])  # Nanda Bet - CYGNSS & S1 common extent for fusion\n",
    "land_cover = ee.Image('COPERNICUS/Landcover/100m/Proba-V-C3/Global/2019').select('discrete_classification').clip(roi);\n"
   ]
  },
  {
   "cell_type": "code",
   "execution_count": 7,
   "id": "301e50b9",
   "metadata": {},
   "outputs": [
    {
     "data": {
      "application/vnd.jupyter.widget-view+json": {
       "model_id": "aa8d9ce155974384b26f1247d603f4dc",
       "version_major": 2,
       "version_minor": 0
      },
      "text/plain": [
       "Map(center=[23.643099947449006, 71.38305000000001], controls=(WidgetControl(options=['position', 'transparent_…"
      ]
     },
     "metadata": {},
     "output_type": "display_data"
    }
   ],
   "source": [
    "# map to make sure it looks right\n",
    "\n",
    "M = geemap.Map()\n",
    "M.centerObject(roi, 8)\n",
    "M.addLayer(land_cover, {}, 'Land Cover');\n",
    "M  # show map"
   ]
  },
  {
   "cell_type": "code",
   "execution_count": 8,
   "id": "c1ccc47b",
   "metadata": {},
   "outputs": [
    {
     "name": "stdout",
     "output_type": "stream",
     "text": [
      "100\n"
     ]
    }
   ],
   "source": [
    "# export image\n",
    "ns = ee.Image(land_cover).projection().nominalScale().getInfo()\n",
    "print(ns)\n",
    "task_id = []\n",
    "\n",
    "\n",
    "img = ee.Image(land_cover)\n",
    "txt = 'copernicus_land_cover_nanda_bet_2019'\n",
    "task = ee.batch.Export.image.toDrive(image=img,\n",
    "                                    description=txt,\n",
    "                                    scale=100,\n",
    "                                    region=roi,\n",
    "                                    fileNamePrefix=txt,\n",
    "                                    crs='EPSG:4326',\n",
    "                                    fileFormat='GeoTIFF',\n",
    "                                    maxPixels=1e9)\n",
    "task.start()\n",
    "task_id.append(task.id)\n",
    "   \n"
   ]
  },
  {
   "cell_type": "code",
   "execution_count": 11,
   "id": "7987b3ff",
   "metadata": {},
   "outputs": [
    {
     "data": {
      "text/plain": [
       "[<Task ORK4YRQNNZFNKJGG7ZKDOHET EXPORT_IMAGE: copernicus_land_cover_nanda_bet_2019 (COMPLETED)>,\n",
       " <Task AVYCYKJA7L4V7RQRL4NHHC7G EXPORT_IMAGE: copernicus_land_cover_nanda_bet_2019 (COMPLETED)>,\n",
       " <Task LTU3NR6YAHYJISP3BZYNB5VZ EXPORT_IMAGE: s1_08-18-2020_100m (COMPLETED)>,\n",
       " <Task AQXDPEAVUHWAEEKMJAS5MQ4R EXPORT_IMAGE: s1_08-06-2020_100m (COMPLETED)>,\n",
       " <Task NE5ONN3Y2VTYI7QHF4XS4WSQ EXPORT_IMAGE: s1_08-06-2020_100m (COMPLETED)>,\n",
       " <Task 77725KKOSJ3UVABFF6BZBLTD EXPORT_IMAGE: s1_08-06-2020_100m (COMPLETED)>,\n",
       " <Task CEHWPR344YJETDR5JEKIASQJ EXPORT_IMAGE: s1_08-06-2020_100m (COMPLETED)>,\n",
       " <Task SUFLPX7AZTCOBPS3VW3AFXRW EXPORT_IMAGE: s1_08-30-2020_100m (COMPLETED)>,\n",
       " <Task KOTGCG2HZXEMIR3QMSESPBPX EXPORT_IMAGE: s1_08-18-2020_100m (COMPLETED)>,\n",
       " <Task R6OI7XOBQQWW4J6EF3TQEXYT EXPORT_IMAGE: s1_03-03-2020_100m (COMPLETED)>,\n",
       " <Task 2NPP2OAC3DYS2UI2UGA5UBHE EXPORT_IMAGE: s1_03-15-2020_10m (CANCELLED)>,\n",
       " <Task NDYV3I6JPSSZO4F66N3QN6RX EXPORT_IMAGE: s1_04-15-2020_10m (COMPLETED)>,\n",
       " <Task NNMA3F34BC6YCAPAZ7U7ZQW2 EXPORT_IMAGE: modis_ndvi_mean_LACounty_20220701_20220731 (COMPLETED)>]"
      ]
     },
     "execution_count": 11,
     "metadata": {},
     "output_type": "execute_result"
    }
   ],
   "source": [
    "task.list()"
   ]
  }
 ],
 "metadata": {
  "kernelspec": {
   "display_name": "Python [conda env:nandabetenv] *",
   "language": "python",
   "name": "conda-env-nandabetenv-py"
  },
  "language_info": {
   "codemirror_mode": {
    "name": "ipython",
    "version": 3
   },
   "file_extension": ".py",
   "mimetype": "text/x-python",
   "name": "python",
   "nbconvert_exporter": "python",
   "pygments_lexer": "ipython3",
   "version": "3.8.13"
  }
 },
 "nbformat": 4,
 "nbformat_minor": 5
}
