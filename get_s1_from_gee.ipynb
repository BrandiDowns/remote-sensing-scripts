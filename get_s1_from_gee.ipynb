{
 "cells": [
  {
   "cell_type": "markdown",
   "id": "635406a3",
   "metadata": {},
   "source": [
    "Import Sentinel-1 Data from Google Earth Engine\n",
    "\n",
    "This will download S1 data directly into your Google Drive.\n",
    "\n",
    "Follow these steps for installing the EE library and troubleshooting authentication issues:\n",
    "https://developers.google.com/earth-engine/guides/python_install"
   ]
  },
  {
   "cell_type": "code",
   "execution_count": 1,
   "id": "cc90d8d8",
   "metadata": {},
   "outputs": [],
   "source": [
    "# import libraries\n",
    "\n",
    "import ee\n",
    "import geemap\n",
    "from datetime import datetime, timedelta\n",
    "import math\n",
    "import matplotlib.pyplot as plt\n",
    "import numpy as np\n",
    "import ipynb\n",
    "import time\n",
    "from speckle_filter import leesigma"
   ]
  },
  {
   "cell_type": "code",
   "execution_count": 2,
   "id": "1d8188d2",
   "metadata": {},
   "outputs": [
    {
     "data": {
      "text/html": [
       "<p>To authorize access needed by Earth Engine, open the following\n",
       "        URL in a web browser and follow the instructions:</p>\n",
       "        <p><a href=https://code.earthengine.google.com/client-auth?scopes=https%3A//www.googleapis.com/auth/earthengine%20https%3A//www.googleapis.com/auth/devstorage.full_control&request_id=b5R-u2Nz9whIbIqKTKJ1dhsb3QKRs5RRXgfGgdM_oHk&tc=Y5yE20dAx8Xws4A5US4i-MIeQOLxloRxNPauHPjIeYo&cc=ZSuYUdww39yKYAL6pIUlfVrMGvtuUfvGat_1UUS9L98>https://code.earthengine.google.com/client-auth?scopes=https%3A//www.googleapis.com/auth/earthengine%20https%3A//www.googleapis.com/auth/devstorage.full_control&request_id=b5R-u2Nz9whIbIqKTKJ1dhsb3QKRs5RRXgfGgdM_oHk&tc=Y5yE20dAx8Xws4A5US4i-MIeQOLxloRxNPauHPjIeYo&cc=ZSuYUdww39yKYAL6pIUlfVrMGvtuUfvGat_1UUS9L98</a></p>\n",
       "        <p>The authorization workflow will generate a code, which you should paste in the box below.</p>\n",
       "        "
      ],
      "text/plain": [
       "<IPython.core.display.HTML object>"
      ]
     },
     "metadata": {},
     "output_type": "display_data"
    },
    {
     "name": "stdout",
     "output_type": "stream",
     "text": [
      "Enter verification code: 4/1AbUR2VODvwgVcQRcxhFA4A2oLmUCq7QeOnXq-f8PGfOoMEg4NLyfzk4fqUw\n",
      "\n",
      "Successfully saved authorization token.\n"
     ]
    }
   ],
   "source": [
    "# get authentication credentials to initialize ee\n",
    "\n",
    "ee.Authenticate()\n",
    "ee.Initialize()"
   ]
  },
  {
   "cell_type": "code",
   "execution_count": 107,
   "id": "3eca2371",
   "metadata": {},
   "outputs": [],
   "source": [
    "# define geometry and dates for data collection\n",
    "\n",
    "# region of interest\n",
    "roi = ee.Geometry.Rectangle([70.7980547394194417, 23.2880385161501735, 71.5060515087354958, 23.9024834537972986])  # Nanda Bet, India\n",
    "#roi = ee.Geometry.Rectangle([-81.0, 25.4, -80.6, 25.6]) # Everglades\n",
    "\n",
    "# dates of interest\n",
    "d1 = '2020-08-03'\n",
    "d2 = '2020-08-21'"
   ]
  },
  {
   "cell_type": "code",
   "execution_count": 108,
   "id": "a15eb6b7",
   "metadata": {},
   "outputs": [
    {
     "name": "stdout",
     "output_type": "stream",
     "text": [
      "Number of images in s1 collection: 2\n"
     ]
    }
   ],
   "source": [
    "# import s1 data\n",
    "\n",
    "s1_collection = (ee.ImageCollection('COPERNICUS/S1_GRD_FLOAT')\n",
    "                 .filter(ee.Filter.eq('instrumentMode', 'IW'))\n",
    "                 .filterMetadata('resolution_meters', 'equals', 10)\n",
    "                 .filter(ee.Filter.eq('orbitProperties_pass', 'DESCENDING'))\n",
    "                 .filter(ee.Filter.date(d1,d2))\n",
    "                 .filterBounds(roi))\n",
    "print('Number of images in s1 collection:', s1_collection.size().getInfo())"
   ]
  },
  {
   "cell_type": "code",
   "execution_count": 109,
   "id": "b3289440",
   "metadata": {},
   "outputs": [
    {
     "name": "stdout",
     "output_type": "stream",
     "text": [
      "['08-06-2020', '08-18-2020']\n"
     ]
    }
   ],
   "source": [
    "# get dates of s1 images\n",
    "\n",
    "acq_times = s1_collection.aggregate_array('system:time_start').getInfo()\n",
    "date_list = [time.strftime('%m-%d-%Y', time.gmtime(t/1000)) for t in acq_times]\n",
    "print(date_list)"
   ]
  },
  {
   "cell_type": "code",
   "execution_count": 110,
   "id": "3abfdb0d",
   "metadata": {},
   "outputs": [],
   "source": [
    "# implement speckle filter and get vv/vh ratio\n",
    "\n",
    "def speckle(img):\n",
    "    from speckle_filter import leesigma\n",
    "    k = 5\n",
    "    vv = img.select('VV')\n",
    "    vh = img.select('VH')\n",
    "    vv_vh = vv.divide(vh).rename('VV_VH')\n",
    "    vv_filtered = leesigma(vv,k).rename('VV_filtered')\n",
    "    vh_filtered = leesigma(vh,k).rename('VH_filtered')\n",
    "    vv_vh_filtered = vv_filtered.divide(vh_filtered).rename('VV_VH_filtered')\n",
    "    img = img.addBands(ee.Image([vv_vh, vv_filtered, vh_filtered, vv_vh_filtered]))\n",
    "    return img\n",
    "\n",
    "s1_collection = s1_collection.map(speckle)"
   ]
  },
  {
   "cell_type": "code",
   "execution_count": 111,
   "id": "35e84034",
   "metadata": {},
   "outputs": [
    {
     "name": "stdout",
     "output_type": "stream",
     "text": [
      "['VV', 'VH', 'angle', 'VV_VH', 'VV_filtered', 'VH_filtered', 'VV_VH_filtered']\n"
     ]
    }
   ],
   "source": [
    "# print band names\n",
    "\n",
    "print(s1_collection.first().bandNames().getInfo())"
   ]
  },
  {
   "cell_type": "code",
   "execution_count": 112,
   "id": "6cda3d82",
   "metadata": {},
   "outputs": [
    {
     "name": "stdout",
     "output_type": "stream",
     "text": [
      "s1_08-06-2020_100m 08-06-2020\n",
      "s1_08-18-2020_100m 08-18-2020\n"
     ]
    }
   ],
   "source": [
    "# export all n images in image collection\n",
    "\n",
    "n = s1_collection.size().getInfo()  #number of images in image collection\n",
    "s1_collection_list = s1_collection.toList(n)\n",
    "scale = 100        #resolution of exported image in meters\n",
    "maxPixels = 2e10  #needs to be high for high resolution or export will fail\n",
    "task_id = []      #for tracking tasks\n",
    "\n",
    "for i in range(0,n):\n",
    "    img = ee.Image(s1_collection_list.get(i)).select(['VV_filtered','VH_filtered','VV_VH_filtered'])\n",
    "    txt = 's1_' + date_list[i] + '_' + str(scale) + 'm'\n",
    "    print(txt, date_list[i])\n",
    "    task = ee.batch.Export.image.toDrive(image=img,\n",
    "                                        description=txt,\n",
    "                                        scale=scale,\n",
    "                                        fileNamePrefix=txt,\n",
    "                                        crs='EPSG:4326',\n",
    "                                        fileFormat='GeoTIFF',\n",
    "                                        maxPixels=maxPixels)\n",
    "    task.start()\n",
    "    task_id.append(task.id)\n",
    "    "
   ]
  },
  {
   "cell_type": "code",
   "execution_count": 120,
   "id": "d3469e4f",
   "metadata": {},
   "outputs": [
    {
     "data": {
      "text/plain": [
       "[<Task LTU3NR6YAHYJISP3BZYNB5VZ EXPORT_IMAGE: s1_08-18-2020_100m (COMPLETED)>,\n",
       " <Task AQXDPEAVUHWAEEKMJAS5MQ4R EXPORT_IMAGE: s1_08-06-2020_100m (COMPLETED)>,\n",
       " <Task NE5ONN3Y2VTYI7QHF4XS4WSQ EXPORT_IMAGE: s1_08-06-2020_100m (COMPLETED)>,\n",
       " <Task 77725KKOSJ3UVABFF6BZBLTD EXPORT_IMAGE: s1_08-06-2020_100m (COMPLETED)>,\n",
       " <Task CEHWPR344YJETDR5JEKIASQJ EXPORT_IMAGE: s1_08-06-2020_100m (COMPLETED)>,\n",
       " <Task SUFLPX7AZTCOBPS3VW3AFXRW EXPORT_IMAGE: s1_08-30-2020_100m (COMPLETED)>,\n",
       " <Task KOTGCG2HZXEMIR3QMSESPBPX EXPORT_IMAGE: s1_08-18-2020_100m (COMPLETED)>,\n",
       " <Task R6OI7XOBQQWW4J6EF3TQEXYT EXPORT_IMAGE: s1_03-03-2020_100m (COMPLETED)>,\n",
       " <Task 2NPP2OAC3DYS2UI2UGA5UBHE EXPORT_IMAGE: s1_03-15-2020_10m (CANCELLED)>,\n",
       " <Task NDYV3I6JPSSZO4F66N3QN6RX EXPORT_IMAGE: s1_04-15-2020_10m (COMPLETED)>,\n",
       " <Task NNMA3F34BC6YCAPAZ7U7ZQW2 EXPORT_IMAGE: modis_ndvi_mean_LACounty_20220701_20220731 (COMPLETED)>]"
      ]
     },
     "execution_count": 120,
     "metadata": {},
     "output_type": "execute_result"
    }
   ],
   "source": [
    "# list status of recent tasks\n",
    "\n",
    "task.list()"
   ]
  },
  {
   "cell_type": "code",
   "execution_count": 55,
   "id": "f1ac52ad",
   "metadata": {},
   "outputs": [],
   "source": [
    "task.cancel()"
   ]
  },
  {
   "cell_type": "code",
   "execution_count": 101,
   "id": "724dea41",
   "metadata": {},
   "outputs": [
    {
     "data": {
      "application/vnd.jupyter.widget-view+json": {
       "model_id": "75d98ca739464d9b8c6f98bb7fdc6f6f",
       "version_major": 2,
       "version_minor": 0
      },
      "text/plain": [
       "Map(center=[23.595422252032954, 71.15205312407748], controls=(WidgetControl(options=['position', 'transparent_…"
      ]
     },
     "metadata": {},
     "output_type": "display_data"
    }
   ],
   "source": [
    "# map to make sure it looks right\n",
    "\n",
    "# define visualization parameters\n",
    "vv_vis = {\n",
    "    'min': 0,\n",
    "    'max': 0.2,\n",
    "    'palette': ['#000000','#ffffff']\n",
    "}\n",
    "\n",
    "vh_vis = {\n",
    "    'min': 0,\n",
    "    'max': 0.03,\n",
    "    'palette': ['#000000','#ffffff']\n",
    "}\n",
    "\n",
    "vv_vh_vis = {\n",
    "    'min': 3,\n",
    "    'max': 10,\n",
    "    'palette': ['#000000','#ffffff']\n",
    "}\n",
    "\n",
    "\n",
    "\n",
    "# Select individual images to display on map\n",
    "n = s1_collection.size().getInfo()\n",
    "s1_collection_list = s1_collection.toList(n)\n",
    "\n",
    "idx = 0  #get first image in collection\n",
    "vv = ee.Image(s1_collection_list.get(idx)).select('VV_filtered')\n",
    "vh = ee.Image(s1_collection_list.get(idx)).select('VH_filtered')\n",
    "vv_vh = ee.Image(s1_collection_list.get(idx)).select('VV_VH_filtered')\n",
    "vv_unfiltered = ee.Image(s1_collection_list.get(idx)).select('VV')\n",
    "\n",
    "\n",
    "# Create map and add layers\n",
    "M = geemap.Map()\n",
    "M.centerObject(roi, 8)\n",
    "\n",
    "M.addLayer(vv, vv_vis, 'VV')\n",
    "M.addLayer(vh, vh_vis, 'VH')\n",
    "M.addLayer(vv_vh, vv_vh_vis, 'VV/VH')\n",
    "M.addLayer(vv_unfiltered, vv_vis, 'VV Unfiltered')\n",
    "\n",
    "M  # show map\n"
   ]
  }
 ],
 "metadata": {
  "author": {
   "name": "Brandi Downs"
  },
  "kernelspec": {
   "display_name": "Python [conda env:nandabetenv] *",
   "language": "python",
   "name": "conda-env-nandabetenv-py"
  },
  "language_info": {
   "codemirror_mode": {
    "name": "ipython",
    "version": 3
   },
   "file_extension": ".py",
   "mimetype": "text/x-python",
   "name": "python",
   "nbconvert_exporter": "python",
   "pygments_lexer": "ipython3",
   "version": "3.8.13"
  },
  "title": "Import Sentinel-1 Data from Google Earth Engine"
 },
 "nbformat": 4,
 "nbformat_minor": 5
}
