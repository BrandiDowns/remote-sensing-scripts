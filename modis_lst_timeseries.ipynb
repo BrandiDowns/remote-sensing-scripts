{
 "cells": [
  {
   "cell_type": "code",
   "execution_count": 2,
   "id": "9d28881a",
   "metadata": {},
   "outputs": [],
   "source": [
    "import ee\n",
    "import geemap\n",
    "from datetime import datetime\n",
    "ee.Authenticate()\n",
    "ee.Initialize()"
   ]
  },
  {
   "cell_type": "code",
   "execution_count": 3,
   "id": "29f61952",
   "metadata": {},
   "outputs": [],
   "source": [
    "# define an area of interest\n",
    "# roi = ee.Geometry.Point([-118.193264, 34.124524]);\n",
    "roi = ee.Geometry.Rectangle([-119, 33.638, -117.607, 34.403])"
   ]
  },
  {
   "cell_type": "code",
   "execution_count": 4,
   "id": "e7cf077e",
   "metadata": {},
   "outputs": [],
   "source": [
    "# get MODIS land surface temperature dataset\n",
    "d1 = '2022-07-01'\n",
    "d2 = '2022-09-04'\n",
    "dataset = ee.ImageCollection('MODIS/061/MOD11A1').filter(ee.Filter.date(d1, d2))\n",
    "lst_k = dataset.select('LST_Day_1km')"
   ]
  },
  {
   "cell_type": "code",
   "execution_count": 5,
   "id": "ca2390ab",
   "metadata": {},
   "outputs": [],
   "source": [
    "# define function to convert modis temps (scaled by 0.02, kelvin) to fahrenheit and clip to roi\n",
    "def convert_to_f(lst_modis):\n",
    "    lst_c = lst_modis.multiply(0.02).add(-273.15)\n",
    "    lst_f = lst_c.multiply(1.8).add(32)\n",
    "    lst_f = lst_f.clip(roi)\n",
    "    return lst_f"
   ]
  },
  {
   "cell_type": "code",
   "execution_count": 6,
   "id": "b6af8d7f",
   "metadata": {},
   "outputs": [],
   "source": [
    "# convert modis temps to fahrenheit\n",
    "lst_f = lst_k.map(convert_to_f)"
   ]
  },
  {
   "cell_type": "code",
   "execution_count": 7,
   "id": "12a70eb0",
   "metadata": {},
   "outputs": [],
   "source": [
    "# get dates of each image\n",
    "n = dataset.size().getInfo()\n",
    "d = []\n",
    "for i in range(0,n):\n",
    "    img = ee.Image(dataset.toList(n).get(i))\n",
    "    dt = img.get('system:index').getInfo()\n",
    "    dt = datetime.strptime(str(dt), \"%Y_%m_%d\").strftime(\"%Y-%b-%d\")\n",
    "    d.append(dt)"
   ]
  },
  {
   "cell_type": "code",
   "execution_count": 35,
   "id": "c5a7005b",
   "metadata": {
    "scrolled": true
   },
   "outputs": [
    {
     "data": {
      "application/vnd.jupyter.widget-view+json": {
       "model_id": "f75f601259b643d59acc56a4cd71721b",
       "version_major": 2,
       "version_minor": 0
      },
      "text/plain": [
       "Map(center=[34.05448, -118.3], controls=(WidgetControl(options=['position', 'transparent_bg'], widget=HBox(chi…"
      ]
     },
     "metadata": {},
     "output_type": "display_data"
    }
   ],
   "source": [
    "# define visualization parameters\n",
    "lst_f_vis = {\n",
    "  'min': 85.0,\n",
    "  'max': 120.0,\n",
    "  'palette': [\n",
    "    '040274', '040281', '0502a3', '0502b8', '0502ce', '0502e6',\n",
    "    '0602ff', '235cb1', '307ef3', '269db1', '30c8e2', '32d3ef',\n",
    "    '3be285', '3ff38f', '86e26f', '3ae237', 'b5e22e', 'd6e21f',\n",
    "    'fff705', 'ffd611', 'ffb613', 'ff8b13', 'ff6e08', 'ff500d',\n",
    "    'ff0000', 'de0101', 'c21301', 'a71001', '911003', '630a01',\n",
    "  ],\n",
    "  'opacity': 0.5,\n",
    "};\n",
    "\n",
    "# show any image on the map\n",
    "idx = 0\n",
    "img = ee.Image(lst_f.toList(n).get(idx))\n",
    "\n",
    "Map = geemap.Map()\n",
    "#Map.centerObject(roi, 8)\n",
    "Map.setCenter(-118.3, 34.05448, 10)\n",
    "Map.addLayer(img, lst_f_vis, d[idx])\n",
    "Map"
   ]
  },
  {
   "cell_type": "code",
   "execution_count": 21,
   "id": "9a5406dd",
   "metadata": {},
   "outputs": [
    {
     "name": "stdout",
     "output_type": "stream",
     "text": [
      "60\n",
      "60\n",
      "2022-Jul-01\n"
     ]
    }
   ],
   "source": []
  }
 ],
 "metadata": {
  "kernelspec": {
   "display_name": "Python [conda env:nandabetenv] *",
   "language": "python",
   "name": "conda-env-nandabetenv-py"
  },
  "language_info": {
   "codemirror_mode": {
    "name": "ipython",
    "version": 3
   },
   "file_extension": ".py",
   "mimetype": "text/x-python",
   "name": "python",
   "nbconvert_exporter": "python",
   "pygments_lexer": "ipython3",
   "version": "3.8.13"
  }
 },
 "nbformat": 4,
 "nbformat_minor": 5
}
