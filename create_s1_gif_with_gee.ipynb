{
 "cells": [
  {
   "cell_type": "code",
   "execution_count": 2,
   "id": "c87066c1",
   "metadata": {},
   "outputs": [
    {
     "data": {
      "text/html": [
       "<p>To authorize access needed by Earth Engine, open the following\n",
       "        URL in a web browser and follow the instructions:</p>\n",
       "        <p><a href=https://code.earthengine.google.com/client-auth?scopes=https%3A//www.googleapis.com/auth/earthengine%20https%3A//www.googleapis.com/auth/devstorage.full_control&request_id=10bNFV1AoP8eqwyzzYpItWDzA_caq-eEAiZVcpOZ2as&tc=5HCW3_-OxwGkkxXX9YPFFt5M98Aer1XUSsYu7vF7JiI&cc=zMInYWq28AJrZu1bJNWFqmzQa2j4soOYP--fJ2cehpg>https://code.earthengine.google.com/client-auth?scopes=https%3A//www.googleapis.com/auth/earthengine%20https%3A//www.googleapis.com/auth/devstorage.full_control&request_id=10bNFV1AoP8eqwyzzYpItWDzA_caq-eEAiZVcpOZ2as&tc=5HCW3_-OxwGkkxXX9YPFFt5M98Aer1XUSsYu7vF7JiI&cc=zMInYWq28AJrZu1bJNWFqmzQa2j4soOYP--fJ2cehpg</a></p>\n",
       "        <p>The authorization workflow will generate a code, which you should paste in the box below.</p>\n",
       "        "
      ],
      "text/plain": [
       "<IPython.core.display.HTML object>"
      ]
     },
     "metadata": {},
     "output_type": "display_data"
    },
    {
     "name": "stdout",
     "output_type": "stream",
     "text": [
      "Enter verification code: 4/1ARtbsJoOfccWuAsfeqb39yXDkvsLJFiMlgHJ61QI5EL-Pvs846Niph-tztg\n",
      "\n",
      "Successfully saved authorization token.\n"
     ]
    }
   ],
   "source": [
    "import ee\n",
    "import geemap\n",
    "import numpy as np\n",
    "import matplotlib.pyplot as plt\n",
    "\n",
    "from datetime import datetime\n",
    "ee.Authenticate()\n",
    "ee.Initialize()"
   ]
  },
  {
   "cell_type": "code",
   "execution_count": 3,
   "id": "d9b44293",
   "metadata": {},
   "outputs": [],
   "source": [
    "# Define a region of interest\n",
    "roi = ee.Geometry.Rectangle([70.7980547394194417, 23.2880385161501735, 71.5060515087354958, 23.9024834537972986]); # Nanda Bet small region\n"
   ]
  },
  {
   "cell_type": "code",
   "execution_count": 4,
   "id": "28a591c3",
   "metadata": {},
   "outputs": [],
   "source": [
    "# Import S1 data\n",
    "d1 = '2020-01-01'\n",
    "d2 = '2021-01-01'\n",
    "img_collection = (ee.ImageCollection('COPERNICUS/S1_GRD')\n",
    "    .filter(ee.Filter.eq('instrumentMode', 'IW'))\n",
    "    .filterMetadata('resolution_meters', 'equals', 10)\n",
    "    .filter(ee.Filter.eq('orbitProperties_pass', 'DESCENDING'))\n",
    "    .filterBounds(roi)\n",
    "    .filterDate(d1, d2)\n",
    "    .select('VV', 'VH'))\n",
    "    "
   ]
  },
  {
   "cell_type": "code",
   "execution_count": 5,
   "id": "234d4aa2",
   "metadata": {},
   "outputs": [],
   "source": [
    "# Define function to get VV/VH ratio\n",
    "def get_vv_vh_ratio(img):\n",
    "    vv = img.select('VV')\n",
    "    vh = img.select('VH')\n",
    "    vv_vh = vv.subtract(vh).rename('VV_VH')\n",
    "    img = img.addBands(vv_vh)\n",
    "    return img"
   ]
  },
  {
   "cell_type": "code",
   "execution_count": 6,
   "id": "efb143ea",
   "metadata": {},
   "outputs": [
    {
     "name": "stdout",
     "output_type": "stream",
     "text": [
      "31 images\n"
     ]
    }
   ],
   "source": [
    "# Get vv, vh, vv/vh bands\n",
    "vv_vh_collection = img_collection.map(get_vv_vh_ratio).select('VV_VH')\n",
    "vv_collection = img_collection.select('VV')\n",
    "vh_collection = img_collection.select('VH')\n",
    "\n",
    "n = vv_collection.size().getInfo()\n",
    "vv_list = vv_collection.toList(n)\n",
    "vh_list = vh_collection.toList(n)\n",
    "vv_vh_list = vv_vh_collection.toList(n)\n",
    "\n",
    "print(n, 'images')"
   ]
  },
  {
   "cell_type": "code",
   "execution_count": 7,
   "id": "69fe06bd",
   "metadata": {},
   "outputs": [],
   "source": [
    "# Get dates of all images in image collection\n",
    "date_list = []\n",
    "for i in range(0, n):\n",
    "    img = ee.Image(vv_collection.toList(n).get(i))\n",
    "    t_ms = img.get('system:time_start').getInfo()\n",
    "    dt = datetime.fromtimestamp(t_ms/1000.0)\n",
    "    d = dt.strftime(\"%m/%d/%Y\")\n",
    "    date_list.append(d)\n",
    "\n",
    "# print(date_list)\n",
    "    "
   ]
  },
  {
   "cell_type": "code",
   "execution_count": 15,
   "id": "dcb6d559",
   "metadata": {},
   "outputs": [
    {
     "name": "stdout",
     "output_type": "stream",
     "text": [
      "['01-03-2020', '01-15-2020', '01-27-2020', '02-08-2020', '02-20-2020', '03-03-2020', '03-15-2020', '03-27-2020', '04-08-2020', '04-20-2020', '05-02-2020', '05-14-2020', '05-26-2020', '06-07-2020', '06-19-2020', '07-01-2020', '07-13-2020', '07-25-2020', '08-06-2020', '08-18-2020', '08-30-2020', '09-11-2020', '09-23-2020', '10-05-2020', '10-17-2020', '10-29-2020', '11-10-2020', '11-22-2020', '12-04-2020', '12-16-2020', '12-28-2020']\n"
     ]
    }
   ],
   "source": [
    "import time\n",
    "acq_times = vv_collection.aggregate_array('system:time_start').getInfo()\n",
    "date_list = [time.strftime('%m-%d-%Y', time.gmtime(t/1000)) for t in acq_times]\n",
    "print(date_list)"
   ]
  },
  {
   "cell_type": "code",
   "execution_count": 8,
   "id": "4a3cad77",
   "metadata": {},
   "outputs": [],
   "source": [
    "# Define visualization parameters for map\n",
    "vv_vis = {\n",
    "    'min': -20,\n",
    "    'max': -5,\n",
    "    'palette': ['#000000','#ffffff']\n",
    "}\n",
    "\n",
    "vh_vis = {\n",
    "    'min': -25,\n",
    "    'max': -10,\n",
    "    'palette': ['#000000','#ffffff']\n",
    "}\n",
    "\n",
    "vv_vh_vis = {\n",
    "    'min': 0,\n",
    "    'max': 15,\n",
    "    'palette': ['#000000','#ffffff']\n",
    "}\n",
    "\n",
    "# convert to power, take sqrt of the power -- accentuates the lower values & de-emphasizes the higher values"
   ]
  },
  {
   "cell_type": "code",
   "execution_count": 9,
   "id": "2171709c",
   "metadata": {},
   "outputs": [
    {
     "name": "stdout",
     "output_type": "stream",
     "text": [
      "['01/02/2020', '01/14/2020', '01/26/2020', '02/07/2020', '02/19/2020', '03/02/2020', '03/14/2020', '03/26/2020', '04/07/2020', '04/19/2020', '05/01/2020', '05/13/2020', '05/25/2020', '06/06/2020', '06/18/2020', '06/30/2020', '07/12/2020', '07/24/2020', '08/05/2020', '08/17/2020', '08/29/2020', '09/10/2020', '09/22/2020', '10/04/2020', '10/16/2020', '10/28/2020', '11/09/2020', '11/21/2020', '12/03/2020', '12/15/2020', '12/27/2020']\n"
     ]
    }
   ],
   "source": [
    "print(date_list)"
   ]
  },
  {
   "cell_type": "code",
   "execution_count": 13,
   "id": "3d20e620",
   "metadata": {
    "scrolled": false
   },
   "outputs": [
    {
     "data": {
      "image/png": "[encoded data removed]",
      "text/plain": [
       "<Figure size 1080x432 with 3 Axes>"
      ]
     },
     "metadata": {
      "needs_background": "light"
     },
     "output_type": "display_data"
    },
    {
     "data": {
      "application/vnd.jupyter.widget-view+json": {
       "model_id": "383dd59685c44f5f934975bdb08d2d56",
       "version_major": 2,
       "version_minor": 0
      },
      "text/plain": [
       "Map(center=[23.595422252032954, 71.15205312407748], controls=(WidgetControl(options=['position', 'transparent_…"
      ]
     },
     "metadata": {},
     "output_type": "display_data"
    }
   ],
   "source": [
    "# Create histograms, map, and add s1 images for the selected date\n",
    "\n",
    "idx = 20 # image to display\n",
    "\n",
    "\n",
    "# histograms of vv, vh, vv/vh\n",
    "hist_vv = ee.Image(vv_list.get(idx)).reduceRegion(\n",
    "        ee.Reducer.fixedHistogram(-30, 0, 500),roi,maxPixels=50000000).get('VV').getInfo()\n",
    "a_vv = np.array(hist_vv)\n",
    "x_vv = a_vv[:, 0]                 # array of bucket edge positions\n",
    "y_vv = a_vv[:, 1]/np.sum(a_vv[:, 1]) # normalized array of bucket contents\n",
    "\n",
    "hist_vh = ee.Image(vh_list.get(idx)).reduceRegion(\n",
    "        ee.Reducer.fixedHistogram(-45, 0, 500),roi,maxPixels=50000000).get('VH').getInfo()\n",
    "a_vh = np.array(hist_vh)\n",
    "x_vh = a_vh[:, 0]                 \n",
    "y_vh = a_vh[:, 1]/np.sum(a_vh[:, 1]) \n",
    "\n",
    "hist_vv_vh = ee.Image(vv_vh_list.get(idx)).reduceRegion(\n",
    "        ee.Reducer.fixedHistogram(-10, 30, 500),roi,maxPixels=50000000).get('VV_VH').getInfo()\n",
    "a_vv_vh = np.array(hist_vv_vh)\n",
    "x_vv_vh = a_vv_vh[:, 0]                 \n",
    "y_vv_vh = a_vv_vh[:, 1]/np.sum(a_vv_vh[:, 1]) \n",
    "\n",
    "\n",
    "# Create 3 subplots for histograms\n",
    "f, (ax1, ax2, ax3) = plt.subplots(1, 3, figsize=[15,6])\n",
    "ax1.grid()\n",
    "ax1.plot(x_vv, y_vv, '.')\n",
    "ax1.set_ylabel('Normalized Count')\n",
    "ax1.set_title(date_list[idx] + ' - VV (dB)')\n",
    "\n",
    "ax2.grid()\n",
    "ax2.plot(x_vh, y_vh, '.')\n",
    "ax2.set_title(date_list[idx] + ' - VH (dB)')\n",
    "\n",
    "ax3.grid()\n",
    "ax3.plot(x_vv_vh, y_vv_vh, '.')\n",
    "ax3.set_title(date_list[idx] + ' - VV/VH (dB)')\n",
    "\n",
    "plt.show()\n",
    "\n",
    "\n",
    "# Create map and add layers\n",
    "Map = geemap.Map()\n",
    "Map.centerObject(roi, 8)\n",
    "Map.addLayer(ee.Image(vv_list.get(idx)),vv_vis,'VV')\n",
    "Map.addLayer(ee.Image(vh_list.get(idx)),vh_vis,'VH')\n",
    "Map.addLayer(ee.Image(vv_vh_list.get(idx)),vv_vh_vis,'VV/VH')\n",
    "Map\n"
   ]
  },
  {
   "cell_type": "code",
   "execution_count": 10,
   "id": "a951a60e",
   "metadata": {},
   "outputs": [],
   "source": [
    "# Define arguments for animation function procedures\n",
    "vv_args = {\n",
    "    'dimensions': 750,\n",
    "    'framesPerSecond': 1,\n",
    "    'crs': 'EPSG:3857',\n",
    "    'min': -20,\n",
    "    'max': -5\n",
    "}\n",
    "\n",
    "vh_args = {\n",
    "    'dimensions': 750,\n",
    "    'framesPerSecond': 1,\n",
    "    'crs': 'EPSG:3857',\n",
    "    'min': -25,\n",
    "    'max': -10\n",
    "}\n",
    "\n",
    "vv_vh_args = {\n",
    "    'dimensions': 750,\n",
    "    'framesPerSecond': 1,\n",
    "    'crs': 'EPSG:3857',\n",
    "    'min': 0,\n",
    "    'max': 15\n",
    "}"
   ]
  },
  {
   "cell_type": "code",
   "execution_count": 11,
   "id": "35c1778e",
   "metadata": {},
   "outputs": [
    {
     "name": "stdout",
     "output_type": "stream",
     "text": [
      "Generating URL...\n",
      "Downloading GIF image from https://earthengine.googleapis.com/v1alpha/projects/earthengine-legacy/videoThumbnails/17da3f4dd02f0c3924e1eb7ad183be0c-b35846084062c47d5d40ee0d51cfe1d5:getPixels\n",
      "Please wait ...\n",
      "The GIF image has been saved to: C:\\Users\\brand\\Documents\\python\\nanda_bet\\gifs\\s1_vv_20200101_20201231.gif\n",
      "Generating URL...\n",
      "Downloading GIF image from https://earthengine.googleapis.com/v1alpha/projects/earthengine-legacy/videoThumbnails/8b4e224f0a2068bb35b81a6619d5fc77-ca81969693d9ae0e869c725a0ce09fca:getPixels\n",
      "Please wait ...\n",
      "The GIF image has been saved to: C:\\Users\\brand\\Documents\\python\\nanda_bet\\gifs\\s1_vh_20200101_20201231.gif\n",
      "Generating URL...\n",
      "Downloading GIF image from https://earthengine.googleapis.com/v1alpha/projects/earthengine-legacy/videoThumbnails/22c2ce86b7ffd4e9387d1df8317342e6-f9f88cb237269baa8c813bc990d96b4c:getPixels\n",
      "Please wait ...\n",
      "The GIF image has been saved to: C:\\Users\\brand\\Documents\\python\\nanda_bet\\gifs\\s1_vv_vh_20200101_20201231.gif\n"
     ]
    }
   ],
   "source": [
    "# Save GIF to local drive\n",
    "vv_file = r\"C:\\Users\\brand\\Documents\\python\\nanda_bet\\gifs\\s1_vv_20200101_20201231.gif\"\n",
    "geemap.download_ee_video(vv_collection, vv_args, vv_file)\n",
    "\n",
    "vh_file = r\"C:\\Users\\brand\\Documents\\python\\nanda_bet\\gifs\\s1_vh_20200101_20201231.gif\"\n",
    "geemap.download_ee_video(vh_collection, vh_args, vh_file)\n",
    "\n",
    "vv_vh_file = r\"C:\\Users\\brand\\Documents\\python\\nanda_bet\\gifs\\s1_vv_vh_20200101_20201231.gif\"\n",
    "geemap.download_ee_video(vv_vh_collection, vv_vh_args, vv_vh_file)\n"
   ]
  },
  {
   "cell_type": "code",
   "execution_count": null,
   "id": "0558429d",
   "metadata": {},
   "outputs": [],
   "source": [
    "# Show VV or VH GIF\n",
    "\n",
    "#geemap.show_image(vv_file)\n",
    "#geemap.show_image(vh_file)\n",
    "#geemap.show_image(vv_vh_file)\n"
   ]
  },
  {
   "cell_type": "code",
   "execution_count": 12,
   "id": "adb4aa5c",
   "metadata": {},
   "outputs": [],
   "source": [
    "# Add text and colorbar to GIFs\n",
    "\n",
    "fps = 1 # frames per second\n",
    "vv_file2 = r\"C:\\Users\\brand\\Documents\\python\\nanda_bet\\gifs\\s1_vv_20200101_20201231_annotated.gif\"\n",
    "vh_file2 = r\"C:\\Users\\brand\\Documents\\python\\nanda_bet\\gifs\\s1_vh_20200101_20201231_annotated.gif\"\n",
    "vv_vh_file2 = r\"C:\\Users\\brand\\Documents\\python\\nanda_bet\\gifs\\s1_vv_vh_20200101_20201231_annotated.gif\"\n",
    "\n",
    "def add_text_and_colorbar_to_gis(in_file,out_file,fps,labels,cbar_txt):\n",
    "    \n",
    "    geemap.add_text_to_gif(\n",
    "        in_file,\n",
    "        out_file,\n",
    "        xy=('75%', '5%'),\n",
    "        text_sequence=date_list,\n",
    "        font_size=30,\n",
    "        font_color='#ffffff',\n",
    "        duration=int(1000 / fps),\n",
    "        add_progress_bar=True\n",
    "    )\n",
    "\n",
    "    geemap.add_text_to_gif(\n",
    "        out_file, \n",
    "        out_file,\n",
    "        xy=('12%', '93%'), \n",
    "        text_sequence=cbar_txt, \n",
    "        font_color='white',\n",
    "        font_size = 20,\n",
    "        duration=int(1000/fps)\n",
    "    )\n",
    "\n",
    "    # create a colorbar\n",
    "    width = 250\n",
    "    height = 30\n",
    "    palette = ['black', 'white']\n",
    "    labels = labels\n",
    "    colorbar = geemap.create_colorbar(\n",
    "        width=width,\n",
    "        height=height,\n",
    "        palette=palette,\n",
    "        vertical=False,\n",
    "        font_size=25,\n",
    "        font_color='white',\n",
    "        labels=labels,\n",
    "    )\n",
    "\n",
    "    # add colorbar to gif\n",
    "    geemap.add_image_to_gif(\n",
    "        out_file, \n",
    "        out_file, \n",
    "        in_image=colorbar, \n",
    "        xy=('0%', '88%'), \n",
    "        image_size=(250, 250)\n",
    "    )\n",
    "\n",
    "\n",
    "labels = [-20, -5]    \n",
    "cbar_txt = \"VV (dB)\"\n",
    "add_text_and_colorbar_to_gis(vv_file,vv_file2,fps,labels,cbar_txt)\n",
    "\n",
    "labels = [-25, -10]    \n",
    "cbar_txt = \"VH (dB)\"\n",
    "add_text_and_colorbar_to_gis(vh_file,vh_file2,fps,labels,cbar_txt)\n",
    "\n",
    "labels = [0, 15]    \n",
    "cbar_txt = \"VV/VH (dB)\"\n",
    "add_text_and_colorbar_to_gis(vv_vh_file,vv_vh_file2,fps,labels,cbar_txt)\n"
   ]
  },
  {
   "cell_type": "code",
   "execution_count": 13,
   "id": "940529d4",
   "metadata": {},
   "outputs": [
    {
     "data": {
      "application/vnd.jupyter.widget-view+json": {
       "model_id": "86636e6f56bf4799a51320f7d18e88c9",
       "version_major": 2,
       "version_minor": 0
      },
      "text/plain": [
       "Output()"
      ]
     },
     "metadata": {},
     "output_type": "display_data"
    }
   ],
   "source": [
    "# Show gifs\n",
    "geemap.show_image(vv_file2)\n",
    "#geemap.show_image(vh_file2)\n",
    "#geemap.show_image(vv_vh_file2)"
   ]
  }
 ],
 "metadata": {
  "kernelspec": {
   "display_name": "Python [conda env:nandabetenv]",
   "language": "python",
   "name": "conda-env-nandabetenv-py"
  },
  "language_info": {
   "codemirror_mode": {
    "name": "ipython",
    "version": 3
   },
   "file_extension": ".py",
   "mimetype": "text/x-python",
   "name": "python",
   "nbconvert_exporter": "python",
   "pygments_lexer": "ipython3",
   "version": "3.8.13"
  }
 },
 "nbformat": 4,
 "nbformat_minor": 5
}
