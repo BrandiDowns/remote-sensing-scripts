{
 "cells": [
  {
   "cell_type": "markdown",
   "id": "bc06d1c0",
   "metadata": {},
   "source": [
    "This is an introductory notebook showing how to work with the Google Earth Engine Python API. First, run the following cell to import and initialize the Earth Engine library."
   ]
  },
  {
   "cell_type": "code",
   "execution_count": 1,
   "id": "37fcfc54",
   "metadata": {},
   "outputs": [
    {
     "data": {
      "text/html": [
       "<p>To authorize access needed by Earth Engine, open the following\n",
       "        URL in a web browser and follow the instructions:</p>\n",
       "        <p><a href=https://code.earthengine.google.com/client-auth?scopes=https%3A//www.googleapis.com/auth/earthengine%20https%3A//www.googleapis.com/auth/devstorage.full_control&request_id=x8p867L4UmylgFK4S-6Yh80Azn8dOGJduJqkxlZOZ2g&tc=kSM0XCCgM_p-CdkOco6h1dOrFNbfYsvezvU-iWg88Qk&cc=47xttj2XpF00VYjdixWWZoO9GS9rieso2ctlaqy0YKE>https://code.earthengine.google.com/client-auth?scopes=https%3A//www.googleapis.com/auth/earthengine%20https%3A//www.googleapis.com/auth/devstorage.full_control&request_id=x8p867L4UmylgFK4S-6Yh80Azn8dOGJduJqkxlZOZ2g&tc=kSM0XCCgM_p-CdkOco6h1dOrFNbfYsvezvU-iWg88Qk&cc=47xttj2XpF00VYjdixWWZoO9GS9rieso2ctlaqy0YKE</a></p>\n",
       "        <p>The authorization workflow will generate a code, which you should paste in the box below.</p>\n",
       "        "
      ],
      "text/plain": [
       "<IPython.core.display.HTML object>"
      ]
     },
     "metadata": {},
     "output_type": "display_data"
    },
    {
     "name": "stdout",
     "output_type": "stream",
     "text": [
      "Enter verification code: 4/1AdQt8qhzlSr_48hpELTnoq2uW8VCTr3I5FGR1D00Vy_DjM7Hshl_WFOdrH4\n",
      "\n",
      "Successfully saved authorization token.\n",
      "NASADEM: NASA NASADEM Digital Elevation 30m\n"
     ]
    }
   ],
   "source": [
    "import ee\n",
    "ee.Authenticate()\n",
    "ee.Initialize()\n",
    "print(ee.Image(\"NASA/NASADEM_HGT/001\").get(\"title\").getInfo())"
   ]
  },
  {
   "cell_type": "markdown",
   "id": "1846f545",
   "metadata": {},
   "source": [
    "Import land cover, land surface temperature, and elevation datasets."
   ]
  },
  {
   "cell_type": "code",
   "execution_count": 21,
   "id": "fd09371f",
   "metadata": {},
   "outputs": [],
   "source": [
    "# import MODIS land cover collection\n",
    "lc = ee.ImageCollection('MODIS/006/MCD12Q1')\n",
    "\n",
    "# import MODIS land surface temperature collection\n",
    "lst = ee.ImageCollection('MODIS/061/MOD11A1')\n",
    "\n",
    "# import SRTM elevation data\n",
    "elev = ee.Image('USGS/SRTMGL1_003')"
   ]
  },
  {
   "cell_type": "code",
   "execution_count": 22,
   "id": "8225cb36",
   "metadata": {},
   "outputs": [],
   "source": [
    "# initial date (inclusive)\n",
    "date1 = '2017-01-01'\n",
    "\n",
    "# final date (exclusive)\n",
    "date2 = '2020-01-01'\n",
    "\n",
    "# select bands and filter by dates\n",
    "lst = lst.select('LST_Day_1km', 'QC_Day').filterDate(date1, date2)"
   ]
  },
  {
   "cell_type": "code",
   "execution_count": 23,
   "id": "dfbab0d4",
   "metadata": {},
   "outputs": [],
   "source": [
    "# define the urban location of interest as a point near Lyon, France\n",
    "u_lon = 4.8148\n",
    "u_lat = 45.7758\n",
    "u_point = ee.Geometry.Point(u_lon, u_lat)\n",
    "\n",
    "# define the rural location of interest as a point 30 km away from the city\n",
    "r_lon = 5.175964\n",
    "r_lat = 45.574064\n",
    "r_point = ee.Geometry.Point(r_lon, r_lat)"
   ]
  },
  {
   "cell_type": "markdown",
   "id": "060f119b",
   "metadata": {},
   "source": [
    "Sample the land cover, temperature, and elevation at the urban point."
   ]
  },
  {
   "cell_type": "code",
   "execution_count": 24,
   "id": "474bd2ae",
   "metadata": {},
   "outputs": [
    {
     "name": "stdout",
     "output_type": "stream",
     "text": [
      "Ground elevation at Lyon, France: 196 m\n",
      "Land temperature at Lyon, France: 23.26 °C\n",
      "Land cover value at Lyon, France: 13\n"
     ]
    }
   ],
   "source": [
    "scale = 1000  # meters\n",
    "\n",
    "# print elevation of Lyon, France\n",
    "elev_u_point = elev.sample(u_point, scale).first().get('elevation').getInfo()\n",
    "print('Ground elevation at Lyon, France:', elev_u_point, 'm')\n",
    "\n",
    "# calculate & print the mean surface temperature at that point\n",
    "lst_u_point_mean = lst.mean().sample(u_point, scale).first().get('LST_Day_1km').getInfo()\n",
    "lst_u_point_mean = round(lst_u_point_mean*0.02 - 273.15, 2)\n",
    "print('Land temperature at Lyon, France:', lst_u_point_mean, '°C')\n",
    "\n",
    "# print land cover type at this point\n",
    "lc_u_point = lc.first().sample(u_point, scale).first().get('LC_Type1').getInfo()\n",
    "print('Land cover value at Lyon, France:', lc_u_point)"
   ]
  },
  {
   "cell_type": "markdown",
   "id": "bd7e4a81",
   "metadata": {},
   "source": [
    "Sample the land cover, temperature, and elevation at the rural point."
   ]
  },
  {
   "cell_type": "code",
   "execution_count": 25,
   "id": "420be81e",
   "metadata": {},
   "outputs": [
    {
     "name": "stdout",
     "output_type": "stream",
     "text": [
      "Ground elevation at Lyon, France: 385 m\n",
      "Land temperature at Lyon, France: 22.02 °C\n",
      "Land cover value at Lyon, France: 12\n"
     ]
    }
   ],
   "source": [
    "scale = 1000  # meters\n",
    "\n",
    "# print elevation of Lyon, France\n",
    "elev_r_point = elev.sample(r_point, scale).first().get('elevation').getInfo()\n",
    "print('Ground elevation at Lyon, France:', elev_r_point, 'm')\n",
    "\n",
    "# calculate & print the mean surface temperature at that point\n",
    "lst_r_point_mean = lst.mean().sample(r_point, scale).first().get('LST_Day_1km').getInfo()\n",
    "lst_r_point_mean = round(lst_r_point_mean*0.02 - 273.15, 2)\n",
    "print('Land temperature at Lyon, France:', lst_r_point_mean, '°C')\n",
    "\n",
    "# print land cover type at this point\n",
    "lc_r_point = lc.first().sample(r_point, scale).first().get('LC_Type1').getInfo()\n",
    "print('Land cover value at Lyon, France:', lc_r_point)"
   ]
  },
  {
   "cell_type": "code",
   "execution_count": 10,
   "id": "b9a47ca1",
   "metadata": {},
   "outputs": [
    {
     "data": {
      "text/plain": [
       "[['id', 'longitude', 'latitude', 'time', 'LST_Day_1km', 'QC_Day'],\n",
       " ['2017_01_01', 4.810478346460038, 45.77365530231022, 1483228800000, None, 2],\n",
       " ['2017_01_02', 4.810478346460038, 45.77365530231022, 1483315200000, None, 2],\n",
       " ['2017_01_03', 4.810478346460038, 45.77365530231022, 1483401600000, None, 2],\n",
       " ['2017_01_04',\n",
       "  4.810478346460038,\n",
       "  45.77365530231022,\n",
       "  1483488000000,\n",
       "  13808,\n",
       "  17]]"
      ]
     },
     "execution_count": 10,
     "metadata": {},
     "output_type": "execute_result"
    }
   ],
   "source": [
    "# get data for the pixel intersecting the urban point\n",
    "lst_u_point = lst.getRegion(u_point, scale).getInfo()\n",
    "\n",
    "# get data for the pixel intersecting the rural point\n",
    "lst_r_point = lst.getRegion(r_point, scale).getInfo()\n",
    "\n",
    "# preview the information\n",
    "lst_u_point[:5]\n",
    "\n",
    "# QC_Day = 2 --> LST not calculated due to cloud effects"
   ]
  },
  {
   "cell_type": "code",
   "execution_count": 11,
   "id": "0efbe8df",
   "metadata": {},
   "outputs": [],
   "source": [
    "# define a function to transform array into pandas dataframe\n",
    "import pandas as pd\n",
    "\n",
    "def ee_array_to_df(arr, list_of_bands):\n",
    "    \n",
    "    # transform client-side ee.Image.getRegion array to pandas.DataFrame\n",
    "    df = pd.DataFrame(arr)\n",
    "    \n",
    "    # rearrange the header\n",
    "    headers = df.iloc[0]\n",
    "    df = pd.DataFrame(df.values[1:], columns=headers)\n",
    "    \n",
    "    # remove rows without data\n",
    "    df = df[['longitude', 'latitude', 'time', *list_of_bands]].dropna()\n",
    "    \n",
    "    # convert data to numeric values\n",
    "    for b in list_of_bands:\n",
    "        df[b] = pd.to_numeric(df[b], errors='coerce')\n",
    "        \n",
    "    # convert time field into datetime\n",
    "    df['datetime'] = pd.to_datetime(df['time'], unit='ms')\n",
    "    \n",
    "    # keep columns of interest\n",
    "    df = df[['time', 'datetime', *list_of_bands]]\n",
    "    \n",
    "    return df"
   ]
  },
  {
   "cell_type": "code",
   "execution_count": 12,
   "id": "b88a7c3b",
   "metadata": {},
   "outputs": [],
   "source": [
    "# define function to convert modis temp (kelvin scaled by 200) to celsius\n",
    "def t_modis_to_celsius(t_modis):\n",
    "    t_celsius = 0.02*t_modis - 273.15\n",
    "    return t_celsius"
   ]
  },
  {
   "cell_type": "code",
   "execution_count": 13,
   "id": "bed7b7d5",
   "metadata": {},
   "outputs": [
    {
     "data": {
      "text/html": [
       "<div>\n",
       "<style scoped>\n",
       "    .dataframe tbody tr th:only-of-type {\n",
       "        vertical-align: middle;\n",
       "    }\n",
       "\n",
       "    .dataframe tbody tr th {\n",
       "        vertical-align: top;\n",
       "    }\n",
       "\n",
       "    .dataframe thead th {\n",
       "        text-align: right;\n",
       "    }\n",
       "</style>\n",
       "<table border=\"1\" class=\"dataframe\">\n",
       "  <thead>\n",
       "    <tr style=\"text-align: right;\">\n",
       "      <th></th>\n",
       "      <th>time</th>\n",
       "      <th>datetime</th>\n",
       "      <th>LST_Day_1km</th>\n",
       "    </tr>\n",
       "  </thead>\n",
       "  <tbody>\n",
       "    <tr>\n",
       "      <th>3</th>\n",
       "      <td>1483488000000</td>\n",
       "      <td>2017-01-04</td>\n",
       "      <td>3.01</td>\n",
       "    </tr>\n",
       "    <tr>\n",
       "      <th>4</th>\n",
       "      <td>1483574400000</td>\n",
       "      <td>2017-01-05</td>\n",
       "      <td>2.39</td>\n",
       "    </tr>\n",
       "    <tr>\n",
       "      <th>5</th>\n",
       "      <td>1483660800000</td>\n",
       "      <td>2017-01-06</td>\n",
       "      <td>0.89</td>\n",
       "    </tr>\n",
       "    <tr>\n",
       "      <th>6</th>\n",
       "      <td>1483747200000</td>\n",
       "      <td>2017-01-07</td>\n",
       "      <td>-0.11</td>\n",
       "    </tr>\n",
       "    <tr>\n",
       "      <th>15</th>\n",
       "      <td>1484524800000</td>\n",
       "      <td>2017-01-16</td>\n",
       "      <td>2.33</td>\n",
       "    </tr>\n",
       "  </tbody>\n",
       "</table>\n",
       "</div>"
      ],
      "text/plain": [
       "0            time   datetime  LST_Day_1km\n",
       "3   1483488000000 2017-01-04         3.01\n",
       "4   1483574400000 2017-01-05         2.39\n",
       "5   1483660800000 2017-01-06         0.89\n",
       "6   1483747200000 2017-01-07        -0.11\n",
       "15  1484524800000 2017-01-16         2.33"
      ]
     },
     "execution_count": 13,
     "metadata": {},
     "output_type": "execute_result"
    }
   ],
   "source": [
    "# convert to dataframe\n",
    "lst_df_urban = ee_array_to_df(lst_u_point,['LST_Day_1km'])\n",
    "lst_df_rural = ee_array_to_df(lst_r_point,['LST_Day_1km'])\n",
    "\n",
    "# get temp in celsius\n",
    "lst_df_urban['LST_Day_1km'] = lst_df_urban['LST_Day_1km'].apply(t_modis_to_celsius)\n",
    "lst_df_rural['LST_Day_1km'] = lst_df_rural['LST_Day_1km'].apply(t_modis_to_celsius)\n",
    "\n",
    "lst_df_urban.head()"
   ]
  },
  {
   "cell_type": "code",
   "execution_count": 15,
   "id": "a1ce5c50",
   "metadata": {},
   "outputs": [
    {
     "data": {
      "text/html": [
       "<div>\n",
       "<style scoped>\n",
       "    .dataframe tbody tr th:only-of-type {\n",
       "        vertical-align: middle;\n",
       "    }\n",
       "\n",
       "    .dataframe tbody tr th {\n",
       "        vertical-align: top;\n",
       "    }\n",
       "\n",
       "    .dataframe thead th {\n",
       "        text-align: right;\n",
       "    }\n",
       "</style>\n",
       "<table border=\"1\" class=\"dataframe\">\n",
       "  <thead>\n",
       "    <tr style=\"text-align: right;\">\n",
       "      <th></th>\n",
       "      <th>time</th>\n",
       "      <th>datetime</th>\n",
       "      <th>LST_Day_1km</th>\n",
       "    </tr>\n",
       "  </thead>\n",
       "  <tbody>\n",
       "    <tr>\n",
       "      <th>6</th>\n",
       "      <td>1483747200000</td>\n",
       "      <td>2017-01-07</td>\n",
       "      <td>-2.55</td>\n",
       "    </tr>\n",
       "    <tr>\n",
       "      <th>10</th>\n",
       "      <td>1484092800000</td>\n",
       "      <td>2017-01-11</td>\n",
       "      <td>3.23</td>\n",
       "    </tr>\n",
       "    <tr>\n",
       "      <th>17</th>\n",
       "      <td>1484697600000</td>\n",
       "      <td>2017-01-18</td>\n",
       "      <td>-1.89</td>\n",
       "    </tr>\n",
       "    <tr>\n",
       "      <th>19</th>\n",
       "      <td>1484870400000</td>\n",
       "      <td>2017-01-20</td>\n",
       "      <td>0.07</td>\n",
       "    </tr>\n",
       "    <tr>\n",
       "      <th>20</th>\n",
       "      <td>1484956800000</td>\n",
       "      <td>2017-01-21</td>\n",
       "      <td>0.45</td>\n",
       "    </tr>\n",
       "  </tbody>\n",
       "</table>\n",
       "</div>"
      ],
      "text/plain": [
       "0            time   datetime  LST_Day_1km\n",
       "6   1483747200000 2017-01-07        -2.55\n",
       "10  1484092800000 2017-01-11         3.23\n",
       "17  1484697600000 2017-01-18        -1.89\n",
       "19  1484870400000 2017-01-20         0.07\n",
       "20  1484956800000 2017-01-21         0.45"
      ]
     },
     "execution_count": 15,
     "metadata": {},
     "output_type": "execute_result"
    }
   ],
   "source": [
    "lst_df_rural.head()"
   ]
  }
 ],
 "metadata": {
  "kernelspec": {
   "display_name": "Python [conda env:nandabetenv] *",
   "language": "python",
   "name": "conda-env-nandabetenv-py"
  },
  "language_info": {
   "codemirror_mode": {
    "name": "ipython",
    "version": 3
   },
   "file_extension": ".py",
   "mimetype": "text/x-python",
   "name": "python",
   "nbconvert_exporter": "python",
   "pygments_lexer": "ipython3",
   "version": "3.8.13"
  }
 },
 "nbformat": 4,
 "nbformat_minor": 5
}
