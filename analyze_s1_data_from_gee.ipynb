{
 "cells": [
  {
   "cell_type": "code",
   "execution_count": 46,
   "id": "6ab24528",
   "metadata": {
    "scrolled": true
   },
   "outputs": [],
   "source": [
    "import ee\n",
    "import geemap\n",
    "from datetime import datetime, timedelta\n",
    "import math\n",
    "import matplotlib.pyplot as plt\n",
    "import numpy as np\n",
    "import ipynb\n",
    "import time\n",
    "from speckle_filter import leesigma  # for lee sigma speckle filter\n",
    "\n",
    "%matplotlib inline"
   ]
  },
  {
   "cell_type": "code",
   "execution_count": 47,
   "id": "d8723cf2",
   "metadata": {},
   "outputs": [],
   "source": [
    "# Get authentication credentials to initialize ee\n",
    "#ee.Authenticate()\n",
    "ee.Initialize()"
   ]
  },
  {
   "cell_type": "code",
   "execution_count": 48,
   "id": "2c6aa331",
   "metadata": {},
   "outputs": [],
   "source": [
    "# Define a region of interest\n",
    "roi = ee.Geometry.Rectangle([70.7980547394194417, 23.2880385161501735, 71.5060515087354958, 23.9024834537972986])  # Nanda Bet small region\n",
    "roi_s1 = ee.Geometry.Rectangle([69.98568, 22.66953, 72.76651, 24.60271])  # Nanda Bet S1 extent (different from boundary)\n",
    "roi_l8 = ee.Geometry.Point([71.98385483, 23.23565591]) # right -- this does not get all right side images\n",
    " "
   ]
  },
  {
   "cell_type": "code",
   "execution_count": 49,
   "id": "1ca171c9",
   "metadata": {},
   "outputs": [],
   "source": [
    "# Load boundary shapefiles\n",
    "shp_file = 'data/s1_boundary.shp'\n",
    "s1_boundary = geemap.shp_to_ee(shp_file)\n",
    "\n",
    "shp_file = 'data/boundary_for_landsat.shp'\n",
    "boundary_for_landsat = geemap.shp_to_ee(shp_file)\n",
    "\n",
    "landsat_point = ee.Geometry.Point([72.03943080, 23.91425079]) # this will get landsat tracks on the right side of s1 extent"
   ]
  },
  {
   "cell_type": "code",
   "execution_count": 50,
   "id": "8e59f209",
   "metadata": {},
   "outputs": [
    {
     "data": {
      "text/plain": [
       "ee.geometry.Geometry"
      ]
     },
     "execution_count": 50,
     "metadata": {},
     "output_type": "execute_result"
    }
   ],
   "source": [
    "type(ee.Geometry.Polygon(s1_boundary))\n"
   ]
  },
  {
   "cell_type": "code",
   "execution_count": 51,
   "id": "1bb98c39",
   "metadata": {},
   "outputs": [],
   "source": [
    "# functions for db to linear and vice versa\n",
    "def db2pow(db_val):\n",
    "    return 10**(db_val/10)\n",
    "\n",
    "def pow2db(pow_val):\n",
    "    return 10*math.log(pow_val,10)"
   ]
  },
  {
   "cell_type": "code",
   "execution_count": 52,
   "id": "a7f3818e",
   "metadata": {},
   "outputs": [
    {
     "name": "stdout",
     "output_type": "stream",
     "text": [
      "Number of images in collection: 31\n",
      "Bands: ['VV', 'VH', 'angle']\n"
     ]
    }
   ],
   "source": [
    "# Import S1 data\n",
    "d1 = '2020-01-01'\n",
    "d2 = '2021-01-01'\n",
    "img_collection = (ee.ImageCollection('COPERNICUS/S1_GRD_FLOAT')\n",
    "    .filter(ee.Filter.eq('instrumentMode', 'IW'))\n",
    "    .filterMetadata('resolution_meters', 'equals', 10)\n",
    "    .filter(ee.Filter.eq('orbitProperties_pass', 'DESCENDING'))\n",
    "    .filterBounds(roi)\n",
    "    .filterDate(d1, d2))\n",
    "    \n",
    "n = img_collection.size().getInfo()    \n",
    "print('Number of images in collection:', n)\n",
    "print('Bands:', img_collection.first().bandNames().getInfo())"
   ]
  },
  {
   "cell_type": "code",
   "execution_count": 53,
   "id": "ea4e3c2b",
   "metadata": {
    "scrolled": true
   },
   "outputs": [
    {
     "name": "stdout",
     "output_type": "stream",
     "text": [
      "['01-03-2020', '01-15-2020', '01-27-2020', '02-08-2020', '02-20-2020', '03-03-2020', '03-15-2020', '03-27-2020', '04-08-2020', '04-20-2020', '05-02-2020', '05-14-2020', '05-26-2020', '06-07-2020', '06-19-2020', '07-01-2020', '07-13-2020', '07-25-2020', '08-06-2020', '08-18-2020', '08-30-2020', '09-11-2020', '09-23-2020', '10-05-2020', '10-17-2020', '10-29-2020', '11-10-2020', '11-22-2020', '12-04-2020', '12-16-2020', '12-28-2020']\n"
     ]
    }
   ],
   "source": [
    "# Get dates of all images in image collection\n",
    "img_collection_list = img_collection.toList(n)\n",
    "# date_list = []\n",
    "# for i in range(0, n):\n",
    "#     img = ee.Image(img_collection_list.get(i))\n",
    "#     t_ms = img.get('system:time_start').getInfo()\n",
    "#     dt = datetime.fromtimestamp(t_ms/1000.0)\n",
    "#     d = dt.strftime(\"%m/%d/%Y\")\n",
    "#     date_list.append(d)\n",
    "\n",
    "# print(date_list)\n",
    "\n",
    "acq_times = img_collection.aggregate_array('system:time_start').getInfo()\n",
    "date_list = [time.strftime('%m-%d-%Y', time.gmtime(t/1000)) for t in acq_times]\n",
    "print(date_list)"
   ]
  },
  {
   "cell_type": "code",
   "execution_count": 54,
   "id": "eeda5447",
   "metadata": {},
   "outputs": [
    {
     "name": "stdout",
     "output_type": "stream",
     "text": [
      "{'type': 'Image', 'bands': [{'id': 'VV', 'data_type': {'type': 'PixelType', 'precision': 'float'}, 'dimensions': [28784, 21894], 'crs': 'EPSG:32642', 'crs_transform': [10, 0, 599840.9106613587, 0, -10, 2726254.8468074747]}, {'id': 'VH', 'data_type': {'type': 'PixelType', 'precision': 'float'}, 'dimensions': [28784, 21894], 'crs': 'EPSG:32642', 'crs_transform': [10, 0, 599840.9106613587, 0, -10, 2726254.8468074747]}, {'id': 'angle', 'data_type': {'type': 'PixelType', 'precision': 'float'}, 'dimensions': [21, 10], 'crs': 'EPSG:32642', 'crs_transform': [-12721.525722365594, -3302.3478144576075, 883305.2359083665, 2120.651907443069, -20203.65323428344, 2679278.5895491294]}], 'id': 'COPERNICUS/S1_GRD_FLOAT/S1A_IW_GRDH_1SDV_20200103T011003_20200103T011028_030629_038274_4C20', 'version': 1578144077383526, 'properties': {'SNAP_Graph_Processing_Framework_GPF_vers': '6.0.4', 'SLC_Processing_facility_org': 'ESA', 'SLC_Processing_facility_country': 'Germany', 'GRD_Post_Processing_facility_org': 'ESA', 'transmitterReceiverPolarisation': ['VV', 'VH'], 'GRD_Post_Processing_start': 1578041853020, 'sliceNumber': 16, 'GRD_Post_Processing_facility_name': 'Copernicus S1 Core Ground Segment - DPA', 'resolution': 'H', 'SLC_Processing_facility_name': 'Copernicus S1 Core Ground Segment - DPA', 'system:footprint': {'type': 'LinearRing', 'coordinates': [[72.68049470367104, 23.757452414431526], [72.70165854510799, 23.858337636145453], [72.74561903972362, 24.068676541220494], [72.76275570156876, 24.150780827688695], [72.76548744408359, 24.16471811444918], [72.76703167870465, 24.17584780969296], [72.76717713782324, 24.180795136151378], [71.7070716912448, 24.3660721050705], [71.09923216836827, 24.468725472340136], [70.56967092297855, 24.556034615127718], [70.33285387930898, 24.594432837997196], [70.33180139184401, 24.59103394290477], [70.19872706655957, 23.908345441102714], [70.0652921717574, 23.215431203084645], [70.04180555515907, 23.087368174377193], [71.25914006434454, 22.881327011219145], [72.45317549129128, 22.66967643072935], [72.45933541626384, 22.698544502791474], [72.50344633309419, 22.90715657282261], [72.59159309444873, 23.332373867980007], [72.68049470367104, 23.757452414431526]]}, 'familyName': 'SENTINEL-1', 'segmentStartTime': 1578013424540, 'missionDataTakeID': 230004, 'GRD_Post_Processing_facility_country': 'Germany', 'nssdcIdentifier': '2014-016A', 'productClass': 'S', 'phaseIdentifier': 1, 'orbitProperties_pass': 'DESCENDING', 'relativeOrbitNumber_stop': 107, 'system:time_end': 1578013803000, 'SLC_Processing_facility_site': 'DLR-Oberpfaffenhofen', 'GRD_Post_Processing_stop': 1578042508000, 'system:time_start': 1578013803000, 'instrumentMode': 'IW', 'totalSlices': 18, 'SLC_Processing_stop': 1578042292000, 'startTimeANX': 2569226, 'SLC_Processing_start': 1578041969000, 'resolution_meters': 10, 'instrumentSwath': 'IW', 'relativeOrbitNumber_start': 107, 'productTimelinessCategory': 'Fast-24h', 'SLC_Processing_software_name': 'Sentinel-1 IPF', 'sliceProductFlag': 'true', 'S1TBX_Calibration_vers': '6.0.4', 'orbitNumber_start': 30629, 'GRD_Post_Processing_facility_site': 'DLR-Oberpfaffenhofen', 'instrument': 'Synthetic Aperture Radar', 'GRD_Post_Processing_software_name': 'Sentinel-1 IPF', 'platform_number': 'A', 'S1TBX_SAR_Processing_vers': '6.0.4', 'productType': 'GRD', 'orbitProperties_ascendingNodeTime': 1578011234020, 'stopTimeANX': 2594224, 'productComposition': 'Slice', 'productClassDescription': 'SAR Standard L1 Product', 'GRD_Post_Processing_software_version': '003.10', 'SLC_Processing_software_version': '003.10', 'orbitNumber_stop': 30629, 'instrumentConfigurationID': 6, 'system:asset_size': 4081256411, 'cycleNumber': 189, 'system:index': 'S1A_IW_GRDH_1SDV_20200103T011003_20200103T011028_030629_038274_4C20'}}\n"
     ]
    }
   ],
   "source": [
    "print(img_collection.first().getInfo())"
   ]
  },
  {
   "cell_type": "code",
   "execution_count": 55,
   "id": "2d2735b3",
   "metadata": {
    "scrolled": true
   },
   "outputs": [
    {
     "name": "stdout",
     "output_type": "stream",
     "text": [
      "01-15-2020\n"
     ]
    }
   ],
   "source": [
    "# Define visualization parameters\n",
    "vv_vis = {\n",
    "    'min': 0,\n",
    "    'max': 0.3,\n",
    "    'palette': ['#000000','#ffffff']\n",
    "}\n",
    "\n",
    "vv_sqrt_vis = {\n",
    "    'min': np.sqrt(vv_vis.get('min')),\n",
    "    'max': np.sqrt(vv_vis.get('max')),\n",
    "    'palette': ['#000000','#ffffff']\n",
    "}\n",
    "\n",
    "vh_vis = {\n",
    "    'min': 0.001,\n",
    "    'max': 0.03,\n",
    "    'palette': ['#000000','#ffffff']\n",
    "}\n",
    "\n",
    "vh_sqrt_vis = {\n",
    "    'min': np.sqrt(vh_vis.get('min')),\n",
    "    'max': np.sqrt(vh_vis.get('max')),\n",
    "    'palette': ['#000000','#ffffff']\n",
    "}\n",
    "\n",
    "vv_vh_vis = {\n",
    "    'min': 3,\n",
    "    'max': 30,\n",
    "    'palette': ['#000000','#ffffff']\n",
    "}\n",
    "\n",
    "# Select individual images to display on map\n",
    "idx = 1\n",
    "vv = ee.Image(img_collection_list.get(idx)).select('VV')\n",
    "vh = ee.Image(img_collection_list.get(idx)).select('VH')\n",
    "vv_vh = vv.divide(vh)\n",
    "\n",
    "# Implement speckle filter on images\n",
    "kernel = 5  # kernel size\n",
    "vv_filtered = leesigma(vv,kernel)\n",
    "vh_filtered = leesigma(vh,kernel)\n",
    "vv_vh_filtered = vv_filtered.divide(vh_filtered)\n",
    "\n",
    "# Get sqrt of backscatter\n",
    "vv_sqrt = vv_filtered.sqrt()\n",
    "vh_sqrt = vh_filtered.sqrt()\n",
    "\n",
    "print(date_list[idx])"
   ]
  },
  {
   "cell_type": "code",
   "execution_count": 56,
   "id": "84cc0549",
   "metadata": {},
   "outputs": [
    {
     "data": {
      "application/vnd.jupyter.widget-view+json": {
       "model_id": "27cb2560a3164dd7867f6eb393011c7d",
       "version_major": 2,
       "version_minor": 0
      },
      "text/plain": [
       "Map(center=[23.595422252032954, 71.15205312407748], controls=(WidgetControl(options=['position', 'transparent_…"
      ]
     },
     "metadata": {},
     "output_type": "display_data"
    }
   ],
   "source": [
    "# Create map and add layers\n",
    "\n",
    "M = geemap.Map()\n",
    "M.centerObject(roi, 8)\n",
    "#M.addLayer(vv,vv_vis,'VV')\n",
    "M.addLayer(vv_filtered,vv_vis,'VV with speckle filter')\n",
    "#M.addLayer(vv_sqrt,vv_sqrt_vis,'VV sqrt')\n",
    "#M.addLayer(vh,vh_vis,'VH')\n",
    "M.addLayer(vh_filtered,vh_vis,'VH with speckle filter')\n",
    "#M.addLayer(vh_sqrt,vh_sqrt_vis,'VH sqrt')\n",
    "#M.addLayer(vv_vh,vv_vh_vis,'VV/VH')\n",
    "M.addLayer(vv_vh_filtered,vv_vh_vis,'VV/VH with speckle filter')\n",
    "\n",
    "# left_layer = geemap.ee_tile_layer(vh, vh_vis, 'VV')\n",
    "# right_layer = geemap.ee_tile_layer(vh_filtered, vh_vis, 'VV Filtered')\n",
    "\n",
    "# M.split_map(left_layer, right_layer)\n",
    "M"
   ]
  },
  {
   "cell_type": "code",
   "execution_count": 57,
   "id": "f4d75abb",
   "metadata": {},
   "outputs": [
    {
     "name": "stdout",
     "output_type": "stream",
     "text": [
      "Number of images in Landsat8 collection: 51\n",
      "Bands: ['SR_B1', 'SR_B2', 'SR_B3', 'SR_B4', 'SR_B5', 'SR_B6', 'SR_B7', 'SR_QA_AEROSOL', 'ST_B10', 'ST_ATRAN', 'ST_CDIST', 'ST_DRAD', 'ST_EMIS', 'ST_EMSD', 'ST_QA', 'ST_TRAD', 'ST_URAD', 'QA_PIXEL', 'QA_RADSAT']\n",
      "Dates: ['01-14-2020', '01-30-2020', '03-02-2020', '03-18-2020', '04-03-2020', '04-19-2020', '05-05-2020', '05-21-2020', '10-12-2020', '10-28-2020', '11-29-2020', '12-15-2020', '12-31-2020', '01-14-2020', '01-30-2020', '03-02-2020', '03-18-2020', '04-03-2020', '04-19-2020', '05-05-2020', '05-21-2020', '06-06-2020', '10-12-2020', '10-28-2020', '11-29-2020', '12-15-2020', '12-31-2020', '01-05-2020', '01-21-2020', '02-06-2020', '02-22-2020', '04-10-2020', '04-26-2020', '05-12-2020', '05-28-2020', '07-15-2020', '10-03-2020', '11-20-2020', '12-06-2020', '01-05-2020', '01-21-2020', '02-06-2020', '02-22-2020', '03-09-2020', '04-10-2020', '04-26-2020', '05-12-2020', '05-28-2020', '10-03-2020', '11-20-2020', '12-06-2020']\n"
     ]
    }
   ],
   "source": [
    "# Import Landsat8\n",
    "d1 = '2020-01-01'\n",
    "d2 = '2021-01-01'\n",
    "l8_collection = (ee.ImageCollection('LANDSAT/LC08/C02/T1_L2')\n",
    "    .filterBounds(boundary_for_landsat)\n",
    "    .filterDate(d1, d2)\n",
    "    .filter(ee.Filter.lte('CLOUD_COVER',10)))\n",
    "\n",
    "n2 = l8_collection.size().getInfo()    \n",
    "print('Number of images in Landsat8 collection:', n2)\n",
    "print('Bands:', l8_collection.first().bandNames().getInfo())\n",
    "\n",
    "acq_times = l8_collection.aggregate_array('system:time_start').getInfo()\n",
    "date_list_l8 = [time.strftime('%m-%d-%Y', time.gmtime(t/1000)) for t in acq_times]\n",
    "print('Dates:', date_list_l8)"
   ]
  },
  {
   "cell_type": "code",
   "execution_count": 32,
   "id": "afe0f8a0",
   "metadata": {},
   "outputs": [],
   "source": [
    "# Clip Landsat data to S1 boundary, which is a feature collection\n",
    "def clip_to_fc(img): \n",
    "    img = img.clipToCollection(s1_boundary)\n",
    "    return img\n",
    "\n",
    "l8_collection = l8_collection.map(clip_to_fc)"
   ]
  },
  {
   "cell_type": "code",
   "execution_count": 33,
   "id": "758a86eb",
   "metadata": {},
   "outputs": [],
   "source": [
    "# Get NDWI from Landsat8\n",
    "\n",
    "def get_ndwi_l8(img):\n",
    "    ndwi = img.normalizedDifference(['SR_B5','SR_B6']).rename('NDWI')\n",
    "    return ndwi\n",
    "\n",
    "def get_mndwi_l8(img):\n",
    "    mndwi = img.normalizedDifference(['SR_B3','SR_B6']).rename('MNDWI')\n",
    "    return mndwi\n",
    "\n",
    "def get_ndvi_l8(img):\n",
    "    ndvi = img.normalizedDifference(['SR_B5','SR_B4']).rename('NDVI')\n",
    "    return ndvi\n",
    "\n",
    "ndwi_l8 = l8_collection.map(get_ndwi_l8)\n",
    "mndwi_l8 = l8_collection.map(get_mndwi_l8)\n",
    "ndvi_l8 = l8_collection.map(get_ndvi_l8)\n",
    "\n",
    "ndwi_l8_list = ndwi_l8.toList(n2)\n",
    "mndwi_l8_list = mndwi_l8.toList(n2)\n",
    "ndvi_l8_list = ndvi_l8.toList(n2)"
   ]
  },
  {
   "cell_type": "code",
   "execution_count": 37,
   "id": "e36dfe1a",
   "metadata": {},
   "outputs": [
    {
     "name": "stdout",
     "output_type": "stream",
     "text": [
      "01-14-2020\n",
      "01-14-2020\n",
      "01-05-2020\n",
      "01-05-2020\n"
     ]
    },
    {
     "data": {
      "application/vnd.jupyter.widget-view+json": {
       "model_id": "3a0522f3693f4d0094ead716f8e8c319",
       "version_major": 2,
       "version_minor": 0
      },
      "text/plain": [
       "Map(center=[23.595422252032954, 71.15205312407748], controls=(WidgetControl(options=['position', 'transparent_…"
      ]
     },
     "metadata": {},
     "output_type": "display_data"
    }
   ],
   "source": [
    "# Display on map\n",
    "\n",
    "ndwi_vis = {\n",
    "  'min': -0.25,\n",
    "  'max': 0.25,\n",
    "  #'palette': ['#0000ff', '#00ffff', '#ffff00', '#ff0000', '#ffffff'],\n",
    "  'palette': ['#ffffff', '#ff0000', '#ffff00', '#00ffff', '#0000ff'],\n",
    "}\n",
    "\n",
    "ndvi_vis = {\n",
    "    'min': -1,\n",
    "    'max': 1,\n",
    "    'palette': ['FF0000','FFFFFF','00FF00']\n",
    "}\n",
    "\n",
    "idx = 0\n",
    "k1 = 13\n",
    "k2 = 27\n",
    "k3 = 39\n",
    "print(date_list_l8[idx])\n",
    "print(date_list_l8[idx+k1])\n",
    "print(date_list_l8[idx+k2])\n",
    "print(date_list_l8[idx+k3])\n",
    "\n",
    "M = geemap.Map()\n",
    "M.centerObject(roi, 8)\n",
    "M.add_basemap('HYBRID')\n",
    "#M.addLayer(vv_filtered,vv_vis,'VV with speckle filter')\n",
    "#M.addLayer(vv_sqrt,vv_sqrt_vis,'VV sqrt')\n",
    "#M.addLayer(vh,vh_vis,'VH')\n",
    "#M.addLayer(vh_filtered,vh_vis,'VH with speckle filter')\n",
    "#M.addLayer(vh_sqrt,vh_sqrt_vis,'VH sqrt')\n",
    "#M.addLayer(vv_vh,vv_vh_vis,'VV/VH')\n",
    "#M.addLayer(vv_vh_filtered,vv_vh_vis,'VV/VH with speckle filter')\n",
    "#M.addLayer(vv_filtered,vv_vis,'VV with speckle filter')\n",
    "#M.addLayer(ee.Image(ndwi_l8_list.get(idx)),ndwi_vis,'NDWI')\n",
    "#M.addLayer(ee.Image(ndwi_l8_list.get(idx+k)),ndwi_vis,'NDWI 2')\n",
    "M.addLayer(ee.Image(mndwi_l8_list.get(idx)),ndwi_vis,'MNDWI')\n",
    "M.addLayer(ee.Image(mndwi_l8_list.get(idx+k1)),ndwi_vis,'MNDWI 2')\n",
    "M.addLayer(ee.Image(mndwi_l8_list.get(idx+k2)),ndwi_vis,'MNDWI 3')\n",
    "M.addLayer(ee.Image(mndwi_l8_list.get(idx+k3)),ndwi_vis,'MNDWI 4')\n",
    "#M.addLayer(ee.Image(ndvi_l8_list.get(idx)),ndvi_vis,'NDVI')\n",
    "M.addLayer(s1_boundary,{},'boundary')\n",
    "M  # show map\n"
   ]
  },
  {
   "cell_type": "code",
   "execution_count": null,
   "id": "35cb3a10",
   "metadata": {},
   "outputs": [],
   "source": [
    "# plot ndwi histogram\n",
    "\n",
    "hist_ndwi = ee.Image(ndwi_l8_list.get(idx)).reduceRegion(\n",
    "        ee.Reducer.fixedHistogram(-0.5, 0.5, 5000),roi,maxPixels=10000000).get('NDWI').getInfo()\n",
    "a = np.array(hist_ndwi)\n",
    "x = a[:, 0]                 # array of bucket edge positions\n",
    "y = a[:, 1]/np.sum(a[:, 1]) # normalized array of bucket contents\n",
    "\n",
    "# Create 3 subplots for histograms\n",
    "f, ax1 = plt.subplots(1, 1, figsize=[15,6])\n",
    "ax1.grid()\n",
    "ax1.plot(x, y, '.')\n",
    "ax1.set_ylabel('Normalized Count')\n",
    "ax1.set_title(date_list_l8[idx] + ' - NDWI')\n",
    "\n",
    "plt.show()"
   ]
  },
  {
   "cell_type": "code",
   "execution_count": 103,
   "id": "5bd1ba73",
   "metadata": {},
   "outputs": [
    {
     "name": "stdout",
     "output_type": "stream",
     "text": [
      "03-02-2020\n",
      "{'bands': [{'crs': 'EPSG:32642',\n",
      "            'crs_transform': [30, 0, 680085, 0, -30, 2673615],\n",
      "            'data_type': {'max': 1,\n",
      "                          'min': -1,\n",
      "                          'precision': 'float',\n",
      "                          'type': 'PixelType'},\n",
      "            'dimensions': [7521, 7681],\n",
      "            'id': 'MNDWI'}],\n",
      " 'properties': {'system:index': 'LC08_149044_20200302'},\n",
      " 'type': 'Image'}\n"
     ]
    }
   ],
   "source": [
    "# Print image metadata\n",
    "\n",
    "import pprint\n",
    "i = 1\n",
    "print(date_list_l8[i])\n",
    "img = ee.Image(mndwi_l8_list.get(i)).select(['MNDWI']).clipToCollection(s1_boundary)\n",
    "pprint.pprint(img.getInfo())"
   ]
  },
  {
   "cell_type": "code",
   "execution_count": 38,
   "id": "eb956df7",
   "metadata": {},
   "outputs": [
    {
     "name": "stdout",
     "output_type": "stream",
     "text": [
      "51\n"
     ]
    }
   ],
   "source": [
    "print(n2)"
   ]
  },
  {
   "cell_type": "code",
   "execution_count": 39,
   "id": "5c02b949",
   "metadata": {},
   "outputs": [
    {
     "name": "stdout",
     "output_type": "stream",
     "text": [
      "30\n",
      "01-14-2020\n",
      "01-30-2020\n",
      "03-02-2020\n",
      "03-18-2020\n",
      "04-03-2020\n",
      "04-19-2020\n",
      "05-05-2020\n",
      "05-21-2020\n",
      "10-12-2020\n",
      "10-28-2020\n",
      "11-29-2020\n",
      "12-15-2020\n",
      "12-31-2020\n",
      "01-14-2020\n",
      "01-30-2020\n",
      "03-02-2020\n",
      "03-18-2020\n",
      "04-03-2020\n",
      "04-19-2020\n",
      "05-05-2020\n",
      "05-21-2020\n",
      "06-06-2020\n",
      "10-12-2020\n",
      "10-28-2020\n",
      "11-29-2020\n",
      "12-15-2020\n",
      "12-31-2020\n",
      "01-05-2020\n",
      "01-21-2020\n",
      "02-06-2020\n",
      "02-22-2020\n",
      "04-10-2020\n",
      "04-26-2020\n",
      "05-12-2020\n",
      "05-28-2020\n",
      "07-15-2020\n",
      "10-03-2020\n",
      "11-20-2020\n",
      "12-06-2020\n",
      "01-05-2020\n",
      "01-21-2020\n",
      "02-06-2020\n",
      "02-22-2020\n",
      "03-09-2020\n",
      "04-10-2020\n",
      "04-26-2020\n",
      "05-12-2020\n",
      "05-28-2020\n",
      "10-03-2020\n",
      "11-20-2020\n",
      "12-06-2020\n"
     ]
    }
   ],
   "source": [
    "# export landsat mndwi\n",
    "\n",
    "# try this to remove nans before exporting:  ee.Filter.notNull\n",
    "\n",
    "#print(ee.Image(mndwi_l8_list.get(0)).select('MNDWI').projection().crs().getInfo())\n",
    "ns = ee.Image(mndwi_l8_list.get(0)).select('MNDWI').projection().nominalScale().getInfo()\n",
    "print(ns)\n",
    "task_id = []\n",
    "\n",
    "for i in range(0,n2):\n",
    "    img = ee.Image(mndwi_l8_list.get(i)).select(['MNDWI']).clipToCollection(s1_boundary)\n",
    "    txt = 'l8_mndwi_nanda_bet_' + date_list_l8[i]\n",
    "    task = ee.batch.Export.image.toDrive(image=img,\n",
    "                                        description=txt,\n",
    "                                        scale=ns,\n",
    "                                        fileNamePrefix=txt,\n",
    "                                        crs='EPSG:4326',\n",
    "                                        fileFormat='GeoTIFF',\n",
    "                                        maxPixels=1e9,\n",
    "                                        region=s1_boundary.geometry())\n",
    "    task.start()\n",
    "    task_id.append(task.id)\n",
    "    print(date_list_l8[i])"
   ]
  },
  {
   "cell_type": "code",
   "execution_count": 45,
   "id": "c977e9b0",
   "metadata": {},
   "outputs": [
    {
     "ename": "ProtocolError",
     "evalue": "('Connection aborted.', TimeoutError(10060, 'A connection attempt failed because the connected party did not properly respond after a period of time, or established connection failed because connected host has failed to respond', None, 10060, None))",
     "output_type": "error",
     "traceback": [
      "\u001b[1;31m---------------------------------------------------------------------------\u001b[0m",
      "\u001b[1;31mTimeoutError\u001b[0m                              Traceback (most recent call last)",
      "File \u001b[1;32m~\\anaconda3\\envs\\nandabetenv\\lib\\site-packages\\urllib3\\connectionpool.py:703\u001b[0m, in \u001b[0;36mHTTPConnectionPool.urlopen\u001b[1;34m(self, method, url, body, headers, retries, redirect, assert_same_host, timeout, pool_timeout, release_conn, chunked, body_pos, **response_kw)\u001b[0m\n\u001b[0;32m    702\u001b[0m \u001b[38;5;66;03m# Make the request on the httplib connection object.\u001b[39;00m\n\u001b[1;32m--> 703\u001b[0m httplib_response \u001b[38;5;241m=\u001b[39m \u001b[38;5;28;43mself\u001b[39;49m\u001b[38;5;241;43m.\u001b[39;49m\u001b[43m_make_request\u001b[49m\u001b[43m(\u001b[49m\n\u001b[0;32m    704\u001b[0m \u001b[43m    \u001b[49m\u001b[43mconn\u001b[49m\u001b[43m,\u001b[49m\n\u001b[0;32m    705\u001b[0m \u001b[43m    \u001b[49m\u001b[43mmethod\u001b[49m\u001b[43m,\u001b[49m\n\u001b[0;32m    706\u001b[0m \u001b[43m    \u001b[49m\u001b[43murl\u001b[49m\u001b[43m,\u001b[49m\n\u001b[0;32m    707\u001b[0m \u001b[43m    \u001b[49m\u001b[43mtimeout\u001b[49m\u001b[38;5;241;43m=\u001b[39;49m\u001b[43mtimeout_obj\u001b[49m\u001b[43m,\u001b[49m\n\u001b[0;32m    708\u001b[0m \u001b[43m    \u001b[49m\u001b[43mbody\u001b[49m\u001b[38;5;241;43m=\u001b[39;49m\u001b[43mbody\u001b[49m\u001b[43m,\u001b[49m\n\u001b[0;32m    709\u001b[0m \u001b[43m    \u001b[49m\u001b[43mheaders\u001b[49m\u001b[38;5;241;43m=\u001b[39;49m\u001b[43mheaders\u001b[49m\u001b[43m,\u001b[49m\n\u001b[0;32m    710\u001b[0m \u001b[43m    \u001b[49m\u001b[43mchunked\u001b[49m\u001b[38;5;241;43m=\u001b[39;49m\u001b[43mchunked\u001b[49m\u001b[43m,\u001b[49m\n\u001b[0;32m    711\u001b[0m \u001b[43m\u001b[49m\u001b[43m)\u001b[49m\n\u001b[0;32m    713\u001b[0m \u001b[38;5;66;03m# If we're going to release the connection in ``finally:``, then\u001b[39;00m\n\u001b[0;32m    714\u001b[0m \u001b[38;5;66;03m# the response doesn't need to know about the connection. Otherwise\u001b[39;00m\n\u001b[0;32m    715\u001b[0m \u001b[38;5;66;03m# it will also try to release it and we'll have a double-release\u001b[39;00m\n\u001b[0;32m    716\u001b[0m \u001b[38;5;66;03m# mess.\u001b[39;00m\n",
      "File \u001b[1;32m~\\anaconda3\\envs\\nandabetenv\\lib\\site-packages\\urllib3\\connectionpool.py:449\u001b[0m, in \u001b[0;36mHTTPConnectionPool._make_request\u001b[1;34m(self, conn, method, url, timeout, chunked, **httplib_request_kw)\u001b[0m\n\u001b[0;32m    445\u001b[0m         \u001b[38;5;28;01mexcept\u001b[39;00m \u001b[38;5;167;01mBaseException\u001b[39;00m \u001b[38;5;28;01mas\u001b[39;00m e:\n\u001b[0;32m    446\u001b[0m             \u001b[38;5;66;03m# Remove the TypeError from the exception chain in\u001b[39;00m\n\u001b[0;32m    447\u001b[0m             \u001b[38;5;66;03m# Python 3 (including for exceptions like SystemExit).\u001b[39;00m\n\u001b[0;32m    448\u001b[0m             \u001b[38;5;66;03m# Otherwise it looks like a bug in the code.\u001b[39;00m\n\u001b[1;32m--> 449\u001b[0m             \u001b[43msix\u001b[49m\u001b[38;5;241;43m.\u001b[39;49m\u001b[43mraise_from\u001b[49m\u001b[43m(\u001b[49m\u001b[43me\u001b[49m\u001b[43m,\u001b[49m\u001b[43m \u001b[49m\u001b[38;5;28;43;01mNone\u001b[39;49;00m\u001b[43m)\u001b[49m\n\u001b[0;32m    450\u001b[0m \u001b[38;5;28;01mexcept\u001b[39;00m (SocketTimeout, BaseSSLError, SocketError) \u001b[38;5;28;01mas\u001b[39;00m e:\n",
      "File \u001b[1;32m<string>:3\u001b[0m, in \u001b[0;36mraise_from\u001b[1;34m(value, from_value)\u001b[0m\n",
      "File \u001b[1;32m~\\anaconda3\\envs\\nandabetenv\\lib\\site-packages\\urllib3\\connectionpool.py:444\u001b[0m, in \u001b[0;36mHTTPConnectionPool._make_request\u001b[1;34m(self, conn, method, url, timeout, chunked, **httplib_request_kw)\u001b[0m\n\u001b[0;32m    443\u001b[0m \u001b[38;5;28;01mtry\u001b[39;00m:\n\u001b[1;32m--> 444\u001b[0m     httplib_response \u001b[38;5;241m=\u001b[39m \u001b[43mconn\u001b[49m\u001b[38;5;241;43m.\u001b[39;49m\u001b[43mgetresponse\u001b[49m\u001b[43m(\u001b[49m\u001b[43m)\u001b[49m\n\u001b[0;32m    445\u001b[0m \u001b[38;5;28;01mexcept\u001b[39;00m \u001b[38;5;167;01mBaseException\u001b[39;00m \u001b[38;5;28;01mas\u001b[39;00m e:\n\u001b[0;32m    446\u001b[0m     \u001b[38;5;66;03m# Remove the TypeError from the exception chain in\u001b[39;00m\n\u001b[0;32m    447\u001b[0m     \u001b[38;5;66;03m# Python 3 (including for exceptions like SystemExit).\u001b[39;00m\n\u001b[0;32m    448\u001b[0m     \u001b[38;5;66;03m# Otherwise it looks like a bug in the code.\u001b[39;00m\n",
      "File \u001b[1;32m~\\anaconda3\\envs\\nandabetenv\\lib\\http\\client.py:1348\u001b[0m, in \u001b[0;36mHTTPConnection.getresponse\u001b[1;34m(self)\u001b[0m\n\u001b[0;32m   1347\u001b[0m \u001b[38;5;28;01mtry\u001b[39;00m:\n\u001b[1;32m-> 1348\u001b[0m     \u001b[43mresponse\u001b[49m\u001b[38;5;241;43m.\u001b[39;49m\u001b[43mbegin\u001b[49m\u001b[43m(\u001b[49m\u001b[43m)\u001b[49m\n\u001b[0;32m   1349\u001b[0m \u001b[38;5;28;01mexcept\u001b[39;00m \u001b[38;5;167;01mConnectionError\u001b[39;00m:\n",
      "File \u001b[1;32m~\\anaconda3\\envs\\nandabetenv\\lib\\http\\client.py:316\u001b[0m, in \u001b[0;36mHTTPResponse.begin\u001b[1;34m(self)\u001b[0m\n\u001b[0;32m    315\u001b[0m \u001b[38;5;28;01mwhile\u001b[39;00m \u001b[38;5;28;01mTrue\u001b[39;00m:\n\u001b[1;32m--> 316\u001b[0m     version, status, reason \u001b[38;5;241m=\u001b[39m \u001b[38;5;28;43mself\u001b[39;49m\u001b[38;5;241;43m.\u001b[39;49m\u001b[43m_read_status\u001b[49m\u001b[43m(\u001b[49m\u001b[43m)\u001b[49m\n\u001b[0;32m    317\u001b[0m     \u001b[38;5;28;01mif\u001b[39;00m status \u001b[38;5;241m!=\u001b[39m CONTINUE:\n",
      "File \u001b[1;32m~\\anaconda3\\envs\\nandabetenv\\lib\\http\\client.py:277\u001b[0m, in \u001b[0;36mHTTPResponse._read_status\u001b[1;34m(self)\u001b[0m\n\u001b[0;32m    276\u001b[0m \u001b[38;5;28;01mdef\u001b[39;00m \u001b[38;5;21m_read_status\u001b[39m(\u001b[38;5;28mself\u001b[39m):\n\u001b[1;32m--> 277\u001b[0m     line \u001b[38;5;241m=\u001b[39m \u001b[38;5;28mstr\u001b[39m(\u001b[38;5;28;43mself\u001b[39;49m\u001b[38;5;241;43m.\u001b[39;49m\u001b[43mfp\u001b[49m\u001b[38;5;241;43m.\u001b[39;49m\u001b[43mreadline\u001b[49m\u001b[43m(\u001b[49m\u001b[43m_MAXLINE\u001b[49m\u001b[43m \u001b[49m\u001b[38;5;241;43m+\u001b[39;49m\u001b[43m \u001b[49m\u001b[38;5;241;43m1\u001b[39;49m\u001b[43m)\u001b[49m, \u001b[38;5;124m\"\u001b[39m\u001b[38;5;124miso-8859-1\u001b[39m\u001b[38;5;124m\"\u001b[39m)\n\u001b[0;32m    278\u001b[0m     \u001b[38;5;28;01mif\u001b[39;00m \u001b[38;5;28mlen\u001b[39m(line) \u001b[38;5;241m>\u001b[39m _MAXLINE:\n",
      "File \u001b[1;32m~\\anaconda3\\envs\\nandabetenv\\lib\\socket.py:669\u001b[0m, in \u001b[0;36mSocketIO.readinto\u001b[1;34m(self, b)\u001b[0m\n\u001b[0;32m    668\u001b[0m \u001b[38;5;28;01mtry\u001b[39;00m:\n\u001b[1;32m--> 669\u001b[0m     \u001b[38;5;28;01mreturn\u001b[39;00m \u001b[38;5;28;43mself\u001b[39;49m\u001b[38;5;241;43m.\u001b[39;49m\u001b[43m_sock\u001b[49m\u001b[38;5;241;43m.\u001b[39;49m\u001b[43mrecv_into\u001b[49m\u001b[43m(\u001b[49m\u001b[43mb\u001b[49m\u001b[43m)\u001b[49m\n\u001b[0;32m    670\u001b[0m \u001b[38;5;28;01mexcept\u001b[39;00m timeout:\n",
      "File \u001b[1;32m~\\anaconda3\\envs\\nandabetenv\\lib\\ssl.py:1241\u001b[0m, in \u001b[0;36mSSLSocket.recv_into\u001b[1;34m(self, buffer, nbytes, flags)\u001b[0m\n\u001b[0;32m   1238\u001b[0m         \u001b[38;5;28;01mraise\u001b[39;00m \u001b[38;5;167;01mValueError\u001b[39;00m(\n\u001b[0;32m   1239\u001b[0m           \u001b[38;5;124m\"\u001b[39m\u001b[38;5;124mnon-zero flags not allowed in calls to recv_into() on \u001b[39m\u001b[38;5;132;01m%s\u001b[39;00m\u001b[38;5;124m\"\u001b[39m \u001b[38;5;241m%\u001b[39m\n\u001b[0;32m   1240\u001b[0m           \u001b[38;5;28mself\u001b[39m\u001b[38;5;241m.\u001b[39m\u001b[38;5;18m__class__\u001b[39m)\n\u001b[1;32m-> 1241\u001b[0m     \u001b[38;5;28;01mreturn\u001b[39;00m \u001b[38;5;28;43mself\u001b[39;49m\u001b[38;5;241;43m.\u001b[39;49m\u001b[43mread\u001b[49m\u001b[43m(\u001b[49m\u001b[43mnbytes\u001b[49m\u001b[43m,\u001b[49m\u001b[43m \u001b[49m\u001b[43mbuffer\u001b[49m\u001b[43m)\u001b[49m\n\u001b[0;32m   1242\u001b[0m \u001b[38;5;28;01melse\u001b[39;00m:\n",
      "File \u001b[1;32m~\\anaconda3\\envs\\nandabetenv\\lib\\ssl.py:1099\u001b[0m, in \u001b[0;36mSSLSocket.read\u001b[1;34m(self, len, buffer)\u001b[0m\n\u001b[0;32m   1098\u001b[0m \u001b[38;5;28;01mif\u001b[39;00m buffer \u001b[38;5;129;01mis\u001b[39;00m \u001b[38;5;129;01mnot\u001b[39;00m \u001b[38;5;28;01mNone\u001b[39;00m:\n\u001b[1;32m-> 1099\u001b[0m     \u001b[38;5;28;01mreturn\u001b[39;00m \u001b[38;5;28;43mself\u001b[39;49m\u001b[38;5;241;43m.\u001b[39;49m\u001b[43m_sslobj\u001b[49m\u001b[38;5;241;43m.\u001b[39;49m\u001b[43mread\u001b[49m\u001b[43m(\u001b[49m\u001b[38;5;28;43mlen\u001b[39;49m\u001b[43m,\u001b[49m\u001b[43m \u001b[49m\u001b[43mbuffer\u001b[49m\u001b[43m)\u001b[49m\n\u001b[0;32m   1100\u001b[0m \u001b[38;5;28;01melse\u001b[39;00m:\n",
      "\u001b[1;31mTimeoutError\u001b[0m: [WinError 10060] A connection attempt failed because the connected party did not properly respond after a period of time, or established connection failed because connected host has failed to respond",
      "\nDuring handling of the above exception, another exception occurred:\n",
      "\u001b[1;31mProtocolError\u001b[0m                             Traceback (most recent call last)",
      "Input \u001b[1;32mIn [45]\u001b[0m, in \u001b[0;36m<cell line: 1>\u001b[1;34m()\u001b[0m\n\u001b[1;32m----> 1\u001b[0m \u001b[43mtask\u001b[49m\u001b[38;5;241;43m.\u001b[39;49m\u001b[43mlist\u001b[49m\u001b[43m(\u001b[49m\u001b[43m)\u001b[49m\n",
      "File \u001b[1;32m~\\anaconda3\\envs\\nandabetenv\\lib\\site-packages\\ee\\batch.py:147\u001b[0m, in \u001b[0;36mTask.list\u001b[1;34m()\u001b[0m\n\u001b[0;32m    137\u001b[0m \u001b[38;5;129m@staticmethod\u001b[39m\n\u001b[0;32m    138\u001b[0m \u001b[38;5;28;01mdef\u001b[39;00m \u001b[38;5;21mlist\u001b[39m():\n\u001b[0;32m    139\u001b[0m   \u001b[38;5;124;03m\"\"\"Returns the tasks submitted to EE by the current user.\u001b[39;00m\n\u001b[0;32m    140\u001b[0m \n\u001b[0;32m    141\u001b[0m \u001b[38;5;124;03m  These include all currently running tasks as well as recently canceled or\u001b[39;00m\n\u001b[1;32m   (...)\u001b[0m\n\u001b[0;32m    145\u001b[0m \u001b[38;5;124;03m    A list of Tasks.\u001b[39;00m\n\u001b[0;32m    146\u001b[0m \u001b[38;5;124;03m  \"\"\"\u001b[39;00m\n\u001b[1;32m--> 147\u001b[0m   statuses \u001b[38;5;241m=\u001b[39m \u001b[43mdata\u001b[49m\u001b[38;5;241;43m.\u001b[39;49m\u001b[43mgetTaskList\u001b[49m\u001b[43m(\u001b[49m\u001b[43m)\u001b[49m\n\u001b[0;32m    148\u001b[0m   tasks \u001b[38;5;241m=\u001b[39m []\n\u001b[0;32m    149\u001b[0m   \u001b[38;5;28;01mfor\u001b[39;00m status \u001b[38;5;129;01min\u001b[39;00m statuses:\n",
      "File \u001b[1;32m~\\anaconda3\\envs\\nandabetenv\\lib\\site-packages\\ee\\deprecation.py:32\u001b[0m, in \u001b[0;36mDeprecated.<locals>.Decorator.<locals>.Wrapper\u001b[1;34m(*args, **kwargs)\u001b[0m\n\u001b[0;32m     25\u001b[0m \u001b[38;5;129m@functools\u001b[39m\u001b[38;5;241m.\u001b[39mwraps(func)\n\u001b[0;32m     26\u001b[0m \u001b[38;5;28;01mdef\u001b[39;00m \u001b[38;5;21mWrapper\u001b[39m(\u001b[38;5;241m*\u001b[39margs, \u001b[38;5;241m*\u001b[39m\u001b[38;5;241m*\u001b[39mkwargs):\n\u001b[0;32m     27\u001b[0m   warnings\u001b[38;5;241m.\u001b[39mwarn_explicit(\n\u001b[0;32m     28\u001b[0m       \u001b[38;5;124m'\u001b[39m\u001b[38;5;132;01m%s\u001b[39;00m\u001b[38;5;124m() is deprecated: \u001b[39m\u001b[38;5;132;01m%s\u001b[39;00m\u001b[38;5;124m'\u001b[39m \u001b[38;5;241m%\u001b[39m (func\u001b[38;5;241m.\u001b[39m\u001b[38;5;18m__name__\u001b[39m, message),\n\u001b[0;32m     29\u001b[0m       category\u001b[38;5;241m=\u001b[39m\u001b[38;5;167;01mDeprecationWarning\u001b[39;00m,\n\u001b[0;32m     30\u001b[0m       filename\u001b[38;5;241m=\u001b[39mfunc\u001b[38;5;241m.\u001b[39m\u001b[38;5;18m__code__\u001b[39m\u001b[38;5;241m.\u001b[39mco_filename,\n\u001b[0;32m     31\u001b[0m       lineno\u001b[38;5;241m=\u001b[39mfunc\u001b[38;5;241m.\u001b[39m\u001b[38;5;18m__code__\u001b[39m\u001b[38;5;241m.\u001b[39mco_firstlineno \u001b[38;5;241m+\u001b[39m \u001b[38;5;241m1\u001b[39m)\n\u001b[1;32m---> 32\u001b[0m   \u001b[38;5;28;01mreturn\u001b[39;00m \u001b[43mfunc\u001b[49m\u001b[43m(\u001b[49m\u001b[38;5;241;43m*\u001b[39;49m\u001b[43margs\u001b[49m\u001b[43m,\u001b[49m\u001b[43m \u001b[49m\u001b[38;5;241;43m*\u001b[39;49m\u001b[38;5;241;43m*\u001b[39;49m\u001b[43mkwargs\u001b[49m\u001b[43m)\u001b[49m\n",
      "File \u001b[1;32m~\\anaconda3\\envs\\nandabetenv\\lib\\site-packages\\ee\\data.py:1186\u001b[0m, in \u001b[0;36mgetTaskList\u001b[1;34m()\u001b[0m\n\u001b[0;32m   1176\u001b[0m \u001b[38;5;129m@deprecation\u001b[39m\u001b[38;5;241m.\u001b[39mDeprecated(\u001b[38;5;124m'\u001b[39m\u001b[38;5;124mUse listOperations\u001b[39m\u001b[38;5;124m'\u001b[39m)\n\u001b[0;32m   1177\u001b[0m \u001b[38;5;28;01mdef\u001b[39;00m \u001b[38;5;21mgetTaskList\u001b[39m():\n\u001b[0;32m   1178\u001b[0m   \u001b[38;5;124;03m\"\"\"Retrieves a list of the user's tasks.\u001b[39;00m\n\u001b[0;32m   1179\u001b[0m \n\u001b[0;32m   1180\u001b[0m \u001b[38;5;124;03m  Returns:\u001b[39;00m\n\u001b[1;32m   (...)\u001b[0m\n\u001b[0;32m   1183\u001b[0m \u001b[38;5;124;03m    canceled or failed tasks.\u001b[39;00m\n\u001b[0;32m   1184\u001b[0m \u001b[38;5;124;03m  \"\"\"\u001b[39;00m\n\u001b[0;32m   1185\u001b[0m   \u001b[38;5;28;01mreturn\u001b[39;00m [_cloud_api_utils\u001b[38;5;241m.\u001b[39mconvert_operation_to_task(o)\n\u001b[1;32m-> 1186\u001b[0m           \u001b[38;5;28;01mfor\u001b[39;00m o \u001b[38;5;129;01min\u001b[39;00m \u001b[43mlistOperations\u001b[49m\u001b[43m(\u001b[49m\u001b[43m)\u001b[49m]\n",
      "File \u001b[1;32m~\\anaconda3\\envs\\nandabetenv\\lib\\site-packages\\ee\\data.py:1207\u001b[0m, in \u001b[0;36mlistOperations\u001b[1;34m(project)\u001b[0m\n\u001b[0;32m   1205\u001b[0m \u001b[38;5;28;01mwhile\u001b[39;00m request \u001b[38;5;129;01mis\u001b[39;00m \u001b[38;5;129;01mnot\u001b[39;00m \u001b[38;5;28;01mNone\u001b[39;00m:\n\u001b[0;32m   1206\u001b[0m   \u001b[38;5;28;01mtry\u001b[39;00m:\n\u001b[1;32m-> 1207\u001b[0m     response \u001b[38;5;241m=\u001b[39m \u001b[43mrequest\u001b[49m\u001b[38;5;241;43m.\u001b[39;49m\u001b[43mexecute\u001b[49m\u001b[43m(\u001b[49m\u001b[43mnum_retries\u001b[49m\u001b[38;5;241;43m=\u001b[39;49m\u001b[43mMAX_RETRIES\u001b[49m\u001b[43m)\u001b[49m\n\u001b[0;32m   1208\u001b[0m     operations \u001b[38;5;241m+\u001b[39m\u001b[38;5;241m=\u001b[39m response\u001b[38;5;241m.\u001b[39mget(\u001b[38;5;124m'\u001b[39m\u001b[38;5;124moperations\u001b[39m\u001b[38;5;124m'\u001b[39m, [])\n\u001b[0;32m   1209\u001b[0m     request \u001b[38;5;241m=\u001b[39m _cloud_api_resource\u001b[38;5;241m.\u001b[39mprojects()\u001b[38;5;241m.\u001b[39moperations()\u001b[38;5;241m.\u001b[39mlist_next(\n\u001b[0;32m   1210\u001b[0m         request, response)\n",
      "File \u001b[1;32m~\\anaconda3\\envs\\nandabetenv\\lib\\site-packages\\googleapiclient\\_helpers.py:134\u001b[0m, in \u001b[0;36mpositional.<locals>.positional_decorator.<locals>.positional_wrapper\u001b[1;34m(*args, **kwargs)\u001b[0m\n\u001b[0;32m    132\u001b[0m     \u001b[38;5;28;01melif\u001b[39;00m positional_parameters_enforcement \u001b[38;5;241m==\u001b[39m POSITIONAL_WARNING:\n\u001b[0;32m    133\u001b[0m         logger\u001b[38;5;241m.\u001b[39mwarning(message)\n\u001b[1;32m--> 134\u001b[0m \u001b[38;5;28;01mreturn\u001b[39;00m \u001b[43mwrapped\u001b[49m\u001b[43m(\u001b[49m\u001b[38;5;241;43m*\u001b[39;49m\u001b[43margs\u001b[49m\u001b[43m,\u001b[49m\u001b[43m \u001b[49m\u001b[38;5;241;43m*\u001b[39;49m\u001b[38;5;241;43m*\u001b[39;49m\u001b[43mkwargs\u001b[49m\u001b[43m)\u001b[49m\n",
      "File \u001b[1;32m~\\anaconda3\\envs\\nandabetenv\\lib\\site-packages\\googleapiclient\\http.py:900\u001b[0m, in \u001b[0;36mHttpRequest.execute\u001b[1;34m(self, http, num_retries)\u001b[0m\n\u001b[0;32m    897\u001b[0m     \u001b[38;5;28mself\u001b[39m\u001b[38;5;241m.\u001b[39mheaders[\u001b[38;5;124m\"\u001b[39m\u001b[38;5;124mcontent-length\u001b[39m\u001b[38;5;124m\"\u001b[39m] \u001b[38;5;241m=\u001b[39m \u001b[38;5;28mstr\u001b[39m(\u001b[38;5;28mlen\u001b[39m(\u001b[38;5;28mself\u001b[39m\u001b[38;5;241m.\u001b[39mbody))\n\u001b[0;32m    899\u001b[0m \u001b[38;5;66;03m# Handle retries for server-side errors.\u001b[39;00m\n\u001b[1;32m--> 900\u001b[0m resp, content \u001b[38;5;241m=\u001b[39m \u001b[43m_retry_request\u001b[49m\u001b[43m(\u001b[49m\n\u001b[0;32m    901\u001b[0m \u001b[43m    \u001b[49m\u001b[43mhttp\u001b[49m\u001b[43m,\u001b[49m\n\u001b[0;32m    902\u001b[0m \u001b[43m    \u001b[49m\u001b[43mnum_retries\u001b[49m\u001b[43m,\u001b[49m\n\u001b[0;32m    903\u001b[0m \u001b[43m    \u001b[49m\u001b[38;5;124;43m\"\u001b[39;49m\u001b[38;5;124;43mrequest\u001b[39;49m\u001b[38;5;124;43m\"\u001b[39;49m\u001b[43m,\u001b[49m\n\u001b[0;32m    904\u001b[0m \u001b[43m    \u001b[49m\u001b[38;5;28;43mself\u001b[39;49m\u001b[38;5;241;43m.\u001b[39;49m\u001b[43m_sleep\u001b[49m\u001b[43m,\u001b[49m\n\u001b[0;32m    905\u001b[0m \u001b[43m    \u001b[49m\u001b[38;5;28;43mself\u001b[39;49m\u001b[38;5;241;43m.\u001b[39;49m\u001b[43m_rand\u001b[49m\u001b[43m,\u001b[49m\n\u001b[0;32m    906\u001b[0m \u001b[43m    \u001b[49m\u001b[38;5;28;43mstr\u001b[39;49m\u001b[43m(\u001b[49m\u001b[38;5;28;43mself\u001b[39;49m\u001b[38;5;241;43m.\u001b[39;49m\u001b[43muri\u001b[49m\u001b[43m)\u001b[49m\u001b[43m,\u001b[49m\n\u001b[0;32m    907\u001b[0m \u001b[43m    \u001b[49m\u001b[43mmethod\u001b[49m\u001b[38;5;241;43m=\u001b[39;49m\u001b[38;5;28;43mstr\u001b[39;49m\u001b[43m(\u001b[49m\u001b[38;5;28;43mself\u001b[39;49m\u001b[38;5;241;43m.\u001b[39;49m\u001b[43mmethod\u001b[49m\u001b[43m)\u001b[49m\u001b[43m,\u001b[49m\n\u001b[0;32m    908\u001b[0m \u001b[43m    \u001b[49m\u001b[43mbody\u001b[49m\u001b[38;5;241;43m=\u001b[39;49m\u001b[38;5;28;43mself\u001b[39;49m\u001b[38;5;241;43m.\u001b[39;49m\u001b[43mbody\u001b[49m\u001b[43m,\u001b[49m\n\u001b[0;32m    909\u001b[0m \u001b[43m    \u001b[49m\u001b[43mheaders\u001b[49m\u001b[38;5;241;43m=\u001b[39;49m\u001b[38;5;28;43mself\u001b[39;49m\u001b[38;5;241;43m.\u001b[39;49m\u001b[43mheaders\u001b[49m\u001b[43m,\u001b[49m\n\u001b[0;32m    910\u001b[0m \u001b[43m\u001b[49m\u001b[43m)\u001b[49m\n\u001b[0;32m    912\u001b[0m \u001b[38;5;28;01mfor\u001b[39;00m callback \u001b[38;5;129;01min\u001b[39;00m \u001b[38;5;28mself\u001b[39m\u001b[38;5;241m.\u001b[39mresponse_callbacks:\n\u001b[0;32m    913\u001b[0m     callback(resp)\n",
      "File \u001b[1;32m~\\anaconda3\\envs\\nandabetenv\\lib\\site-packages\\googleapiclient\\http.py:177\u001b[0m, in \u001b[0;36m_retry_request\u001b[1;34m(http, num_retries, req_type, sleep, rand, uri, method, *args, **kwargs)\u001b[0m\n\u001b[0;32m    175\u001b[0m \u001b[38;5;28;01mtry\u001b[39;00m:\n\u001b[0;32m    176\u001b[0m     exception \u001b[38;5;241m=\u001b[39m \u001b[38;5;28;01mNone\u001b[39;00m\n\u001b[1;32m--> 177\u001b[0m     resp, content \u001b[38;5;241m=\u001b[39m \u001b[43mhttp\u001b[49m\u001b[38;5;241;43m.\u001b[39;49m\u001b[43mrequest\u001b[49m\u001b[43m(\u001b[49m\u001b[43muri\u001b[49m\u001b[43m,\u001b[49m\u001b[43m \u001b[49m\u001b[43mmethod\u001b[49m\u001b[43m,\u001b[49m\u001b[43m \u001b[49m\u001b[38;5;241;43m*\u001b[39;49m\u001b[43margs\u001b[49m\u001b[43m,\u001b[49m\u001b[43m \u001b[49m\u001b[38;5;241;43m*\u001b[39;49m\u001b[38;5;241;43m*\u001b[39;49m\u001b[43mkwargs\u001b[49m\u001b[43m)\u001b[49m\n\u001b[0;32m    178\u001b[0m \u001b[38;5;66;03m# Retry on SSL errors and socket timeout errors.\u001b[39;00m\n\u001b[0;32m    179\u001b[0m \u001b[38;5;28;01mexcept\u001b[39;00m _ssl_SSLError \u001b[38;5;28;01mas\u001b[39;00m ssl_error:\n",
      "File \u001b[1;32m~\\anaconda3\\envs\\nandabetenv\\lib\\site-packages\\google_auth_httplib2.py:218\u001b[0m, in \u001b[0;36mAuthorizedHttp.request\u001b[1;34m(self, uri, method, body, headers, redirections, connection_type, **kwargs)\u001b[0m\n\u001b[0;32m    215\u001b[0m     body_stream_position \u001b[38;5;241m=\u001b[39m body\u001b[38;5;241m.\u001b[39mtell()\n\u001b[0;32m    217\u001b[0m \u001b[38;5;66;03m# Make the request.\u001b[39;00m\n\u001b[1;32m--> 218\u001b[0m response, content \u001b[38;5;241m=\u001b[39m \u001b[38;5;28;43mself\u001b[39;49m\u001b[38;5;241;43m.\u001b[39;49m\u001b[43mhttp\u001b[49m\u001b[38;5;241;43m.\u001b[39;49m\u001b[43mrequest\u001b[49m\u001b[43m(\u001b[49m\n\u001b[0;32m    219\u001b[0m \u001b[43m    \u001b[49m\u001b[43muri\u001b[49m\u001b[43m,\u001b[49m\n\u001b[0;32m    220\u001b[0m \u001b[43m    \u001b[49m\u001b[43mmethod\u001b[49m\u001b[43m,\u001b[49m\n\u001b[0;32m    221\u001b[0m \u001b[43m    \u001b[49m\u001b[43mbody\u001b[49m\u001b[38;5;241;43m=\u001b[39;49m\u001b[43mbody\u001b[49m\u001b[43m,\u001b[49m\n\u001b[0;32m    222\u001b[0m \u001b[43m    \u001b[49m\u001b[43mheaders\u001b[49m\u001b[38;5;241;43m=\u001b[39;49m\u001b[43mrequest_headers\u001b[49m\u001b[43m,\u001b[49m\n\u001b[0;32m    223\u001b[0m \u001b[43m    \u001b[49m\u001b[43mredirections\u001b[49m\u001b[38;5;241;43m=\u001b[39;49m\u001b[43mredirections\u001b[49m\u001b[43m,\u001b[49m\n\u001b[0;32m    224\u001b[0m \u001b[43m    \u001b[49m\u001b[43mconnection_type\u001b[49m\u001b[38;5;241;43m=\u001b[39;49m\u001b[43mconnection_type\u001b[49m\u001b[43m,\u001b[49m\n\u001b[0;32m    225\u001b[0m \u001b[43m    \u001b[49m\u001b[38;5;241;43m*\u001b[39;49m\u001b[38;5;241;43m*\u001b[39;49m\u001b[43mkwargs\u001b[49m\n\u001b[0;32m    226\u001b[0m \u001b[43m\u001b[49m\u001b[43m)\u001b[49m\n\u001b[0;32m    228\u001b[0m \u001b[38;5;66;03m# If the response indicated that the credentials needed to be\u001b[39;00m\n\u001b[0;32m    229\u001b[0m \u001b[38;5;66;03m# refreshed, then refresh the credentials and re-attempt the\u001b[39;00m\n\u001b[0;32m    230\u001b[0m \u001b[38;5;66;03m# request.\u001b[39;00m\n\u001b[0;32m    231\u001b[0m \u001b[38;5;66;03m# A stored token may expire between the time it is retrieved and\u001b[39;00m\n\u001b[0;32m    232\u001b[0m \u001b[38;5;66;03m# the time the request is made, so we may need to try twice.\u001b[39;00m\n\u001b[0;32m    233\u001b[0m \u001b[38;5;28;01mif\u001b[39;00m (\n\u001b[0;32m    234\u001b[0m     response\u001b[38;5;241m.\u001b[39mstatus \u001b[38;5;129;01min\u001b[39;00m \u001b[38;5;28mself\u001b[39m\u001b[38;5;241m.\u001b[39m_refresh_status_codes\n\u001b[0;32m    235\u001b[0m     \u001b[38;5;129;01mand\u001b[39;00m _credential_refresh_attempt \u001b[38;5;241m<\u001b[39m \u001b[38;5;28mself\u001b[39m\u001b[38;5;241m.\u001b[39m_max_refresh_attempts\n\u001b[0;32m    236\u001b[0m ):\n",
      "File \u001b[1;32m~\\anaconda3\\envs\\nandabetenv\\lib\\site-packages\\httplib2\\__init__.py:1701\u001b[0m, in \u001b[0;36mHttp.request\u001b[1;34m(self, uri, method, body, headers, redirections, connection_type)\u001b[0m\n\u001b[0;32m   1699\u001b[0m             content \u001b[38;5;241m=\u001b[39m \u001b[38;5;124mb\u001b[39m\u001b[38;5;124m\"\u001b[39m\u001b[38;5;124m\"\u001b[39m\n\u001b[0;32m   1700\u001b[0m         \u001b[38;5;28;01melse\u001b[39;00m:\n\u001b[1;32m-> 1701\u001b[0m             (response, content) \u001b[38;5;241m=\u001b[39m \u001b[38;5;28;43mself\u001b[39;49m\u001b[38;5;241;43m.\u001b[39;49m\u001b[43m_request\u001b[49m\u001b[43m(\u001b[49m\n\u001b[0;32m   1702\u001b[0m \u001b[43m                \u001b[49m\u001b[43mconn\u001b[49m\u001b[43m,\u001b[49m\u001b[43m \u001b[49m\u001b[43mauthority\u001b[49m\u001b[43m,\u001b[49m\u001b[43m \u001b[49m\u001b[43muri\u001b[49m\u001b[43m,\u001b[49m\u001b[43m \u001b[49m\u001b[43mrequest_uri\u001b[49m\u001b[43m,\u001b[49m\u001b[43m \u001b[49m\u001b[43mmethod\u001b[49m\u001b[43m,\u001b[49m\u001b[43m \u001b[49m\u001b[43mbody\u001b[49m\u001b[43m,\u001b[49m\u001b[43m \u001b[49m\u001b[43mheaders\u001b[49m\u001b[43m,\u001b[49m\u001b[43m \u001b[49m\u001b[43mredirections\u001b[49m\u001b[43m,\u001b[49m\u001b[43m \u001b[49m\u001b[43mcachekey\u001b[49m\u001b[43m,\u001b[49m\n\u001b[0;32m   1703\u001b[0m \u001b[43m            \u001b[49m\u001b[43m)\u001b[49m\n\u001b[0;32m   1704\u001b[0m \u001b[38;5;28;01mexcept\u001b[39;00m \u001b[38;5;167;01mException\u001b[39;00m \u001b[38;5;28;01mas\u001b[39;00m e:\n\u001b[0;32m   1705\u001b[0m     is_timeout \u001b[38;5;241m=\u001b[39m \u001b[38;5;28misinstance\u001b[39m(e, socket\u001b[38;5;241m.\u001b[39mtimeout)\n",
      "File \u001b[1;32m~\\anaconda3\\envs\\nandabetenv\\lib\\site-packages\\httplib2\\__init__.py:1421\u001b[0m, in \u001b[0;36mHttp._request\u001b[1;34m(self, conn, host, absolute_uri, request_uri, method, body, headers, redirections, cachekey)\u001b[0m\n\u001b[0;32m   1418\u001b[0m \u001b[38;5;28;01mif\u001b[39;00m auth:\n\u001b[0;32m   1419\u001b[0m     auth\u001b[38;5;241m.\u001b[39mrequest(method, request_uri, headers, body)\n\u001b[1;32m-> 1421\u001b[0m (response, content) \u001b[38;5;241m=\u001b[39m \u001b[38;5;28;43mself\u001b[39;49m\u001b[38;5;241;43m.\u001b[39;49m\u001b[43m_conn_request\u001b[49m\u001b[43m(\u001b[49m\u001b[43mconn\u001b[49m\u001b[43m,\u001b[49m\u001b[43m \u001b[49m\u001b[43mrequest_uri\u001b[49m\u001b[43m,\u001b[49m\u001b[43m \u001b[49m\u001b[43mmethod\u001b[49m\u001b[43m,\u001b[49m\u001b[43m \u001b[49m\u001b[43mbody\u001b[49m\u001b[43m,\u001b[49m\u001b[43m \u001b[49m\u001b[43mheaders\u001b[49m\u001b[43m)\u001b[49m\n\u001b[0;32m   1423\u001b[0m \u001b[38;5;28;01mif\u001b[39;00m auth:\n\u001b[0;32m   1424\u001b[0m     \u001b[38;5;28;01mif\u001b[39;00m auth\u001b[38;5;241m.\u001b[39mresponse(response, body):\n",
      "File \u001b[1;32m~\\anaconda3\\envs\\nandabetenv\\lib\\site-packages\\httplib2shim\\__init__.py:154\u001b[0m, in \u001b[0;36mHttp._conn_request\u001b[1;34m(self, conn, request_uri, method, body, headers)\u001b[0m\n\u001b[0;32m    151\u001b[0m     content \u001b[38;5;241m=\u001b[39m urllib3_response\u001b[38;5;241m.\u001b[39mdata\n\u001b[0;32m    153\u001b[0m \u001b[38;5;28;01mexcept\u001b[39;00m \u001b[38;5;167;01mException\u001b[39;00m \u001b[38;5;28;01mas\u001b[39;00m e:\n\u001b[1;32m--> 154\u001b[0m     \u001b[38;5;28;01mraise\u001b[39;00m _map_exception(e)\n\u001b[0;32m    156\u001b[0m \u001b[38;5;28;01mreturn\u001b[39;00m response, content\n",
      "File \u001b[1;32m~\\anaconda3\\envs\\nandabetenv\\lib\\site-packages\\httplib2shim\\__init__.py:140\u001b[0m, in \u001b[0;36mHttp._conn_request\u001b[1;34m(self, conn, request_uri, method, body, headers)\u001b[0m\n\u001b[0;32m    137\u001b[0m decode \u001b[38;5;241m=\u001b[39m \u001b[38;5;28;01mTrue\u001b[39;00m \u001b[38;5;28;01mif\u001b[39;00m method \u001b[38;5;241m!=\u001b[39m \u001b[38;5;124m'\u001b[39m\u001b[38;5;124mHEAD\u001b[39m\u001b[38;5;124m'\u001b[39m \u001b[38;5;28;01melse\u001b[39;00m \u001b[38;5;28;01mFalse\u001b[39;00m\n\u001b[0;32m    139\u001b[0m \u001b[38;5;28;01mtry\u001b[39;00m:\n\u001b[1;32m--> 140\u001b[0m     urllib3_response \u001b[38;5;241m=\u001b[39m \u001b[38;5;28;43mself\u001b[39;49m\u001b[38;5;241;43m.\u001b[39;49m\u001b[43mpool\u001b[49m\u001b[38;5;241;43m.\u001b[39;49m\u001b[43mrequest\u001b[49m\u001b[43m(\u001b[49m\n\u001b[0;32m    141\u001b[0m \u001b[43m        \u001b[49m\u001b[43mmethod\u001b[49m\u001b[43m,\u001b[49m\n\u001b[0;32m    142\u001b[0m \u001b[43m        \u001b[49m\u001b[43mfull_uri\u001b[49m\u001b[43m,\u001b[49m\n\u001b[0;32m    143\u001b[0m \u001b[43m        \u001b[49m\u001b[43mbody\u001b[49m\u001b[38;5;241;43m=\u001b[39;49m\u001b[43mbody\u001b[49m\u001b[43m,\u001b[49m\n\u001b[0;32m    144\u001b[0m \u001b[43m        \u001b[49m\u001b[43mheaders\u001b[49m\u001b[38;5;241;43m=\u001b[39;49m\u001b[43mheaders\u001b[49m\u001b[43m,\u001b[49m\n\u001b[0;32m    145\u001b[0m \u001b[43m        \u001b[49m\u001b[43mredirect\u001b[49m\u001b[38;5;241;43m=\u001b[39;49m\u001b[38;5;28;43;01mFalse\u001b[39;49;00m\u001b[43m,\u001b[49m\n\u001b[0;32m    146\u001b[0m \u001b[43m        \u001b[49m\u001b[43mretries\u001b[49m\u001b[38;5;241;43m=\u001b[39;49m\u001b[43murllib3\u001b[49m\u001b[38;5;241;43m.\u001b[39;49m\u001b[43mRetry\u001b[49m\u001b[43m(\u001b[49m\u001b[43mtotal\u001b[49m\u001b[38;5;241;43m=\u001b[39;49m\u001b[38;5;28;43;01mFalse\u001b[39;49;00m\u001b[43m,\u001b[49m\u001b[43m \u001b[49m\u001b[43mredirect\u001b[49m\u001b[38;5;241;43m=\u001b[39;49m\u001b[38;5;241;43m0\u001b[39;49m\u001b[43m)\u001b[49m\u001b[43m,\u001b[49m\n\u001b[0;32m    147\u001b[0m \u001b[43m        \u001b[49m\u001b[43mtimeout\u001b[49m\u001b[38;5;241;43m=\u001b[39;49m\u001b[43murllib3\u001b[49m\u001b[38;5;241;43m.\u001b[39;49m\u001b[43mTimeout\u001b[49m\u001b[43m(\u001b[49m\u001b[43mtotal\u001b[49m\u001b[38;5;241;43m=\u001b[39;49m\u001b[38;5;28;43mself\u001b[39;49m\u001b[38;5;241;43m.\u001b[39;49m\u001b[43mtimeout\u001b[49m\u001b[43m)\u001b[49m\u001b[43m,\u001b[49m\n\u001b[0;32m    148\u001b[0m \u001b[43m        \u001b[49m\u001b[43mdecode_content\u001b[49m\u001b[38;5;241;43m=\u001b[39;49m\u001b[43mdecode\u001b[49m\u001b[43m)\u001b[49m\n\u001b[0;32m    150\u001b[0m     response \u001b[38;5;241m=\u001b[39m _map_response(urllib3_response, decode\u001b[38;5;241m=\u001b[39mdecode)\n\u001b[0;32m    151\u001b[0m     content \u001b[38;5;241m=\u001b[39m urllib3_response\u001b[38;5;241m.\u001b[39mdata\n",
      "File \u001b[1;32m~\\anaconda3\\envs\\nandabetenv\\lib\\site-packages\\urllib3\\request.py:74\u001b[0m, in \u001b[0;36mRequestMethods.request\u001b[1;34m(self, method, url, fields, headers, **urlopen_kw)\u001b[0m\n\u001b[0;32m     71\u001b[0m urlopen_kw[\u001b[38;5;124m\"\u001b[39m\u001b[38;5;124mrequest_url\u001b[39m\u001b[38;5;124m\"\u001b[39m] \u001b[38;5;241m=\u001b[39m url\n\u001b[0;32m     73\u001b[0m \u001b[38;5;28;01mif\u001b[39;00m method \u001b[38;5;129;01min\u001b[39;00m \u001b[38;5;28mself\u001b[39m\u001b[38;5;241m.\u001b[39m_encode_url_methods:\n\u001b[1;32m---> 74\u001b[0m     \u001b[38;5;28;01mreturn\u001b[39;00m \u001b[38;5;28;43mself\u001b[39;49m\u001b[38;5;241;43m.\u001b[39;49m\u001b[43mrequest_encode_url\u001b[49m\u001b[43m(\u001b[49m\n\u001b[0;32m     75\u001b[0m \u001b[43m        \u001b[49m\u001b[43mmethod\u001b[49m\u001b[43m,\u001b[49m\u001b[43m \u001b[49m\u001b[43murl\u001b[49m\u001b[43m,\u001b[49m\u001b[43m \u001b[49m\u001b[43mfields\u001b[49m\u001b[38;5;241;43m=\u001b[39;49m\u001b[43mfields\u001b[49m\u001b[43m,\u001b[49m\u001b[43m \u001b[49m\u001b[43mheaders\u001b[49m\u001b[38;5;241;43m=\u001b[39;49m\u001b[43mheaders\u001b[49m\u001b[43m,\u001b[49m\u001b[43m \u001b[49m\u001b[38;5;241;43m*\u001b[39;49m\u001b[38;5;241;43m*\u001b[39;49m\u001b[43murlopen_kw\u001b[49m\n\u001b[0;32m     76\u001b[0m \u001b[43m    \u001b[49m\u001b[43m)\u001b[49m\n\u001b[0;32m     77\u001b[0m \u001b[38;5;28;01melse\u001b[39;00m:\n\u001b[0;32m     78\u001b[0m     \u001b[38;5;28;01mreturn\u001b[39;00m \u001b[38;5;28mself\u001b[39m\u001b[38;5;241m.\u001b[39mrequest_encode_body(\n\u001b[0;32m     79\u001b[0m         method, url, fields\u001b[38;5;241m=\u001b[39mfields, headers\u001b[38;5;241m=\u001b[39mheaders, \u001b[38;5;241m*\u001b[39m\u001b[38;5;241m*\u001b[39murlopen_kw\n\u001b[0;32m     80\u001b[0m     )\n",
      "File \u001b[1;32m~\\anaconda3\\envs\\nandabetenv\\lib\\site-packages\\urllib3\\request.py:96\u001b[0m, in \u001b[0;36mRequestMethods.request_encode_url\u001b[1;34m(self, method, url, fields, headers, **urlopen_kw)\u001b[0m\n\u001b[0;32m     93\u001b[0m \u001b[38;5;28;01mif\u001b[39;00m fields:\n\u001b[0;32m     94\u001b[0m     url \u001b[38;5;241m+\u001b[39m\u001b[38;5;241m=\u001b[39m \u001b[38;5;124m\"\u001b[39m\u001b[38;5;124m?\u001b[39m\u001b[38;5;124m\"\u001b[39m \u001b[38;5;241m+\u001b[39m urlencode(fields)\n\u001b[1;32m---> 96\u001b[0m \u001b[38;5;28;01mreturn\u001b[39;00m \u001b[38;5;28;43mself\u001b[39;49m\u001b[38;5;241;43m.\u001b[39;49m\u001b[43murlopen\u001b[49m\u001b[43m(\u001b[49m\u001b[43mmethod\u001b[49m\u001b[43m,\u001b[49m\u001b[43m \u001b[49m\u001b[43murl\u001b[49m\u001b[43m,\u001b[49m\u001b[43m \u001b[49m\u001b[38;5;241;43m*\u001b[39;49m\u001b[38;5;241;43m*\u001b[39;49m\u001b[43mextra_kw\u001b[49m\u001b[43m)\u001b[49m\n",
      "File \u001b[1;32m~\\anaconda3\\envs\\nandabetenv\\lib\\site-packages\\urllib3\\poolmanager.py:376\u001b[0m, in \u001b[0;36mPoolManager.urlopen\u001b[1;34m(self, method, url, redirect, **kw)\u001b[0m\n\u001b[0;32m    374\u001b[0m     response \u001b[38;5;241m=\u001b[39m conn\u001b[38;5;241m.\u001b[39murlopen(method, url, \u001b[38;5;241m*\u001b[39m\u001b[38;5;241m*\u001b[39mkw)\n\u001b[0;32m    375\u001b[0m \u001b[38;5;28;01melse\u001b[39;00m:\n\u001b[1;32m--> 376\u001b[0m     response \u001b[38;5;241m=\u001b[39m \u001b[43mconn\u001b[49m\u001b[38;5;241;43m.\u001b[39;49m\u001b[43murlopen\u001b[49m\u001b[43m(\u001b[49m\u001b[43mmethod\u001b[49m\u001b[43m,\u001b[49m\u001b[43m \u001b[49m\u001b[43mu\u001b[49m\u001b[38;5;241;43m.\u001b[39;49m\u001b[43mrequest_uri\u001b[49m\u001b[43m,\u001b[49m\u001b[43m \u001b[49m\u001b[38;5;241;43m*\u001b[39;49m\u001b[38;5;241;43m*\u001b[39;49m\u001b[43mkw\u001b[49m\u001b[43m)\u001b[49m\n\u001b[0;32m    378\u001b[0m redirect_location \u001b[38;5;241m=\u001b[39m redirect \u001b[38;5;129;01mand\u001b[39;00m response\u001b[38;5;241m.\u001b[39mget_redirect_location()\n\u001b[0;32m    379\u001b[0m \u001b[38;5;28;01mif\u001b[39;00m \u001b[38;5;129;01mnot\u001b[39;00m redirect_location:\n",
      "File \u001b[1;32m~\\anaconda3\\envs\\nandabetenv\\lib\\site-packages\\urllib3\\connectionpool.py:787\u001b[0m, in \u001b[0;36mHTTPConnectionPool.urlopen\u001b[1;34m(self, method, url, body, headers, retries, redirect, assert_same_host, timeout, pool_timeout, release_conn, chunked, body_pos, **response_kw)\u001b[0m\n\u001b[0;32m    784\u001b[0m \u001b[38;5;28;01melif\u001b[39;00m \u001b[38;5;28misinstance\u001b[39m(e, (SocketError, HTTPException)):\n\u001b[0;32m    785\u001b[0m     e \u001b[38;5;241m=\u001b[39m ProtocolError(\u001b[38;5;124m\"\u001b[39m\u001b[38;5;124mConnection aborted.\u001b[39m\u001b[38;5;124m\"\u001b[39m, e)\n\u001b[1;32m--> 787\u001b[0m retries \u001b[38;5;241m=\u001b[39m \u001b[43mretries\u001b[49m\u001b[38;5;241;43m.\u001b[39;49m\u001b[43mincrement\u001b[49m\u001b[43m(\u001b[49m\n\u001b[0;32m    788\u001b[0m \u001b[43m    \u001b[49m\u001b[43mmethod\u001b[49m\u001b[43m,\u001b[49m\u001b[43m \u001b[49m\u001b[43murl\u001b[49m\u001b[43m,\u001b[49m\u001b[43m \u001b[49m\u001b[43merror\u001b[49m\u001b[38;5;241;43m=\u001b[39;49m\u001b[43me\u001b[49m\u001b[43m,\u001b[49m\u001b[43m \u001b[49m\u001b[43m_pool\u001b[49m\u001b[38;5;241;43m=\u001b[39;49m\u001b[38;5;28;43mself\u001b[39;49m\u001b[43m,\u001b[49m\u001b[43m \u001b[49m\u001b[43m_stacktrace\u001b[49m\u001b[38;5;241;43m=\u001b[39;49m\u001b[43msys\u001b[49m\u001b[38;5;241;43m.\u001b[39;49m\u001b[43mexc_info\u001b[49m\u001b[43m(\u001b[49m\u001b[43m)\u001b[49m\u001b[43m[\u001b[49m\u001b[38;5;241;43m2\u001b[39;49m\u001b[43m]\u001b[49m\n\u001b[0;32m    789\u001b[0m \u001b[43m\u001b[49m\u001b[43m)\u001b[49m\n\u001b[0;32m    790\u001b[0m retries\u001b[38;5;241m.\u001b[39msleep()\n\u001b[0;32m    792\u001b[0m \u001b[38;5;66;03m# Keep track of the error for the retry warning.\u001b[39;00m\n",
      "File \u001b[1;32m~\\anaconda3\\envs\\nandabetenv\\lib\\site-packages\\urllib3\\util\\retry.py:525\u001b[0m, in \u001b[0;36mRetry.increment\u001b[1;34m(self, method, url, response, error, _pool, _stacktrace)\u001b[0m\n\u001b[0;32m    513\u001b[0m \u001b[38;5;124;03m\"\"\"Return a new Retry object with incremented retry counters.\u001b[39;00m\n\u001b[0;32m    514\u001b[0m \n\u001b[0;32m    515\u001b[0m \u001b[38;5;124;03m:param response: A response object, or None, if the server did not\u001b[39;00m\n\u001b[1;32m   (...)\u001b[0m\n\u001b[0;32m    521\u001b[0m \u001b[38;5;124;03m:return: A new ``Retry`` object.\u001b[39;00m\n\u001b[0;32m    522\u001b[0m \u001b[38;5;124;03m\"\"\"\u001b[39;00m\n\u001b[0;32m    523\u001b[0m \u001b[38;5;28;01mif\u001b[39;00m \u001b[38;5;28mself\u001b[39m\u001b[38;5;241m.\u001b[39mtotal \u001b[38;5;129;01mis\u001b[39;00m \u001b[38;5;28;01mFalse\u001b[39;00m \u001b[38;5;129;01mand\u001b[39;00m error:\n\u001b[0;32m    524\u001b[0m     \u001b[38;5;66;03m# Disabled, indicate to re-raise the error.\u001b[39;00m\n\u001b[1;32m--> 525\u001b[0m     \u001b[38;5;28;01mraise\u001b[39;00m \u001b[43msix\u001b[49m\u001b[38;5;241;43m.\u001b[39;49m\u001b[43mreraise\u001b[49m\u001b[43m(\u001b[49m\u001b[38;5;28;43mtype\u001b[39;49m\u001b[43m(\u001b[49m\u001b[43merror\u001b[49m\u001b[43m)\u001b[49m\u001b[43m,\u001b[49m\u001b[43m \u001b[49m\u001b[43merror\u001b[49m\u001b[43m,\u001b[49m\u001b[43m \u001b[49m\u001b[43m_stacktrace\u001b[49m\u001b[43m)\u001b[49m\n\u001b[0;32m    527\u001b[0m total \u001b[38;5;241m=\u001b[39m \u001b[38;5;28mself\u001b[39m\u001b[38;5;241m.\u001b[39mtotal\n\u001b[0;32m    528\u001b[0m \u001b[38;5;28;01mif\u001b[39;00m total \u001b[38;5;129;01mis\u001b[39;00m \u001b[38;5;129;01mnot\u001b[39;00m \u001b[38;5;28;01mNone\u001b[39;00m:\n",
      "File \u001b[1;32m~\\anaconda3\\envs\\nandabetenv\\lib\\site-packages\\urllib3\\packages\\six.py:769\u001b[0m, in \u001b[0;36mreraise\u001b[1;34m(tp, value, tb)\u001b[0m\n\u001b[0;32m    767\u001b[0m         value \u001b[38;5;241m=\u001b[39m tp()\n\u001b[0;32m    768\u001b[0m     \u001b[38;5;28;01mif\u001b[39;00m value\u001b[38;5;241m.\u001b[39m__traceback__ \u001b[38;5;129;01mis\u001b[39;00m \u001b[38;5;129;01mnot\u001b[39;00m tb:\n\u001b[1;32m--> 769\u001b[0m         \u001b[38;5;28;01mraise\u001b[39;00m value\u001b[38;5;241m.\u001b[39mwith_traceback(tb)\n\u001b[0;32m    770\u001b[0m     \u001b[38;5;28;01mraise\u001b[39;00m value\n\u001b[0;32m    771\u001b[0m \u001b[38;5;28;01mfinally\u001b[39;00m:\n",
      "File \u001b[1;32m~\\anaconda3\\envs\\nandabetenv\\lib\\site-packages\\urllib3\\connectionpool.py:703\u001b[0m, in \u001b[0;36mHTTPConnectionPool.urlopen\u001b[1;34m(self, method, url, body, headers, retries, redirect, assert_same_host, timeout, pool_timeout, release_conn, chunked, body_pos, **response_kw)\u001b[0m\n\u001b[0;32m    700\u001b[0m     \u001b[38;5;28mself\u001b[39m\u001b[38;5;241m.\u001b[39m_prepare_proxy(conn)\n\u001b[0;32m    702\u001b[0m \u001b[38;5;66;03m# Make the request on the httplib connection object.\u001b[39;00m\n\u001b[1;32m--> 703\u001b[0m httplib_response \u001b[38;5;241m=\u001b[39m \u001b[38;5;28;43mself\u001b[39;49m\u001b[38;5;241;43m.\u001b[39;49m\u001b[43m_make_request\u001b[49m\u001b[43m(\u001b[49m\n\u001b[0;32m    704\u001b[0m \u001b[43m    \u001b[49m\u001b[43mconn\u001b[49m\u001b[43m,\u001b[49m\n\u001b[0;32m    705\u001b[0m \u001b[43m    \u001b[49m\u001b[43mmethod\u001b[49m\u001b[43m,\u001b[49m\n\u001b[0;32m    706\u001b[0m \u001b[43m    \u001b[49m\u001b[43murl\u001b[49m\u001b[43m,\u001b[49m\n\u001b[0;32m    707\u001b[0m \u001b[43m    \u001b[49m\u001b[43mtimeout\u001b[49m\u001b[38;5;241;43m=\u001b[39;49m\u001b[43mtimeout_obj\u001b[49m\u001b[43m,\u001b[49m\n\u001b[0;32m    708\u001b[0m \u001b[43m    \u001b[49m\u001b[43mbody\u001b[49m\u001b[38;5;241;43m=\u001b[39;49m\u001b[43mbody\u001b[49m\u001b[43m,\u001b[49m\n\u001b[0;32m    709\u001b[0m \u001b[43m    \u001b[49m\u001b[43mheaders\u001b[49m\u001b[38;5;241;43m=\u001b[39;49m\u001b[43mheaders\u001b[49m\u001b[43m,\u001b[49m\n\u001b[0;32m    710\u001b[0m \u001b[43m    \u001b[49m\u001b[43mchunked\u001b[49m\u001b[38;5;241;43m=\u001b[39;49m\u001b[43mchunked\u001b[49m\u001b[43m,\u001b[49m\n\u001b[0;32m    711\u001b[0m \u001b[43m\u001b[49m\u001b[43m)\u001b[49m\n\u001b[0;32m    713\u001b[0m \u001b[38;5;66;03m# If we're going to release the connection in ``finally:``, then\u001b[39;00m\n\u001b[0;32m    714\u001b[0m \u001b[38;5;66;03m# the response doesn't need to know about the connection. Otherwise\u001b[39;00m\n\u001b[0;32m    715\u001b[0m \u001b[38;5;66;03m# it will also try to release it and we'll have a double-release\u001b[39;00m\n\u001b[0;32m    716\u001b[0m \u001b[38;5;66;03m# mess.\u001b[39;00m\n\u001b[0;32m    717\u001b[0m response_conn \u001b[38;5;241m=\u001b[39m conn \u001b[38;5;28;01mif\u001b[39;00m \u001b[38;5;129;01mnot\u001b[39;00m release_conn \u001b[38;5;28;01melse\u001b[39;00m \u001b[38;5;28;01mNone\u001b[39;00m\n",
      "File \u001b[1;32m~\\anaconda3\\envs\\nandabetenv\\lib\\site-packages\\urllib3\\connectionpool.py:449\u001b[0m, in \u001b[0;36mHTTPConnectionPool._make_request\u001b[1;34m(self, conn, method, url, timeout, chunked, **httplib_request_kw)\u001b[0m\n\u001b[0;32m    444\u001b[0m             httplib_response \u001b[38;5;241m=\u001b[39m conn\u001b[38;5;241m.\u001b[39mgetresponse()\n\u001b[0;32m    445\u001b[0m         \u001b[38;5;28;01mexcept\u001b[39;00m \u001b[38;5;167;01mBaseException\u001b[39;00m \u001b[38;5;28;01mas\u001b[39;00m e:\n\u001b[0;32m    446\u001b[0m             \u001b[38;5;66;03m# Remove the TypeError from the exception chain in\u001b[39;00m\n\u001b[0;32m    447\u001b[0m             \u001b[38;5;66;03m# Python 3 (including for exceptions like SystemExit).\u001b[39;00m\n\u001b[0;32m    448\u001b[0m             \u001b[38;5;66;03m# Otherwise it looks like a bug in the code.\u001b[39;00m\n\u001b[1;32m--> 449\u001b[0m             \u001b[43msix\u001b[49m\u001b[38;5;241;43m.\u001b[39;49m\u001b[43mraise_from\u001b[49m\u001b[43m(\u001b[49m\u001b[43me\u001b[49m\u001b[43m,\u001b[49m\u001b[43m \u001b[49m\u001b[38;5;28;43;01mNone\u001b[39;49;00m\u001b[43m)\u001b[49m\n\u001b[0;32m    450\u001b[0m \u001b[38;5;28;01mexcept\u001b[39;00m (SocketTimeout, BaseSSLError, SocketError) \u001b[38;5;28;01mas\u001b[39;00m e:\n\u001b[0;32m    451\u001b[0m     \u001b[38;5;28mself\u001b[39m\u001b[38;5;241m.\u001b[39m_raise_timeout(err\u001b[38;5;241m=\u001b[39me, url\u001b[38;5;241m=\u001b[39murl, timeout_value\u001b[38;5;241m=\u001b[39mread_timeout)\n",
      "File \u001b[1;32m<string>:3\u001b[0m, in \u001b[0;36mraise_from\u001b[1;34m(value, from_value)\u001b[0m\n",
      "File \u001b[1;32m~\\anaconda3\\envs\\nandabetenv\\lib\\site-packages\\urllib3\\connectionpool.py:444\u001b[0m, in \u001b[0;36mHTTPConnectionPool._make_request\u001b[1;34m(self, conn, method, url, timeout, chunked, **httplib_request_kw)\u001b[0m\n\u001b[0;32m    441\u001b[0m \u001b[38;5;28;01mexcept\u001b[39;00m \u001b[38;5;167;01mTypeError\u001b[39;00m:\n\u001b[0;32m    442\u001b[0m     \u001b[38;5;66;03m# Python 3\u001b[39;00m\n\u001b[0;32m    443\u001b[0m     \u001b[38;5;28;01mtry\u001b[39;00m:\n\u001b[1;32m--> 444\u001b[0m         httplib_response \u001b[38;5;241m=\u001b[39m \u001b[43mconn\u001b[49m\u001b[38;5;241;43m.\u001b[39;49m\u001b[43mgetresponse\u001b[49m\u001b[43m(\u001b[49m\u001b[43m)\u001b[49m\n\u001b[0;32m    445\u001b[0m     \u001b[38;5;28;01mexcept\u001b[39;00m \u001b[38;5;167;01mBaseException\u001b[39;00m \u001b[38;5;28;01mas\u001b[39;00m e:\n\u001b[0;32m    446\u001b[0m         \u001b[38;5;66;03m# Remove the TypeError from the exception chain in\u001b[39;00m\n\u001b[0;32m    447\u001b[0m         \u001b[38;5;66;03m# Python 3 (including for exceptions like SystemExit).\u001b[39;00m\n\u001b[0;32m    448\u001b[0m         \u001b[38;5;66;03m# Otherwise it looks like a bug in the code.\u001b[39;00m\n\u001b[0;32m    449\u001b[0m         six\u001b[38;5;241m.\u001b[39mraise_from(e, \u001b[38;5;28;01mNone\u001b[39;00m)\n",
      "File \u001b[1;32m~\\anaconda3\\envs\\nandabetenv\\lib\\http\\client.py:1348\u001b[0m, in \u001b[0;36mHTTPConnection.getresponse\u001b[1;34m(self)\u001b[0m\n\u001b[0;32m   1346\u001b[0m \u001b[38;5;28;01mtry\u001b[39;00m:\n\u001b[0;32m   1347\u001b[0m     \u001b[38;5;28;01mtry\u001b[39;00m:\n\u001b[1;32m-> 1348\u001b[0m         \u001b[43mresponse\u001b[49m\u001b[38;5;241;43m.\u001b[39;49m\u001b[43mbegin\u001b[49m\u001b[43m(\u001b[49m\u001b[43m)\u001b[49m\n\u001b[0;32m   1349\u001b[0m     \u001b[38;5;28;01mexcept\u001b[39;00m \u001b[38;5;167;01mConnectionError\u001b[39;00m:\n\u001b[0;32m   1350\u001b[0m         \u001b[38;5;28mself\u001b[39m\u001b[38;5;241m.\u001b[39mclose()\n",
      "File \u001b[1;32m~\\anaconda3\\envs\\nandabetenv\\lib\\http\\client.py:316\u001b[0m, in \u001b[0;36mHTTPResponse.begin\u001b[1;34m(self)\u001b[0m\n\u001b[0;32m    314\u001b[0m \u001b[38;5;66;03m# read until we get a non-100 response\u001b[39;00m\n\u001b[0;32m    315\u001b[0m \u001b[38;5;28;01mwhile\u001b[39;00m \u001b[38;5;28;01mTrue\u001b[39;00m:\n\u001b[1;32m--> 316\u001b[0m     version, status, reason \u001b[38;5;241m=\u001b[39m \u001b[38;5;28;43mself\u001b[39;49m\u001b[38;5;241;43m.\u001b[39;49m\u001b[43m_read_status\u001b[49m\u001b[43m(\u001b[49m\u001b[43m)\u001b[49m\n\u001b[0;32m    317\u001b[0m     \u001b[38;5;28;01mif\u001b[39;00m status \u001b[38;5;241m!=\u001b[39m CONTINUE:\n\u001b[0;32m    318\u001b[0m         \u001b[38;5;28;01mbreak\u001b[39;00m\n",
      "File \u001b[1;32m~\\anaconda3\\envs\\nandabetenv\\lib\\http\\client.py:277\u001b[0m, in \u001b[0;36mHTTPResponse._read_status\u001b[1;34m(self)\u001b[0m\n\u001b[0;32m    276\u001b[0m \u001b[38;5;28;01mdef\u001b[39;00m \u001b[38;5;21m_read_status\u001b[39m(\u001b[38;5;28mself\u001b[39m):\n\u001b[1;32m--> 277\u001b[0m     line \u001b[38;5;241m=\u001b[39m \u001b[38;5;28mstr\u001b[39m(\u001b[38;5;28;43mself\u001b[39;49m\u001b[38;5;241;43m.\u001b[39;49m\u001b[43mfp\u001b[49m\u001b[38;5;241;43m.\u001b[39;49m\u001b[43mreadline\u001b[49m\u001b[43m(\u001b[49m\u001b[43m_MAXLINE\u001b[49m\u001b[43m \u001b[49m\u001b[38;5;241;43m+\u001b[39;49m\u001b[43m \u001b[49m\u001b[38;5;241;43m1\u001b[39;49m\u001b[43m)\u001b[49m, \u001b[38;5;124m\"\u001b[39m\u001b[38;5;124miso-8859-1\u001b[39m\u001b[38;5;124m\"\u001b[39m)\n\u001b[0;32m    278\u001b[0m     \u001b[38;5;28;01mif\u001b[39;00m \u001b[38;5;28mlen\u001b[39m(line) \u001b[38;5;241m>\u001b[39m _MAXLINE:\n\u001b[0;32m    279\u001b[0m         \u001b[38;5;28;01mraise\u001b[39;00m LineTooLong(\u001b[38;5;124m\"\u001b[39m\u001b[38;5;124mstatus line\u001b[39m\u001b[38;5;124m\"\u001b[39m)\n",
      "File \u001b[1;32m~\\anaconda3\\envs\\nandabetenv\\lib\\socket.py:669\u001b[0m, in \u001b[0;36mSocketIO.readinto\u001b[1;34m(self, b)\u001b[0m\n\u001b[0;32m    667\u001b[0m \u001b[38;5;28;01mwhile\u001b[39;00m \u001b[38;5;28;01mTrue\u001b[39;00m:\n\u001b[0;32m    668\u001b[0m     \u001b[38;5;28;01mtry\u001b[39;00m:\n\u001b[1;32m--> 669\u001b[0m         \u001b[38;5;28;01mreturn\u001b[39;00m \u001b[38;5;28;43mself\u001b[39;49m\u001b[38;5;241;43m.\u001b[39;49m\u001b[43m_sock\u001b[49m\u001b[38;5;241;43m.\u001b[39;49m\u001b[43mrecv_into\u001b[49m\u001b[43m(\u001b[49m\u001b[43mb\u001b[49m\u001b[43m)\u001b[49m\n\u001b[0;32m    670\u001b[0m     \u001b[38;5;28;01mexcept\u001b[39;00m timeout:\n\u001b[0;32m    671\u001b[0m         \u001b[38;5;28mself\u001b[39m\u001b[38;5;241m.\u001b[39m_timeout_occurred \u001b[38;5;241m=\u001b[39m \u001b[38;5;28;01mTrue\u001b[39;00m\n",
      "File \u001b[1;32m~\\anaconda3\\envs\\nandabetenv\\lib\\ssl.py:1241\u001b[0m, in \u001b[0;36mSSLSocket.recv_into\u001b[1;34m(self, buffer, nbytes, flags)\u001b[0m\n\u001b[0;32m   1237\u001b[0m     \u001b[38;5;28;01mif\u001b[39;00m flags \u001b[38;5;241m!=\u001b[39m \u001b[38;5;241m0\u001b[39m:\n\u001b[0;32m   1238\u001b[0m         \u001b[38;5;28;01mraise\u001b[39;00m \u001b[38;5;167;01mValueError\u001b[39;00m(\n\u001b[0;32m   1239\u001b[0m           \u001b[38;5;124m\"\u001b[39m\u001b[38;5;124mnon-zero flags not allowed in calls to recv_into() on \u001b[39m\u001b[38;5;132;01m%s\u001b[39;00m\u001b[38;5;124m\"\u001b[39m \u001b[38;5;241m%\u001b[39m\n\u001b[0;32m   1240\u001b[0m           \u001b[38;5;28mself\u001b[39m\u001b[38;5;241m.\u001b[39m\u001b[38;5;18m__class__\u001b[39m)\n\u001b[1;32m-> 1241\u001b[0m     \u001b[38;5;28;01mreturn\u001b[39;00m \u001b[38;5;28;43mself\u001b[39;49m\u001b[38;5;241;43m.\u001b[39;49m\u001b[43mread\u001b[49m\u001b[43m(\u001b[49m\u001b[43mnbytes\u001b[49m\u001b[43m,\u001b[49m\u001b[43m \u001b[49m\u001b[43mbuffer\u001b[49m\u001b[43m)\u001b[49m\n\u001b[0;32m   1242\u001b[0m \u001b[38;5;28;01melse\u001b[39;00m:\n\u001b[0;32m   1243\u001b[0m     \u001b[38;5;28;01mreturn\u001b[39;00m \u001b[38;5;28msuper\u001b[39m()\u001b[38;5;241m.\u001b[39mrecv_into(buffer, nbytes, flags)\n",
      "File \u001b[1;32m~\\anaconda3\\envs\\nandabetenv\\lib\\ssl.py:1099\u001b[0m, in \u001b[0;36mSSLSocket.read\u001b[1;34m(self, len, buffer)\u001b[0m\n\u001b[0;32m   1097\u001b[0m \u001b[38;5;28;01mtry\u001b[39;00m:\n\u001b[0;32m   1098\u001b[0m     \u001b[38;5;28;01mif\u001b[39;00m buffer \u001b[38;5;129;01mis\u001b[39;00m \u001b[38;5;129;01mnot\u001b[39;00m \u001b[38;5;28;01mNone\u001b[39;00m:\n\u001b[1;32m-> 1099\u001b[0m         \u001b[38;5;28;01mreturn\u001b[39;00m \u001b[38;5;28;43mself\u001b[39;49m\u001b[38;5;241;43m.\u001b[39;49m\u001b[43m_sslobj\u001b[49m\u001b[38;5;241;43m.\u001b[39;49m\u001b[43mread\u001b[49m\u001b[43m(\u001b[49m\u001b[38;5;28;43mlen\u001b[39;49m\u001b[43m,\u001b[49m\u001b[43m \u001b[49m\u001b[43mbuffer\u001b[49m\u001b[43m)\u001b[49m\n\u001b[0;32m   1100\u001b[0m     \u001b[38;5;28;01melse\u001b[39;00m:\n\u001b[0;32m   1101\u001b[0m         \u001b[38;5;28;01mreturn\u001b[39;00m \u001b[38;5;28mself\u001b[39m\u001b[38;5;241m.\u001b[39m_sslobj\u001b[38;5;241m.\u001b[39mread(\u001b[38;5;28mlen\u001b[39m)\n",
      "\u001b[1;31mProtocolError\u001b[0m: ('Connection aborted.', TimeoutError(10060, 'A connection attempt failed because the connected party did not properly respond after a period of time, or established connection failed because connected host has failed to respond', None, 10060, None))"
     ]
    }
   ],
   "source": [
    "task.list()"
   ]
  },
  {
   "cell_type": "code",
   "execution_count": 74,
   "id": "e496fd5b",
   "metadata": {},
   "outputs": [],
   "source": [
    "# Cancel tasks\n",
    "\n",
    "# cancel last task\n",
    "# task.cancel()\n",
    "\n",
    "# cancel all tasks\n",
    "for t in task_id:\n",
    "    ee.data.cancelTask(t)"
   ]
  },
  {
   "cell_type": "code",
   "execution_count": null,
   "id": "6f66e576",
   "metadata": {},
   "outputs": [],
   "source": [
    "# Print task id's\n",
    "task_id"
   ]
  },
  {
   "cell_type": "code",
   "execution_count": 41,
   "id": "b9534988",
   "metadata": {
    "scrolled": false
   },
   "outputs": [
    {
     "name": "stdout",
     "output_type": "stream",
     "text": [
      "[{'state': 'COMPLETED', 'description': 'l8_mndwi_nanda_bet_01-14-2020', 'creation_timestamp_ms': 1664846382162, 'update_timestamp_ms': 1664846680245, 'start_timestamp_ms': 1664846395790, 'task_type': 'EXPORT_IMAGE', 'destination_uris': ['https://drive.google.com/'], 'attempt': 1, 'batch_eecu_usage_seconds': 218.1868133544922, 'id': '4DQBDL6Z36AWI3TTM5OUGHUO', 'name': 'projects/earthengine-legacy/operations/4DQBDL6Z36AWI3TTM5OUGHUO'}]\n",
      "\n",
      "Task started on: 10-04-2022\n"
     ]
    }
   ],
   "source": [
    "# Get task status\n",
    "t_id = \"4DQBDL6Z36AWI3TTM5OUGHUO\"\n",
    "print(ee.data.getTaskStatus(t_id))\n",
    "\n",
    "t = ee.data.getTaskStatus(t_id)[0].get('creation_timestamp_ms')\n",
    "print('\\nTask started on:', time.strftime('%m-%d-%Y', time.gmtime(t/1000)))"
   ]
  },
  {
   "cell_type": "code",
   "execution_count": null,
   "id": "bf050b25",
   "metadata": {},
   "outputs": [],
   "source": [
    "i = 0\n",
    "print(ee.Image(mndwi_l8_list.get(i)).getInfo())"
   ]
  },
  {
   "cell_type": "code",
   "execution_count": null,
   "id": "c17e1bca",
   "metadata": {},
   "outputs": [],
   "source": [
    "print(7732*7881)"
   ]
  },
  {
   "cell_type": "code",
   "execution_count": null,
   "id": "18ac4e1a",
   "metadata": {
    "scrolled": true
   },
   "outputs": [],
   "source": [
    "for i in range(0,n2):\n",
    "        print(date_list_l8[i])"
   ]
  },
  {
   "cell_type": "code",
   "execution_count": null,
   "id": "7fd60b18",
   "metadata": {},
   "outputs": [],
   "source": [
    "# Get Sentinel-2 NDWI and NDVI\n",
    "s2_collection = (ee.ImageCollection('COPERNICUS/S2_SR')\n",
    "    .filterDate(d1, d2)\n",
    "    .filterBounds(roi)\n",
    "    .filter(ee.Filter.lt('CLOUDY_PIXEL_PERCENTAGE',10)))\n",
    "\n",
    "n3 = s2_collection.size().getInfo()\n",
    "s2_collection_list = s2_collection.toList(n3);  \n",
    "print('Number of images in Sentinel-2 collection:', n3)"
   ]
  },
  {
   "cell_type": "code",
   "execution_count": null,
   "id": "b877f61a",
   "metadata": {
    "scrolled": false
   },
   "outputs": [],
   "source": [
    "# Get dates of each image\n",
    "date_list_s2 = []\n",
    "for i in range(0, n3):\n",
    "    img = ee.Image(s2_collection_list.get(i))\n",
    "    t_ms = img.get('system:time_start').getInfo()\n",
    "    dt = datetime.fromtimestamp(t_ms/1000.0)\n",
    "    d = dt.strftime(\"%m/%d/%Y\")\n",
    "    date_list_s2.append(d)\n",
    "\n",
    "print(date_list_s2)"
   ]
  },
  {
   "cell_type": "code",
   "execution_count": null,
   "id": "7f232c88",
   "metadata": {},
   "outputs": [],
   "source": [
    "false_color_vis = {\n",
    "  'min': 0.0,\n",
    "  'max': 3000,\n",
    "  # bands: ['B4', 'B3', 'B2'],\n",
    "  'bands': ['B8', 'B4', 'B3'],\n",
    "}\n",
    "\n",
    "rgb_vis = {\n",
    "    'min': 0.0,\n",
    "    'max': 3000,\n",
    "    'bands': ['B4', 'B3', 'B2']\n",
    "}\n",
    "\n",
    "s2_ndwi_vis = {\n",
    "  'min': -0.8,\n",
    "  'max': 0.01,\n",
    "  'palette': ['dfff7e','0000FF']\n",
    "}"
   ]
  },
  {
   "cell_type": "code",
   "execution_count": null,
   "id": "ea6856e7",
   "metadata": {
    "scrolled": true
   },
   "outputs": [],
   "source": [
    "# Select individual images to display on map\n",
    "idx = 3\n",
    "ndwi = ee.Image(ndwi_collection_list.get(idx)).clip(roi_s1)\n",
    "print(date_list_ndwi[idx])\n",
    "\n",
    "\n",
    "# Create map and add layers\n",
    "M = geemap.Map()\n",
    "M.centerObject(roi, 8)\n",
    "M.add_basemap('HYBRID')\n",
    "M.addLayer(ndwi,ndwi_vis,'Landsat NDWI')\n",
    "\n",
    "\n",
    "idx1 = 44\n",
    "s2_1 = ee.Image(s2_collection_list.get(idx1))\n",
    "s2_ndwi1 = s2_1.normalizedDifference(['B3', 'B8']).rename('NDWI');\n",
    "\n",
    "idx2 = idx1 + 1\n",
    "s2_2 = ee.Image(s2_collection_list.get(idx2))\n",
    "s2_ndwi2 = s2_2.normalizedDifference(['B3', 'B8']).rename('NDWI');\n",
    "\n",
    "idx3 = idx1 + 2\n",
    "s2_3 = ee.Image(s2_collection_list.get(idx3))\n",
    "s2_ndwi3 = s2_3.normalizedDifference(['B3', 'B8']).rename('NDWI');\n",
    "\n",
    "idx4 = idx1 + 3\n",
    "s2_4 = ee.Image(s2_collection_list.get(idx4))\n",
    "s2_ndwi4 = s2_4.normalizedDifference(['B3', 'B8']).rename('NDWI');\n",
    "\n",
    "\n",
    "print(date_list_s2[idx1])\n",
    "print(date_list_s2[idx2])\n",
    "print(date_list_s2[idx3])\n",
    "print(date_list_s2[idx4])\n",
    "\n",
    "\n",
    "M.addLayer(s2_1,false_color_vis,'S2 False Color 1')\n",
    "M.addLayer(s2_2,false_color_vis,'S2 False Color 2')\n",
    "M.addLayer(s2_3,false_color_vis,'S2 False Color 3')\n",
    "M.addLayer(s2_4,false_color_vis,'S2 False Color 4')\n",
    "\n",
    "M.addLayer(s2_1,rgb_vis,'S2 RGB 1')\n",
    "M.addLayer(s2_2,rgb_vis,'S2 RGB 2')\n",
    "M.addLayer(s2_3,rgb_vis,'S2 RGB 3')\n",
    "M.addLayer(s2_4,rgb_vis,'S2 RGB 4')\n",
    "\n",
    "M.addLayer(s2_ndwi1,ndwi_vis,'S2 NDWI 1')\n",
    "M.addLayer(s2_ndwi2,ndwi_vis,'S2 NDWI 2')\n",
    "M.addLayer(s2_ndwi3,ndwi_vis,'S2 NDWI 3')\n",
    "M.addLayer(s2_ndwi4,ndwi_vis,'S2 NDWI 4')\n",
    "\n",
    "\n",
    "M  # show map"
   ]
  },
  {
   "cell_type": "code",
   "execution_count": null,
   "id": "2d117cd5",
   "metadata": {},
   "outputs": [],
   "source": [
    "basemaps = geemap.basemaps\n",
    "for basemap in basemaps:\n",
    "    print(basemap)\n",
    "    \n",
    "# M.add_basemap('HYBRID')    "
   ]
  }
 ],
 "metadata": {
  "kernelspec": {
   "display_name": "Python [conda env:nandabetenv] *",
   "language": "python",
   "name": "conda-env-nandabetenv-py"
  },
  "language_info": {
   "codemirror_mode": {
    "name": "ipython",
    "version": 3
   },
   "file_extension": ".py",
   "mimetype": "text/x-python",
   "name": "python",
   "nbconvert_exporter": "python",
   "pygments_lexer": "ipython3",
   "version": "3.8.13"
  }
 },
 "nbformat": 4,
 "nbformat_minor": 5
}
