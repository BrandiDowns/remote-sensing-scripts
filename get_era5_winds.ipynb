{
 "cells": [
  {
   "cell_type": "code",
   "execution_count": 1,
   "id": "e0bd972c",
   "metadata": {},
   "outputs": [
    {
     "data": {
      "text/html": [
       "<p>To authorize access needed by Earth Engine, open the following\n",
       "        URL in a web browser and follow the instructions:</p>\n",
       "        <p><a href=https://code.earthengine.google.com/client-auth?scopes=https%3A//www.googleapis.com/auth/earthengine%20https%3A//www.googleapis.com/auth/devstorage.full_control&request_id=hjI-AQzWX6eUV4ymW6QEeOWyV5ZKwCEGdncQy6uPo7o&tc=bHOggtyTCxruJz6fXylXLUOYqbmXBQJAV8yEWA2zbXM&cc=tTCaK8kCW10lx06ckAEAj8TuTMPzo0xLKLyoTF6oYo4>https://code.earthengine.google.com/client-auth?scopes=https%3A//www.googleapis.com/auth/earthengine%20https%3A//www.googleapis.com/auth/devstorage.full_control&request_id=hjI-AQzWX6eUV4ymW6QEeOWyV5ZKwCEGdncQy6uPo7o&tc=bHOggtyTCxruJz6fXylXLUOYqbmXBQJAV8yEWA2zbXM&cc=tTCaK8kCW10lx06ckAEAj8TuTMPzo0xLKLyoTF6oYo4</a></p>\n",
       "        <p>The authorization workflow will generate a code, which you should paste in the box below.</p>\n",
       "        "
      ],
      "text/plain": [
       "<IPython.core.display.HTML object>"
      ]
     },
     "metadata": {},
     "output_type": "display_data"
    },
    {
     "name": "stdout",
     "output_type": "stream",
     "text": [
      "Enter verification code: 4/1AfgeXvsbDr0ySWXommj2KVWxOBOWYN0zVPbdVFNiyuXca1so2kEeeAevwPI\n",
      "\n",
      "Successfully saved authorization token.\n"
     ]
    }
   ],
   "source": [
    "import ee\n",
    "import geemap\n",
    "from datetime import datetime, timedelta\n",
    "import math\n",
    "import matplotlib.pyplot as plt\n",
    "import numpy as np\n",
    "import ipynb\n",
    "import time\n",
    "\n",
    "# Get authentication credentials to initialize ee\n",
    "ee.Authenticate()\n",
    "ee.Initialize()"
   ]
  },
  {
   "cell_type": "code",
   "execution_count": 2,
   "id": "93fb8d90",
   "metadata": {},
   "outputs": [],
   "source": [
    "# Define geometry for data collection\n",
    "shp_file = 'data/smaller_region.shp'\n",
    "small_boundary = geemap.shp_to_ee(shp_file)"
   ]
  },
  {
   "cell_type": "code",
   "execution_count": 7,
   "id": "9be99071",
   "metadata": {},
   "outputs": [
    {
     "name": "stdout",
     "output_type": "stream",
     "text": [
      "2020-01-27\n",
      "2020-02-08\n",
      "2020-02-20\n",
      "2020-03-03\n",
      "2020-03-15\n",
      "2020-03-27\n",
      "2020-04-08\n",
      "2020-04-20\n",
      "2020-05-02\n",
      "2020-05-14\n",
      "2020-05-26\n",
      "2020-06-07\n",
      "2020-06-19\n",
      "2020-07-01\n",
      "2020-07-13\n",
      "2020-07-25\n",
      "2020-08-06\n",
      "2020-08-18\n",
      "2020-08-30\n",
      "2020-09-11\n",
      "2020-09-23\n",
      "2020-10-05\n",
      "2020-10-17\n",
      "2020-10-29\n",
      "2020-11-10\n",
      "2020-11-22\n",
      "2020-12-04\n",
      "2020-12-16\n",
      "2020-12-28\n"
     ]
    }
   ],
   "source": [
    "# Import era5 winds data\n",
    "\n",
    "d1 = ['2020-01-03', '2020-01-15', '2020-01-27', '2020-02-08', '2020-02-20', '2020-03-03', '2020-03-15', '2020-03-27',\n",
    "      '2020-04-08', '2020-04-20', '2020-05-02', '2020-05-14', '2020-05-26', '2020-06-07', '2020-06-19', '2020-07-01',\n",
    "      '2020-07-13', '2020-07-25', '2020-08-06', '2020-08-18', '2020-08-30', '2020-09-11', '2020-09-23', '2020-10-05',\n",
    "      '2020-10-17', '2020-10-29', '2020-11-10', '2020-11-22', '2020-12-04', '2020-12-16', '2020-12-28']\n",
    "\n",
    "d2 = ['2020-01-04', '2020-01-16', '2020-01-28', '2020-02-09', '2020-02-21', '2020-03-04', '2020-03-16', '2020-03-28',\n",
    "      '2020-04-09', '2020-04-21', '2020-05-03', '2020-05-15', '2020-05-27', '2020-06-08', '2020-06-20', '2020-07-02',\n",
    "      '2020-07-14', '2020-07-26', '2020-08-07', '2020-08-19', '2020-08-31', '2020-09-12', '2020-09-24', '2020-10-06',\n",
    "      '2020-10-18', '2020-10-30', '2020-11-11', '2020-11-23', '2020-12-05', '2020-12-17', '2020-12-29']\n",
    "\n",
    "\n",
    "task_id = []\n",
    "n = len(d1)\n",
    "\n",
    "for idx in range(n):\n",
    "    \n",
    "    date1 = d1[idx]\n",
    "    date2 = d2[idx]\n",
    "    \n",
    "    \n",
    "    dataset = (ee.ImageCollection('ECMWF/ERA5/DAILY')\n",
    "               .filter(ee.Filter.date(date1, date2))\n",
    "               .filterBounds(small_boundary.geometry()))\n",
    "    u_wind = dataset.select('u_component_of_wind_10m').first().clip(small_boundary).rename('u_wind_10m')\n",
    "    v_wind = dataset.select('v_component_of_wind_10m').first().clip(small_boundary).rename('v_wind_10m')\n",
    "    img = u_wind.addBands(ee.Image([v_wind]))\n",
    "\n",
    "\n",
    "    # export era5 wind data\n",
    "    txt = 'era5_winds_nanda_bet_' + date1\n",
    "    task = ee.batch.Export.image.toDrive(image=img,\n",
    "                                         description=txt,\n",
    "                                         scale=27830,\n",
    "                                         fileNamePrefix=txt,\n",
    "                                         crs='EPSG:4326',\n",
    "                                         fileFormat='GeoTIFF',\n",
    "                                         region=small_boundary.geometry())\n",
    "    task.start()\n",
    "    task_id.append(task.id)\n",
    "    \n",
    "    \n",
    "    print(date1)"
   ]
  },
  {
   "cell_type": "code",
   "execution_count": 5,
   "id": "420d0d2d",
   "metadata": {},
   "outputs": [
    {
     "name": "stdout",
     "output_type": "stream",
     "text": [
      "['WBA3HZEIQNCKVN4ERFMKHXGK', 'UNF4G3YNYRC6IJA3F26EWZ3O']\n"
     ]
    }
   ],
   "source": [
    "print(task_id)"
   ]
  },
  {
   "cell_type": "code",
   "execution_count": 11,
   "id": "d6db68ec",
   "metadata": {},
   "outputs": [
    {
     "data": {
      "text/plain": [
       "[<Task HQONXCFX4E5EJ4YPARR7S6DL EXPORT_IMAGE: era5_winds_nanda_bet_2020-12-28 (FAILED)>,\n",
       " <Task XZ4TVQG3A5MH4T35F2XXAUFE EXPORT_IMAGE: era5_winds_nanda_bet_2020-12-16 (FAILED)>,\n",
       " <Task SVAHQSJQUOUHKKWWGAL2N33I EXPORT_IMAGE: era5_winds_nanda_bet_2020-12-04 (FAILED)>,\n",
       " <Task AZNRELDXGZ4MSLHAG3CTHS5F EXPORT_IMAGE: era5_winds_nanda_bet_2020-11-22 (FAILED)>,\n",
       " <Task CO3B3Z3P7TZIY4SDKUJBG6P7 EXPORT_IMAGE: era5_winds_nanda_bet_2020-11-10 (FAILED)>,\n",
       " <Task J2CIJQJG6JF7M2NRIXLMRIZ5 EXPORT_IMAGE: era5_winds_nanda_bet_2020-10-29 (FAILED)>,\n",
       " <Task OZFKBD53CATTKYQZ7SWNOA7L EXPORT_IMAGE: era5_winds_nanda_bet_2020-10-17 (FAILED)>,\n",
       " <Task GRHJY5ZXSD7WAASXBIIIK4BL EXPORT_IMAGE: era5_winds_nanda_bet_2020-10-05 (FAILED)>,\n",
       " <Task ZHWRMYE24E5OUCETZUW7YME3 EXPORT_IMAGE: era5_winds_nanda_bet_2020-09-23 (FAILED)>,\n",
       " <Task 43TINPJPBEVFNCK7OPBRSESZ EXPORT_IMAGE: era5_winds_nanda_bet_2020-09-11 (FAILED)>,\n",
       " <Task 2XTUQCSLDZO25YSUA74IH6LF EXPORT_IMAGE: era5_winds_nanda_bet_2020-08-30 (FAILED)>,\n",
       " <Task KEJCILCQ5AKLICOFLUZ44F6V EXPORT_IMAGE: era5_winds_nanda_bet_2020-08-18 (FAILED)>,\n",
       " <Task JXBKZ44KBBRDGFAFLPTNAWPF EXPORT_IMAGE: era5_winds_nanda_bet_2020-08-06 (FAILED)>,\n",
       " <Task BMUSRBAFKH5X5RTKJVGMEGHB EXPORT_IMAGE: era5_winds_nanda_bet_2020-07-25 (FAILED)>,\n",
       " <Task HSRUNVXC6MMNBS37WXX3OIRS EXPORT_IMAGE: era5_winds_nanda_bet_2020-07-13 (FAILED)>,\n",
       " <Task 67AY2U62UV5EEJSLCD7PYGZA EXPORT_IMAGE: era5_winds_nanda_bet_2020-07-01 (COMPLETED)>,\n",
       " <Task AUPP6CECW4ZCM5UZAH2XA4KO EXPORT_IMAGE: era5_winds_nanda_bet_2020-06-19 (COMPLETED)>,\n",
       " <Task BJACDSFQDTWG4IU5NGZSQPCQ EXPORT_IMAGE: era5_winds_nanda_bet_2020-06-07 (COMPLETED)>,\n",
       " <Task 7ZS3AXRRIUEQVJN77AJZUWLZ EXPORT_IMAGE: era5_winds_nanda_bet_2020-05-26 (COMPLETED)>,\n",
       " <Task UHOCV5DZ3YMPE74B3TTO4CJH EXPORT_IMAGE: era5_winds_nanda_bet_2020-05-14 (COMPLETED)>,\n",
       " <Task IW4Q4PYWVLRQNEGBUTCKAR45 EXPORT_IMAGE: era5_winds_nanda_bet_2020-05-02 (COMPLETED)>,\n",
       " <Task A2IXKXPBMLIC672BLRAHTQLJ EXPORT_IMAGE: era5_winds_nanda_bet_2020-04-20 (COMPLETED)>,\n",
       " <Task TD76JKLMPOZ2E5XDWJ5WMKZC EXPORT_IMAGE: era5_winds_nanda_bet_2020-04-08 (COMPLETED)>,\n",
       " <Task COW2ZBIGGQ6EJ2LQMMOCPWDH EXPORT_IMAGE: era5_winds_nanda_bet_2020-03-27 (COMPLETED)>,\n",
       " <Task P5I2SLJJZ3VZMRNRXXZ5POX5 EXPORT_IMAGE: era5_winds_nanda_bet_2020-03-15 (COMPLETED)>,\n",
       " <Task J3QWO3MVSBIGQTQIWHW6KSDS EXPORT_IMAGE: era5_winds_nanda_bet_2020-03-03 (COMPLETED)>,\n",
       " <Task K2M35SJIMLKUGMV6U5ONBRBR EXPORT_IMAGE: era5_winds_nanda_bet_2020-02-20 (COMPLETED)>,\n",
       " <Task 6NDXT2RVZOZER6WS76H4XWJQ EXPORT_IMAGE: era5_winds_nanda_bet_2020-02-08 (COMPLETED)>,\n",
       " <Task 3BLVII4NS4O6N63TGG2KPBBE EXPORT_IMAGE: era5_winds_nanda_bet_2020-01-27 (COMPLETED)>,\n",
       " <Task UNF4G3YNYRC6IJA3F26EWZ3O EXPORT_IMAGE: era5_winds_nanda_bet_2020-01-15 (COMPLETED)>,\n",
       " <Task WBA3HZEIQNCKVN4ERFMKHXGK EXPORT_IMAGE: era5_winds_nanda_bet_2020-01-03 (COMPLETED)>,\n",
       " <Task FTD4SBOAWONNMBXCIFI7ZWAN EXPORT_IMAGE: dynamic_world_small_label_2020-03-25_2020-03-30 (COMPLETED)>,\n",
       " <Task BHVTRV7P64U5L6JD6JVDTN6H EXPORT_IMAGE: dynamic_world_small_label_2020-03-25_2020-03-30 (COMPLETED)>,\n",
       " <Task TRHMLW5VW3X3FAOTPK5XANSJ EXPORT_IMAGE: dynamic_world_small_bands_2020-03-25_2020-03-30 (COMPLETED)>,\n",
       " <Task OP3ELE5EQU7KZVWBDJYLG4BU EXPORT_IMAGE: dynamic_world_small_label_2020-12-03_2020-12-07 (COMPLETED)>,\n",
       " <Task TIH3BWWD2YP42PKANGOP5LNQ EXPORT_IMAGE: dynamic_world_small_bands_2020-12-03_2020-12-07 (COMPLETED)>,\n",
       " <Task GX2DV6ODCI7BOGCJCRWZS3SB EXPORT_IMAGE: dynamic_world_small_label_2020-11-21_2020-11-25 (COMPLETED)>,\n",
       " <Task VTZFOTOTSUIIH3MROSI3FV5X EXPORT_IMAGE: dynamic_world_small_bands_2020-11-21_2020-11-25 (COMPLETED)>,\n",
       " <Task IYJW34GW4UORGUHOONYA22KC EXPORT_IMAGE: dynamic_world_small_label_2020-11-08_2020-11-12 (COMPLETED)>,\n",
       " <Task YEWIYE2DERU6RMNNONZE3J5T EXPORT_IMAGE: dynamic_world_small_bands_2020-11-08_2020-11-12 (COMPLETED)>,\n",
       " <Task 4ZRXT5UTEN62NY7L5QJ42DWW EXPORT_IMAGE: dynamic_world_small_label_2020-10-27_2020-10-31 (COMPLETED)>,\n",
       " <Task EEVOSY4HPI63R2ROJVJ5QYDX EXPORT_IMAGE: dynamic_world_small_bands_2020-10-27_2020-10-31 (COMPLETED)>,\n",
       " <Task ITERAOSJE4QIHCQ5BASQOT22 EXPORT_IMAGE: dynamic_world_small_label_2020-09-22_2020-09-25 (COMPLETED)>,\n",
       " <Task SAXXDTFL2U4DJ7VX4BU2H4Z4 EXPORT_IMAGE: dynamic_world_small_bands_2020-09-22_2020-09-25 (COMPLETED)>,\n",
       " <Task ZWGP3VUAQ3DKSGDLNADJ42C7 EXPORT_IMAGE: dynamic_world_small_label_2020-05-25_2020-05-28 (COMPLETED)>,\n",
       " <Task P62WVHUDKEUSS6GADS472RNA EXPORT_IMAGE: dynamic_world_small_bands_2020-05-25_2020-05-28 (COMPLETED)>,\n",
       " <Task FU7M23NERVAAPRJ33F5RW3YN EXPORT_IMAGE: dynamic_world_small_label_2020-05-12_2020-05-16 (COMPLETED)>,\n",
       " <Task LUGHFY24T6TKSU7A7TUTNKX6 EXPORT_IMAGE: dynamic_world_small_bands_2020-05-12_2020-05-16 (COMPLETED)>,\n",
       " <Task M6EA7BFB42GMTXU4R4IVO57Q EXPORT_IMAGE: dynamic_world_small_label_2020-04-30_2020-05-03 (COMPLETED)>,\n",
       " <Task JJDKZ773T7YV6ZJQQSBWOAHD EXPORT_IMAGE: dynamic_world_small_bands_2020-04-30_2020-05-03 (COMPLETED)>,\n",
       " <Task JB3JBSURLZRAX3NQ5FVZOCJV EXPORT_IMAGE: dynamic_world_small_label_2020-04-07_2020-04-14 (COMPLETED)>,\n",
       " <Task U3H5GJ5R5M33DCHJPPPL7AGQ EXPORT_IMAGE: dynamic_world_small_bands_2020-04-07_2020-04-14 (COMPLETED)>,\n",
       " <Task LDTUGALFLP6NAE2DQE4GH5AB EXPORT_IMAGE: dynamic_world_small_label_2020-03-01_2020-03-05 (COMPLETED)>,\n",
       " <Task 4D6UQ4LRVBT6BUWERXBSX4KF EXPORT_IMAGE: dynamic_world_small_bands_2020-03-01_2020-03-05 (COMPLETED)>,\n",
       " <Task 5JOYKSZWEOQKV7AA4OJ4FP6K EXPORT_IMAGE: dynamic_world_small_label_2020-02-20_2020-02-23 (COMPLETED)>,\n",
       " <Task 6OGHQCYQPG3OBFBEGCFEYW5D EXPORT_IMAGE: dynamic_world_small_bands_2020-02-20_2020-02-23 (COMPLETED)>,\n",
       " <Task KR47BUGZPKTVKDX5RWYDNL6D EXPORT_IMAGE: dynamic_world_small_label_2020-02-07_2020-02-11 (COMPLETED)>,\n",
       " <Task DU7NOFX4K25ECHLAM2ZTZKQT EXPORT_IMAGE: dynamic_world_small_bands_2020-02-07_2020-02-11 (COMPLETED)>,\n",
       " <Task S2OQBESZZUJGLDFO72GUUCHG EXPORT_IMAGE: dynamic_world_small_label_2020-01-26_2020-01-29 (COMPLETED)>,\n",
       " <Task RU7MVDMKRMILPKL35OI2NFQL EXPORT_IMAGE: dynamic_world_small_bands_2020-01-26_2020-01-29 (COMPLETED)>,\n",
       " <Task TKBS7257DILLPPWHSU44PYAC EXPORT_IMAGE: dynamic_world_small_label_2020-01-15_2020-01-17 (COMPLETED)>,\n",
       " <Task P3BDIFP2SW5OOKSOWLB24E2C EXPORT_IMAGE: dynamic_world_small_bands_2020-01-15_2020-01-17 (COMPLETED)>]"
      ]
     },
     "execution_count": 11,
     "metadata": {},
     "output_type": "execute_result"
    }
   ],
   "source": [
    "task.list()"
   ]
  },
  {
   "cell_type": "code",
   "execution_count": 10,
   "id": "4b72bab4",
   "metadata": {},
   "outputs": [
    {
     "name": "stdout",
     "output_type": "stream",
     "text": [
      "[{'state': 'FAILED', 'description': 'era5_winds_nanda_bet_2020-07-13', 'creation_timestamp_ms': 1669761179566, 'update_timestamp_ms': 1669761279527, 'start_timestamp_ms': 1669761279274, 'task_type': 'EXPORT_IMAGE', 'attempt': 1, 'error_message': \"Image.clip: Parameter 'input' is required.\", 'id': 'HSRUNVXC6MMNBS37WXX3OIRS', 'name': 'projects/earthengine-legacy/operations/HSRUNVXC6MMNBS37WXX3OIRS'}]\n"
     ]
    }
   ],
   "source": [
    "print(ee.data.getTaskStatus('HSRUNVXC6MMNBS37WXX3OIRS'))"
   ]
  }
 ],
 "metadata": {
  "kernelspec": {
   "display_name": "Python [conda env:nandabetenv] *",
   "language": "python",
   "name": "conda-env-nandabetenv-py"
  },
  "language_info": {
   "codemirror_mode": {
    "name": "ipython",
    "version": 3
   },
   "file_extension": ".py",
   "mimetype": "text/x-python",
   "name": "python",
   "nbconvert_exporter": "python",
   "pygments_lexer": "ipython3",
   "version": "3.8.13"
  }
 },
 "nbformat": 4,
 "nbformat_minor": 5
}
