{
 "cells": [
  {
   "cell_type": "code",
   "execution_count": 1,
   "id": "b2d859be",
   "metadata": {},
   "outputs": [],
   "source": [
    "# content of example.py Python file\n",
    "\n",
    "# import the hydrafloods and ee package\n",
    "import hydrafloods as hf\n",
    "import ee\n",
    "import geemap"
   ]
  },
  {
   "cell_type": "code",
   "execution_count": 2,
   "id": "e4a7bdb2",
   "metadata": {},
   "outputs": [],
   "source": [
    "ee.Initialize()"
   ]
  },
  {
   "cell_type": "code",
   "execution_count": 11,
   "id": "048ea5c7",
   "metadata": {},
   "outputs": [],
   "source": [
    "# Specify geographic region to process\n",
    "\n",
    "#roi = ee.Geometry.Rectangle([104, 11.5, 106, 12.5 ])\n",
    "roi = ee.Geometry.Rectangle([30.15, 7.55, 31.31, 9.55]);  # S. Sudan\n",
    "#roi = ee.Geometry.Rectangle([69.98568, 22.66953, 72.76651, 24.60271])  # Nanda Bet S1 extent\n"
   ]
  },
  {
   "cell_type": "code",
   "execution_count": 12,
   "id": "7e501bb3",
   "metadata": {},
   "outputs": [],
   "source": [
    "# specify start and end time to process\n",
    "start_time = \"2020-01-01\"\n",
    "end_time =  \"2020-05-01\"\n",
    "\n",
    "# get the Sentinel-1 collection\n",
    "# the hf.dataset classes performs the spatial-temporal filtering for you\n",
    "s1 = hf.datasets.Sentinel1(roi, start_time, end_time)\n",
    "\n",
    "# apply a water mapping function to the S1 dataset\n",
    "# this applies the \"Edge Otsu\" algorithm from https://doi.org/10.3390/rs12152469\n",
    "water_imgs = s1.apply_func(\n",
    "    hf.thresholding.edge_otsu,\n",
    "    initial_threshold=-14,\n",
    "    edge_buffer=300\n",
    ")\n",
    "\n",
    "# take the mode from multiple images\n",
    "# since this is just imagery from one day, it will simply mosaic the images\n",
    "water_map1 = ee.Image(water_imgs.collection.mode()).clip(roi)"
   ]
  },
  {
   "cell_type": "code",
   "execution_count": 13,
   "id": "1c664ff1",
   "metadata": {},
   "outputs": [],
   "source": [
    "# specify start and end time to process\n",
    "start_time = \"2020-09-01\"\n",
    "end_time =  \"2020-12-01\"\n",
    "\n",
    "# get the Sentinel-1 collection\n",
    "# the hf.dataset classes performs the spatial-temporal filtering for you\n",
    "s1 = hf.datasets.Sentinel1(roi, start_time, end_time)\n",
    "\n",
    "# apply a water mapping function to the S1 dataset\n",
    "# this applies the \"Edge Otsu\" algorithm from https://doi.org/10.3390/rs12152469\n",
    "water_imgs = s1.apply_func(\n",
    "    hf.thresholding.edge_otsu,\n",
    "    initial_threshold=-14,\n",
    "    edge_buffer=300\n",
    ")\n",
    "\n",
    "# take the mode from multiple images\n",
    "# since this is just imagery from one day, it will simply mosaic the images\n",
    "water_map2 = ee.Image(water_imgs.collection.mode()).clip(roi)"
   ]
  },
  {
   "cell_type": "code",
   "execution_count": 14,
   "id": "e4507e34",
   "metadata": {},
   "outputs": [
    {
     "data": {
      "application/vnd.jupyter.widget-view+json": {
       "model_id": "9e28b2026a5a4a4ea3b4a7fb8223472a",
       "version_major": 2,
       "version_minor": 0
      },
      "text/plain": [
       "Map(center=[8.549556642979537, 30.73000000000002], controls=(WidgetControl(options=['position', 'transparent_b…"
      ]
     },
     "metadata": {},
     "output_type": "display_data"
    }
   ],
   "source": [
    "water_vis = {\n",
    "    'min': 0,\n",
    "    'max': 1,\n",
    "    'palette': ['#ffffff','#0000ff'],\n",
    "    'opacity': 0.7\n",
    "}\n",
    "\n",
    "# Create map and add layers\n",
    "M = geemap.Map()\n",
    "M.centerObject(roi, 8)\n",
    "\n",
    "M.addLayer(water_map1,water_vis,'March 2021')\n",
    "M.addLayer(water_map2,water_vis,'September 2021')\n",
    "\n",
    "M  # show map"
   ]
  },
  {
   "cell_type": "code",
   "execution_count": null,
   "id": "43a439a2",
   "metadata": {},
   "outputs": [],
   "source": [
    "# # export the water map\n",
    "# hf.geeutils.export_image(\n",
    "#     water_map,\n",
    "#     region,\n",
    "#     \"users/<YOUR_USERNAME>/water_map_example\",\n",
    "#     scale=30,\n",
    "# )"
   ]
  }
 ],
 "metadata": {
  "kernelspec": {
   "display_name": "Python [conda env:nandabetenv] *",
   "language": "python",
   "name": "conda-env-nandabetenv-py"
  },
  "language_info": {
   "codemirror_mode": {
    "name": "ipython",
    "version": 3
   },
   "file_extension": ".py",
   "mimetype": "text/x-python",
   "name": "python",
   "nbconvert_exporter": "python",
   "pygments_lexer": "ipython3",
   "version": "3.8.13"
  }
 },
 "nbformat": 4,
 "nbformat_minor": 5
}
