{
 "cells": [
  {
   "cell_type": "code",
   "execution_count": 1,
   "id": "cc90d8d8",
   "metadata": {},
   "outputs": [],
   "source": [
    "import ee\n",
    "import geemap\n",
    "from datetime import datetime, timedelta\n",
    "import math\n",
    "import matplotlib.pyplot as plt\n",
    "import numpy as np\n",
    "import ipynb\n",
    "import time\n",
    "from speckle_filter import leesigma"
   ]
  },
  {
   "cell_type": "code",
   "execution_count": 2,
   "id": "1d8188d2",
   "metadata": {},
   "outputs": [
    {
     "data": {
      "text/html": [
       "<p>To authorize access needed by Earth Engine, open the following\n",
       "        URL in a web browser and follow the instructions:</p>\n",
       "        <p><a href=https://code.earthengine.google.com/client-auth?scopes=https%3A//www.googleapis.com/auth/earthengine%20https%3A//www.googleapis.com/auth/devstorage.full_control&request_id=RJvyrWzMLW6mnO51WVDum8QyRiAub4ax-Hhu-_j6aTI&tc=WxxilXPVeXoPzP4W1SwqdSjZ5mOZLwOAXk_LExfpNp4&cc=W7FaOjgLj_ygRlwcVboN-Yp2gVJxNhTq5zuwuHAsUas>https://code.earthengine.google.com/client-auth?scopes=https%3A//www.googleapis.com/auth/earthengine%20https%3A//www.googleapis.com/auth/devstorage.full_control&request_id=RJvyrWzMLW6mnO51WVDum8QyRiAub4ax-Hhu-_j6aTI&tc=WxxilXPVeXoPzP4W1SwqdSjZ5mOZLwOAXk_LExfpNp4&cc=W7FaOjgLj_ygRlwcVboN-Yp2gVJxNhTq5zuwuHAsUas</a></p>\n",
       "        <p>The authorization workflow will generate a code, which you should paste in the box below.</p>\n",
       "        "
      ],
      "text/plain": [
       "<IPython.core.display.HTML object>"
      ]
     },
     "metadata": {},
     "output_type": "display_data"
    },
    {
     "name": "stdout",
     "output_type": "stream",
     "text": [
      "Enter verification code: 4/1AWtgzh6FAh7FqEKRxP4yAx2aaaJLf0Tgcy2ZoxO4XgrHgDthNfnE80rVcLk\n",
      "\n",
      "Successfully saved authorization token.\n"
     ]
    }
   ],
   "source": [
    "# Get authentication credentials to initialize ee\n",
    "ee.Authenticate()\n",
    "ee.Initialize()"
   ]
  },
  {
   "cell_type": "code",
   "execution_count": 3,
   "id": "3eca2371",
   "metadata": {},
   "outputs": [],
   "source": [
    "# Define geometry for data collection\n",
    "\n",
    "roi = ee.Geometry.Rectangle([69.98568, 22.66953, 72.76651, 24.60271]);  # Nanda Bet S1 extent\n",
    "roi_small = ee.Geometry.Rectangle([70.7980547394194417, 23.2880385161501735, 71.5060515087354958, 23.9024834537972986])  # Nanda Bet small region\n",
    "\n",
    "# boundary shapefiles\n",
    "shp_file = 'data/s1_boundary.shp'\n",
    "s1_boundary = geemap.shp_to_ee(shp_file)\n",
    "# type(s1_boundary)\n",
    "\n",
    "# this is the main boundary to use for the small region around nanda bet\n",
    "shp_file = 'data/smaller_region.shp'\n",
    "small_boundary = geemap.shp_to_ee(shp_file)\n",
    "\n",
    "# # this is the boundary to use just for the region north and east of the nanda bet island\n",
    "# shp_file = 'data/nanda_bet_poly1.shp'\n",
    "# small_boundary = geemap.shp_to_ee(shp_file)\n",
    "\n",
    "\n",
    "\n",
    "\n",
    "\n",
    "# # everglades \n",
    "# shp_file = 'data/eden_boundary2.shp'\n",
    "# small_boundary = geemap.shp_to_ee(shp_file)\n",
    "# roi = small_boundary.geometry()\n",
    "# roi_small = roi"
   ]
  },
  {
   "cell_type": "code",
   "execution_count": 4,
   "id": "a15eb6b7",
   "metadata": {},
   "outputs": [
    {
     "name": "stdout",
     "output_type": "stream",
     "text": [
      "Number of images in s1 collection: 31\n"
     ]
    }
   ],
   "source": [
    "# Import s1, s2, dynamic world data\n",
    "\n",
    "d1 = '2020-01-01'\n",
    "d2 = '2021-01-01'\n",
    "\n",
    "# d1 = '2020-08-18'\n",
    "# d2 = '2020-08-19'\n",
    "\n",
    "# # get Dynamic World data\n",
    "# dw_collection = (ee.ImageCollection(\"GOOGLE/DYNAMICWORLD/V1\")\n",
    "#     .filterBounds(s1_boundary)\n",
    "#     .filterDate(d1, d2))    \n",
    "# print('Number of images in dynamic world collection:', dw_collection.size().getInfo())\n",
    "# # print('Bands:', dw_collection.first().bandNames().getInfo())\n",
    "\n",
    "\n",
    "# # get Sentinel-2 data\n",
    "# s2_collection = ee.ImageCollection('COPERNICUS/S2').filterBounds(s1_boundary).filterDate(d1, d2)  \n",
    "# print('Number of images in s2 collection:', s2_collection.size().getInfo())\n",
    "# # print('Bands:', s2_collection.first().bandNames().getInfo())\n",
    "\n",
    "\n",
    "# get Sentinel-1 data\n",
    "s1_collection = (ee.ImageCollection('COPERNICUS/S1_GRD_FLOAT')\n",
    "                 .filter(ee.Filter.eq('instrumentMode', 'IW'))\n",
    "                 .filterMetadata('resolution_meters', 'equals', 10)\n",
    "                 .filter(ee.Filter.eq('orbitProperties_pass', 'DESCENDING'))\n",
    "                 .filter(ee.Filter.date(d1,d2))\n",
    "                 .filterBounds(roi_small))\n",
    "print('Number of images in s1 collection:', s1_collection.size().getInfo())"
   ]
  },
  {
   "cell_type": "code",
   "execution_count": 5,
   "id": "b3289440",
   "metadata": {},
   "outputs": [
    {
     "name": "stdout",
     "output_type": "stream",
     "text": [
      "['01-03-2020', '01-15-2020', '01-27-2020', '02-08-2020', '02-20-2020', '03-03-2020', '03-15-2020', '03-27-2020', '04-08-2020', '04-20-2020', '05-02-2020', '05-14-2020', '05-26-2020', '06-07-2020', '06-19-2020', '07-01-2020', '07-13-2020', '07-25-2020', '08-06-2020', '08-18-2020', '08-30-2020', '09-11-2020', '09-23-2020', '10-05-2020', '10-17-2020', '10-29-2020', '11-10-2020', '11-22-2020', '12-04-2020', '12-16-2020', '12-28-2020']\n"
     ]
    }
   ],
   "source": [
    "# get dates of s1 images\n",
    "\n",
    "acq_times = s1_collection.aggregate_array('system:time_start').getInfo()\n",
    "date_list = [time.strftime('%m-%d-%Y', time.gmtime(t/1000)) for t in acq_times]\n",
    "print(date_list)"
   ]
  },
  {
   "cell_type": "code",
   "execution_count": 8,
   "id": "21e58ef4",
   "metadata": {},
   "outputs": [
    {
     "name": "stdout",
     "output_type": "stream",
     "text": [
      "['01-01-2020', '01-01-2020', '01-01-2020', '01-03-2020', '01-03-2020', '01-03-2020', '01-03-2020', '01-03-2020', '01-03-2020', '01-03-2020', '01-03-2020', '01-03-2020', '01-06-2020', '01-06-2020', '01-06-2020', '01-06-2020', '01-06-2020', '01-06-2020', '01-06-2020', '01-06-2020', '01-06-2020', '01-06-2020', '01-06-2020', '01-06-2020', '01-06-2020', '01-08-2020', '01-08-2020', '01-08-2020', '01-08-2020', '01-08-2020', '01-08-2020', '01-11-2020', '01-11-2020', '01-11-2020', '01-11-2020', '01-11-2020', '01-11-2020', '01-11-2020', '01-11-2020', '01-11-2020', '01-11-2020', '01-11-2020', '01-11-2020', '01-11-2020', '01-11-2020', '01-11-2020', '01-11-2020', '01-16-2020', '01-16-2020', '01-16-2020', '01-16-2020', '01-16-2020', '01-16-2020', '01-16-2020', '01-16-2020', '01-16-2020', '01-16-2020', '01-16-2020', '01-16-2020', '01-16-2020', '01-18-2020', '01-18-2020', '01-18-2020', '01-18-2020', '01-18-2020', '01-18-2020', '01-18-2020', '01-18-2020', '01-18-2020', '01-21-2020', '01-21-2020', '01-21-2020', '01-21-2020', '01-21-2020', '01-21-2020', '01-21-2020', '01-21-2020', '01-21-2020', '01-21-2020', '01-21-2020', '01-21-2020', '01-21-2020', '01-23-2020', '01-23-2020', '01-23-2020', '01-23-2020', '01-23-2020', '01-23-2020', '01-23-2020', '01-23-2020', '01-23-2020', '01-26-2020', '01-26-2020', '01-26-2020', '01-26-2020', '01-26-2020', '01-26-2020', '01-26-2020', '01-26-2020', '01-26-2020', '01-26-2020', '01-26-2020', '01-26-2020', '01-26-2020', '01-28-2020', '01-28-2020', '01-28-2020', '01-28-2020', '01-28-2020', '01-28-2020', '01-28-2020', '01-28-2020', '01-28-2020', '01-31-2020', '01-31-2020', '01-31-2020', '01-31-2020', '01-31-2020', '01-31-2020', '01-31-2020', '01-31-2020', '01-31-2020', '01-31-2020', '01-31-2020', '01-31-2020', '01-31-2020', '02-02-2020', '02-02-2020', '02-02-2020', '02-02-2020', '02-02-2020', '02-02-2020', '02-02-2020', '02-02-2020', '02-02-2020', '02-05-2020', '02-05-2020', '02-05-2020', '02-05-2020', '02-05-2020', '02-05-2020', '02-05-2020', '02-05-2020', '02-05-2020', '02-05-2020', '02-05-2020', '02-05-2020', '02-05-2020', '02-07-2020', '02-07-2020', '02-07-2020', '02-07-2020', '02-07-2020', '02-07-2020', '02-07-2020', '02-07-2020', '02-07-2020', '02-10-2020', '02-10-2020', '02-10-2020', '02-10-2020', '02-10-2020', '02-10-2020', '02-10-2020', '02-10-2020', '02-10-2020', '02-10-2020', '02-10-2020', '02-10-2020', '02-10-2020', '02-12-2020', '02-12-2020', '02-12-2020', '02-12-2020', '02-12-2020', '02-12-2020', '02-12-2020', '02-12-2020', '02-12-2020', '02-15-2020', '02-15-2020', '02-15-2020', '02-15-2020', '02-15-2020', '02-15-2020', '02-15-2020', '02-17-2020', '02-17-2020', '02-17-2020', '02-17-2020', '02-17-2020', '02-17-2020', '02-17-2020', '02-17-2020', '02-17-2020', '02-20-2020', '02-20-2020', '02-20-2020', '02-20-2020', '02-20-2020', '02-20-2020', '02-20-2020', '02-20-2020', '02-20-2020', '02-20-2020', '02-20-2020', '02-20-2020', '02-20-2020', '02-22-2020', '02-22-2020', '02-22-2020', '02-22-2020', '02-22-2020', '02-22-2020', '02-22-2020', '02-22-2020', '02-22-2020', '02-25-2020', '02-25-2020', '02-25-2020', '02-25-2020', '02-25-2020', '02-25-2020', '02-25-2020', '02-25-2020', '02-25-2020', '02-25-2020', '02-25-2020', '02-25-2020', '02-25-2020', '02-25-2020', '02-25-2020', '02-25-2020', '02-25-2020', '02-25-2020', '02-27-2020', '02-27-2020', '02-27-2020', '02-27-2020', '02-27-2020', '02-27-2020', '02-27-2020', '02-27-2020', '02-27-2020', '03-01-2020', '03-01-2020', '03-01-2020', '03-01-2020', '03-01-2020', '03-01-2020', '03-01-2020', '03-01-2020', '03-01-2020', '03-01-2020', '03-01-2020', '03-01-2020', '03-01-2020', '03-03-2020', '03-03-2020', '03-03-2020', '03-03-2020', '03-03-2020', '03-03-2020', '03-03-2020', '03-03-2020', '03-03-2020', '03-06-2020', '03-06-2020', '03-06-2020', '03-06-2020', '03-06-2020', '03-06-2020', '03-06-2020', '03-06-2020', '03-06-2020', '03-06-2020', '03-06-2020', '03-06-2020', '03-06-2020', '03-08-2020', '03-08-2020', '03-08-2020', '03-08-2020', '03-08-2020', '03-08-2020', '03-08-2020', '03-08-2020', '03-08-2020']\n"
     ]
    }
   ],
   "source": [
    "# get dates of dw images\n",
    "\n",
    "acq_times = dw_collection.aggregate_array('system:time_start').getInfo()\n",
    "date_list = [time.strftime('%m-%d-%Y', time.gmtime(t/1000)) for t in acq_times]\n",
    "print(date_list)"
   ]
  },
  {
   "cell_type": "code",
   "execution_count": 7,
   "id": "3abfdb0d",
   "metadata": {},
   "outputs": [],
   "source": [
    "# define function to implement speckle filter and get vv/vh ratio\n",
    "def speckle(img):\n",
    "    from speckle_filter import leesigma\n",
    "    k = 5\n",
    "    vv = img.select('VV')\n",
    "    vh = img.select('VH')\n",
    "    vv_vh = vv.divide(vh).rename('VV_VH')\n",
    "    vv_filtered = leesigma(vv,k).rename('VV_filtered')\n",
    "    vh_filtered = leesigma(vh,k).rename('VH_filtered')\n",
    "    vv_vh_filtered = vv_filtered.divide(vh_filtered).rename('VV_VH_filtered')\n",
    "    img = img.addBands(ee.Image([vv_vh, vv_filtered, vh_filtered, vv_vh_filtered]))\n",
    "    return img\n",
    "\n",
    "s1_collection = s1_collection.map(speckle)"
   ]
  },
  {
   "cell_type": "code",
   "execution_count": 8,
   "id": "35e84034",
   "metadata": {},
   "outputs": [
    {
     "name": "stdout",
     "output_type": "stream",
     "text": [
      "['VV', 'VH', 'angle', 'VV_VH', 'VV_filtered', 'VH_filtered', 'VV_VH_filtered']\n"
     ]
    }
   ],
   "source": [
    "# print band names\n",
    "print(s1_collection.first().bandNames().getInfo())"
   ]
  },
  {
   "cell_type": "code",
   "execution_count": 9,
   "id": "3def2bb1",
   "metadata": {},
   "outputs": [],
   "source": [
    "# get bands of interest\n",
    "\n",
    "\n",
    "\n",
    "# s1\n",
    "s1_img = s1_collection.select(['VV_filtered','VH_filtered','VV_VH_filtered'])\n",
    "# s1_img = s1_collection.select(['angle'])\n",
    "\n",
    "\n",
    "\n",
    "vv_vis = {\n",
    "    'min': 0,\n",
    "    'max': 0.2,\n",
    "    'palette': ['#000000','#ffffff']\n",
    "}\n",
    "\n",
    "vh_vis = {\n",
    "    'min': 0,\n",
    "    'max': 0.03,\n",
    "    'palette': ['#000000','#ffffff']\n",
    "}\n",
    "\n",
    "vv_vh_vis = {\n",
    "    'min': 3,\n",
    "    'max': 30,\n",
    "    'palette': ['#000000','#ffffff']\n",
    "}\n",
    "\n"
   ]
  },
  {
   "cell_type": "code",
   "execution_count": 10,
   "id": "e05d111b",
   "metadata": {},
   "outputs": [
    {
     "name": "stdout",
     "output_type": "stream",
     "text": [
      "1\n"
     ]
    }
   ],
   "source": [
    "n = s1_collection.size().getInfo()\n",
    "s1_collection_list = s1_collection.toList(n)\n",
    "print(n)"
   ]
  },
  {
   "cell_type": "code",
   "execution_count": 11,
   "id": "d449213f",
   "metadata": {},
   "outputs": [
    {
     "name": "stdout",
     "output_type": "stream",
     "text": [
      "10\n"
     ]
    }
   ],
   "source": [
    "ns = ee.Image(s1_collection_list.get(0)).select('VV_filtered').projection().nominalScale().getInfo()\n",
    "print(ns)"
   ]
  },
  {
   "cell_type": "code",
   "execution_count": 12,
   "id": "ce964bec",
   "metadata": {},
   "outputs": [
    {
     "data": {
      "text/plain": [
       "ee.imagecollection.ImageCollection"
      ]
     },
     "execution_count": 12,
     "metadata": {},
     "output_type": "execute_result"
    }
   ],
   "source": [
    "type(s1_img)"
   ]
  },
  {
   "cell_type": "code",
   "execution_count": 13,
   "id": "0f4273ad",
   "metadata": {},
   "outputs": [],
   "source": [
    "s1_img = s1_collection.mean()"
   ]
  },
  {
   "cell_type": "code",
   "execution_count": 14,
   "id": "41c8272c",
   "metadata": {},
   "outputs": [
    {
     "data": {
      "text/plain": [
       "ee.image.Image"
      ]
     },
     "execution_count": 14,
     "metadata": {},
     "output_type": "execute_result"
    }
   ],
   "source": [
    "type(s1_img)"
   ]
  },
  {
   "cell_type": "code",
   "execution_count": 15,
   "id": "af9ad650",
   "metadata": {},
   "outputs": [
    {
     "data": {
      "text/plain": [
       "['03-03-2020']"
      ]
     },
     "execution_count": 15,
     "metadata": {},
     "output_type": "execute_result"
    }
   ],
   "source": [
    "date_list"
   ]
  },
  {
   "cell_type": "code",
   "execution_count": 16,
   "id": "6cda3d82",
   "metadata": {},
   "outputs": [
    {
     "name": "stdout",
     "output_type": "stream",
     "text": [
      "03-03-2020\n"
     ]
    }
   ],
   "source": [
    "# export s1 data in small region around nanda bet\n",
    "task_id = []\n",
    "n = 1\n",
    "for i in range(0,n):\n",
    "    img = ee.Image(s1_collection_list.get(i)).select(['VV_filtered','VH_filtered','VV_VH_filtered']).clip(small_boundary.geometry())\n",
    "    #img = ee.Image(s1_collection_list.get(i)).select(['angle']).clip(small_boundary.geometry())\n",
    "    #img = s1_img.select(['VV_filtered','VH_filtered','VV_VH_filtered']).clip(small_boundary.geometry())\n",
    "    txt = 's1_nandabet_' + date_list[i] + '_20m'\n",
    "    task = ee.batch.Export.image.toDrive(image=img,\n",
    "                                        description=txt,\n",
    "                                        scale=20,\n",
    "                                        region=small_boundary.geometry(),\n",
    "                                        fileNamePrefix=txt,\n",
    "                                        crs='EPSG:4326',\n",
    "                                        fileFormat='GeoTIFF',\n",
    "                                        maxPixels=1e9)\n",
    "    task.start()\n",
    "    task_id.append(task.id)\n",
    "    print(date_list[i])\n",
    "    \n"
   ]
  },
  {
   "cell_type": "code",
   "execution_count": 19,
   "id": "53a40095",
   "metadata": {},
   "outputs": [
    {
     "data": {
      "text/plain": [
       "[<Task TQVBNT7GYYIRPAPG4CH4U6A5 EXPORT_IMAGE: s1_nandabet_03-03-2020_20m (COMPLETED)>,\n",
       " <Task OWIHZ7CGYJ4US6N2SN2XADKO EXPORT_IMAGE: dw_label_nandabet_20200301_20m (COMPLETED)>,\n",
       " <Task EHSTRGBKUSWYUIKY4B5QVZFX EXPORT_IMAGE: dw_bands_nandabet_20200301_20m (RUNNING)>,\n",
       " <Task BJGCCBABWUWE37IK5D7VORSB EXPORT_IMAGE: s2_nandabet_20200303_all_bands (COMPLETED)>,\n",
       " <Task BGORK4R5DYOO4W7PH2HGWYKW EXPORT_IMAGE: s1_nanda_bet_08-18-2020 (COMPLETED)>,\n",
       " <Task XO2LXBBZWYNR6W3ITQF5QMHD EXPORT_IMAGE: s1_everglades_12-06-2021 (COMPLETED)>,\n",
       " <Task OPNHMXYRWGANN2IFFQVHRK4Q EXPORT_IMAGE: s1_everglades_12-06-2021 (COMPLETED)>]"
      ]
     },
     "execution_count": 19,
     "metadata": {},
     "output_type": "execute_result"
    }
   ],
   "source": [
    "task.list()"
   ]
  },
  {
   "cell_type": "code",
   "execution_count": 18,
   "id": "5c82affd",
   "metadata": {},
   "outputs": [
    {
     "data": {
      "text/plain": [
       "{'state': 'COMPLETED',\n",
       " 'description': 's1_nandabet_03-03-2020_20m',\n",
       " 'creation_timestamp_ms': 1674762554464,\n",
       " 'update_timestamp_ms': 1674762610196,\n",
       " 'start_timestamp_ms': 1674762570689,\n",
       " 'task_type': 'EXPORT_IMAGE',\n",
       " 'destination_uris': ['https://drive.google.com/'],\n",
       " 'attempt': 1,\n",
       " 'batch_eecu_usage_seconds': 32.714725494384766,\n",
       " 'id': 'TQVBNT7GYYIRPAPG4CH4U6A5',\n",
       " 'name': 'projects/earthengine-legacy/operations/TQVBNT7GYYIRPAPG4CH4U6A5'}"
      ]
     },
     "execution_count": 18,
     "metadata": {},
     "output_type": "execute_result"
    }
   ],
   "source": [
    "task.status()"
   ]
  },
  {
   "cell_type": "code",
   "execution_count": 19,
   "id": "42ec54e7",
   "metadata": {},
   "outputs": [],
   "source": [
    "# define function to implement speckle filter and get vv/vh ratio\n",
    "def speckle(img):\n",
    "    from speckle_filter import leesigma\n",
    "    k = 5\n",
    "    vv = img.select('VV')\n",
    "    vh = img.select('VH')\n",
    "    vv_vh = vv.divide(vh).rename('VV_VH')\n",
    "    vv_filtered = leesigma(vv,k).rename('VV_filtered')\n",
    "    vh_filtered = leesigma(vh,k).rename('VH_filtered')\n",
    "    vv_vh_filtered = vv_filtered.divide(vh_filtered).rename('VV_VH_filtered')\n",
    "    img = img.addBands(ee.Image([vv_vh, vv_filtered, vh_filtered, vv_vh_filtered]))\n",
    "    return img"
   ]
  },
  {
   "cell_type": "code",
   "execution_count": 46,
   "id": "3f28a11c",
   "metadata": {},
   "outputs": [
    {
     "name": "stdout",
     "output_type": "stream",
     "text": [
      "[['01-06-2017', '01-06-2017', '01-18-2017', '01-18-2017', '01-30-2017', '01-30-2017', '01-01-2018', '01-13-2018', '01-25-2018', '01-08-2019', '01-20-2019'], ['02-11-2017', '02-11-2017', '02-23-2017', '02-23-2017', '02-06-2018', '02-18-2018', '02-01-2019', '02-13-2019', '02-25-2019'], ['03-19-2017', '03-31-2017', '03-02-2018', '03-14-2018', '03-26-2018', '03-09-2019', '03-21-2019'], ['04-12-2017', '04-24-2017', '04-07-2018', '04-19-2018', '04-02-2019', '04-14-2019', '04-26-2019'], ['05-06-2017', '05-18-2017', '05-30-2017', '05-01-2018', '05-13-2018', '05-25-2018', '05-08-2019', '05-20-2019'], ['06-11-2017', '06-23-2017', '06-06-2018', '06-18-2018', '06-30-2018', '06-01-2019', '06-13-2019', '06-25-2019'], ['07-05-2017', '07-17-2017', '07-29-2017', '07-12-2018', '07-24-2018', '07-07-2019', '07-19-2019', '07-31-2019'], ['08-10-2017', '08-05-2018', '08-17-2018', '08-12-2019', '08-24-2019'], ['09-03-2017', '09-15-2017', '09-27-2017', '09-10-2018', '09-22-2018', '09-05-2019', '09-17-2019', '09-29-2019'], ['10-09-2017', '10-21-2017', '10-04-2018', '10-16-2018', '10-28-2018', '10-11-2019', '10-23-2019'], ['11-02-2017', '11-14-2017', '11-26-2017', '11-09-2018', '11-21-2018', '11-04-2019', '11-16-2019', '11-28-2019'], ['12-08-2017', '12-20-2017', '12-03-2018', '12-15-2018', '12-27-2018', '12-10-2019', '12-22-2019']]\n"
     ]
    }
   ],
   "source": [
    "# get median backscatter by month for previous x years\n",
    "\n",
    "yrs = ['2017','2018','2019']\n",
    "months = ['01','02','03','04','05','06','07','08','09','10','11','12']\n",
    "\n",
    "date_list = []\n",
    "task_id = []\n",
    "\n",
    "for m in range(len(months)):\n",
    "    for y in range(len(yrs)):\n",
    "        d1 = yrs[y] + '-' + months[m] + '-01'        \n",
    "        if months[m] == '12':\n",
    "            if yrs[y] == '2019':\n",
    "                d2 = '2020-01-01'\n",
    "            else:\n",
    "                d2 = yrs[y+1] + '-01-01'\n",
    "        else:\n",
    "            d2 = yrs[y] + '-' + months[m+1] + '-01'\n",
    "            \n",
    "\n",
    "        if y == 0:\n",
    "            # get Sentinel-1 data\n",
    "            s1_collection = (ee.ImageCollection('COPERNICUS/S1_GRD_FLOAT')\n",
    "                             .filter(ee.Filter.eq('instrumentMode', 'IW'))\n",
    "                             .filterMetadata('resolution_meters', 'equals', 10)\n",
    "                             .filter(ee.Filter.eq('orbitProperties_pass', 'DESCENDING'))\n",
    "                             .filter(ee.Filter.date(d1,d2))\n",
    "                             .filterBounds(roi_small))\n",
    "            #print('Number of images in s1 collection:', s1_collection.size().getInfo())\n",
    "\n",
    "            # apply speckle filter\n",
    "            s1_collection = s1_collection.map(speckle)\n",
    "            \n",
    "        else:\n",
    "            temp = (ee.ImageCollection('COPERNICUS/S1_GRD_FLOAT')\n",
    "                             .filter(ee.Filter.eq('instrumentMode', 'IW'))\n",
    "                             .filterMetadata('resolution_meters', 'equals', 10)\n",
    "                             .filter(ee.Filter.eq('orbitProperties_pass', 'DESCENDING'))\n",
    "                             .filter(ee.Filter.date(d1,d2))\n",
    "                             .filterBounds(roi_small))\n",
    "            temp = temp.map(speckle)\n",
    "            s1_collection = s1_collection.merge(temp)\n",
    "            \n",
    "    # get median by month and clip to small region\n",
    "    s1_median = s1_collection.median().select(['VV_filtered','VH_filtered','VV_VH_filtered']).clip(small_boundary.geometry())\n",
    "\n",
    "\n",
    "    # export s1 data in small region around nanda bet\n",
    "    txt = 's1_median_' + yrs[y] + '-' + months[m]\n",
    "    task = ee.batch.Export.image.toDrive(image=s1_median, description=txt, scale=10, region=small_boundary.geometry(),\n",
    "                                        fileNamePrefix=txt, crs='EPSG:4326', fileFormat='GeoTIFF', maxPixels=1e9)\n",
    "    task.start()\n",
    "    task_id.append(task.id)\n",
    "\n",
    "\n",
    "    # get dates of s1 images\n",
    "    acq_times = s1_collection.aggregate_array('system:time_start').getInfo()\n",
    "    date_list.append([time.strftime('%m-%d-%Y', time.gmtime(t/1000)) for t in acq_times])\n",
    "        \n",
    "print(date_list)"
   ]
  },
  {
   "cell_type": "code",
   "execution_count": 48,
   "id": "5e48e77a",
   "metadata": {},
   "outputs": [
    {
     "name": "stdout",
     "output_type": "stream",
     "text": [
      "['01-06-2017', '01-06-2017', '01-18-2017', '01-18-2017', '01-30-2017', '01-30-2017', '01-01-2018', '01-13-2018', '01-25-2018', '01-08-2019', '01-20-2019']\n",
      "['02-11-2017', '02-11-2017', '02-23-2017', '02-23-2017', '02-06-2018', '02-18-2018', '02-01-2019', '02-13-2019', '02-25-2019']\n",
      "['03-19-2017', '03-31-2017', '03-02-2018', '03-14-2018', '03-26-2018', '03-09-2019', '03-21-2019']\n",
      "['04-12-2017', '04-24-2017', '04-07-2018', '04-19-2018', '04-02-2019', '04-14-2019', '04-26-2019']\n",
      "['05-06-2017', '05-18-2017', '05-30-2017', '05-01-2018', '05-13-2018', '05-25-2018', '05-08-2019', '05-20-2019']\n",
      "['06-11-2017', '06-23-2017', '06-06-2018', '06-18-2018', '06-30-2018', '06-01-2019', '06-13-2019', '06-25-2019']\n",
      "['07-05-2017', '07-17-2017', '07-29-2017', '07-12-2018', '07-24-2018', '07-07-2019', '07-19-2019', '07-31-2019']\n",
      "['08-10-2017', '08-05-2018', '08-17-2018', '08-12-2019', '08-24-2019']\n",
      "['09-03-2017', '09-15-2017', '09-27-2017', '09-10-2018', '09-22-2018', '09-05-2019', '09-17-2019', '09-29-2019']\n",
      "['10-09-2017', '10-21-2017', '10-04-2018', '10-16-2018', '10-28-2018', '10-11-2019', '10-23-2019']\n",
      "['11-02-2017', '11-14-2017', '11-26-2017', '11-09-2018', '11-21-2018', '11-04-2019', '11-16-2019', '11-28-2019']\n",
      "['12-08-2017', '12-20-2017', '12-03-2018', '12-15-2018', '12-27-2018', '12-10-2019', '12-22-2019']\n",
      "Done\n"
     ]
    }
   ],
   "source": [
    "# save date_list\n",
    "\n",
    "# open file in write mode\n",
    "with open(r's1_median_dates.txt', 'w') as fp:\n",
    "    for item in date_list:\n",
    "        # write each item on a new line\n",
    "        print(item)\n",
    "        fp.write(\"%s\\n\" % item)\n",
    "    print('Done')"
   ]
  }
 ],
 "metadata": {
  "kernelspec": {
   "display_name": "Python [conda env:nandabetenv] *",
   "language": "python",
   "name": "conda-env-nandabetenv-py"
  },
  "language_info": {
   "codemirror_mode": {
    "name": "ipython",
    "version": 3
   },
   "file_extension": ".py",
   "mimetype": "text/x-python",
   "name": "python",
   "nbconvert_exporter": "python",
   "pygments_lexer": "ipython3",
   "version": "3.8.13"
  }
 },
 "nbformat": 4,
 "nbformat_minor": 5
}
