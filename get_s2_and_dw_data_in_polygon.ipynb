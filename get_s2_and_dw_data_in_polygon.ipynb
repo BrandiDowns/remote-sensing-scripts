{
 "cells": [
  {
   "cell_type": "code",
   "execution_count": 1,
   "id": "cc90d8d8",
   "metadata": {},
   "outputs": [],
   "source": [
    "import ee\n",
    "import geemap\n",
    "from datetime import datetime, timedelta\n",
    "import math\n",
    "import matplotlib.pyplot as plt\n",
    "import numpy as np\n",
    "import ipynb\n",
    "import time\n",
    "from speckle_filter import leesigma"
   ]
  },
  {
   "cell_type": "code",
   "execution_count": 3,
   "id": "1d8188d2",
   "metadata": {},
   "outputs": [
    {
     "data": {
      "text/html": [
       "<p>To authorize access needed by Earth Engine, open the following\n",
       "        URL in a web browser and follow the instructions:</p>\n",
       "        <p><a href=https://code.earthengine.google.com/client-auth?scopes=https%3A//www.googleapis.com/auth/earthengine%20https%3A//www.googleapis.com/auth/devstorage.full_control&request_id=eDw3-zMf8D6A6uCQtevPUcNzIM21DfNDjQZua42CB-o&tc=bFfwpy_Q1-V7fk4kZ8fJRDaMQZleAR3bCdkwjiPk06o&cc=snkRKU591YS0ITvU-nvzpt_ZuTfXlyKfUmMKCiidZFw>https://code.earthengine.google.com/client-auth?scopes=https%3A//www.googleapis.com/auth/earthengine%20https%3A//www.googleapis.com/auth/devstorage.full_control&request_id=eDw3-zMf8D6A6uCQtevPUcNzIM21DfNDjQZua42CB-o&tc=bFfwpy_Q1-V7fk4kZ8fJRDaMQZleAR3bCdkwjiPk06o&cc=snkRKU591YS0ITvU-nvzpt_ZuTfXlyKfUmMKCiidZFw</a></p>\n",
       "        <p>The authorization workflow will generate a code, which you should paste in the box below.</p>\n",
       "        "
      ],
      "text/plain": [
       "<IPython.core.display.HTML object>"
      ]
     },
     "metadata": {},
     "output_type": "display_data"
    },
    {
     "name": "stdout",
     "output_type": "stream",
     "text": [
      "Enter verification code: 4/1AWtgzh6LiOQrdtjbqiQmLkGYK9qC3g89j3Fq-0FwbyQRNGjElEFtAcOBhM8\n",
      "\n",
      "Successfully saved authorization token.\n"
     ]
    }
   ],
   "source": [
    "# Get authentication credentials to initialize ee\n",
    "ee.Authenticate()\n",
    "ee.Initialize()"
   ]
  },
  {
   "cell_type": "code",
   "execution_count": 4,
   "id": "3eca2371",
   "metadata": {},
   "outputs": [],
   "source": [
    "# Define geometry for data collection\n",
    "\n",
    "roi = ee.Geometry.Rectangle([69.98568, 22.66953, 72.76651, 24.60271]);  # Nanda Bet S1 extent\n",
    "roi_small = ee.Geometry.Rectangle([70.7980547394194417, 23.2880385161501735, 71.5060515087354958, 23.9024834537972986])  # Nanda Bet small region\n",
    "\n",
    "\n",
    "# roi_alaska = ee.Geometry.Rectangle([-161.2807843239999954, 60.1563621669999975, -161.1689946729999861, 60.2120380060000002]) # Region in Alaska for Bruce\n",
    "# clipping_mask = roi_alaska\n",
    "\n",
    "\n",
    "\n",
    "# boundary shapefiles\n",
    "shp_file = 'data/s1_boundary.shp'\n",
    "s1_boundary = geemap.shp_to_ee(shp_file)\n",
    "# type(s1_boundary)\n",
    "\n",
    "shp_file = 'data/smaller_region.shp'\n",
    "small_boundary = geemap.shp_to_ee(shp_file)\n",
    "\n",
    "clipping_mask = small_boundary\n",
    "\n"
   ]
  },
  {
   "cell_type": "code",
   "execution_count": 5,
   "id": "46e6dd7f",
   "metadata": {},
   "outputs": [
    {
     "data": {
      "text/plain": [
       "ee.featurecollection.FeatureCollection"
      ]
     },
     "execution_count": 5,
     "metadata": {},
     "output_type": "execute_result"
    }
   ],
   "source": [
    "type(clipping_mask)"
   ]
  },
  {
   "cell_type": "code",
   "execution_count": 6,
   "id": "1db09aee",
   "metadata": {},
   "outputs": [
    {
     "name": "stdout",
     "output_type": "stream",
     "text": [
      "292\n",
      "['01-01-2020', '01-01-2020', '01-01-2020', '01-01-2020', '01-06-2020', '01-06-2020', '01-06-2020', '01-06-2020', '01-11-2020', '01-11-2020', '01-11-2020', '01-11-2020', '01-16-2020', '01-16-2020', '01-16-2020', '01-16-2020', '01-21-2020', '01-21-2020', '01-21-2020', '01-21-2020', '01-26-2020', '01-26-2020', '01-26-2020', '01-26-2020', '01-31-2020', '01-31-2020', '01-31-2020', '01-31-2020', '02-05-2020', '02-05-2020', '02-05-2020', '02-05-2020', '02-10-2020', '02-10-2020', '02-10-2020', '02-10-2020', '02-15-2020', '02-15-2020', '02-15-2020', '02-15-2020', '02-20-2020', '02-20-2020', '02-20-2020', '02-20-2020', '02-25-2020', '02-25-2020', '02-25-2020', '02-25-2020', '03-01-2020', '03-01-2020', '03-01-2020', '03-01-2020', '03-06-2020', '03-06-2020', '03-06-2020', '03-06-2020', '03-11-2020', '03-11-2020', '03-11-2020', '03-11-2020', '03-16-2020', '03-16-2020', '03-16-2020', '03-16-2020', '03-21-2020', '03-21-2020', '03-21-2020', '03-21-2020', '03-26-2020', '03-26-2020', '03-26-2020', '03-26-2020', '03-31-2020', '03-31-2020', '03-31-2020', '03-31-2020', '04-05-2020', '04-05-2020', '04-05-2020', '04-05-2020', '04-10-2020', '04-10-2020', '04-10-2020', '04-10-2020', '04-15-2020', '04-15-2020', '04-15-2020', '04-15-2020', '04-20-2020', '04-20-2020', '04-20-2020', '04-20-2020', '04-25-2020', '04-25-2020', '04-25-2020', '04-25-2020', '04-30-2020', '04-30-2020', '04-30-2020', '04-30-2020', '05-05-2020', '05-05-2020', '05-05-2020', '05-05-2020', '05-10-2020', '05-10-2020', '05-10-2020', '05-10-2020', '05-15-2020', '05-15-2020', '05-15-2020', '05-15-2020', '05-20-2020', '05-20-2020', '05-20-2020', '05-20-2020', '05-25-2020', '05-25-2020', '05-25-2020', '05-25-2020', '05-30-2020', '05-30-2020', '05-30-2020', '05-30-2020', '06-04-2020', '06-04-2020', '06-04-2020', '06-04-2020', '06-09-2020', '06-09-2020', '06-09-2020', '06-09-2020', '06-14-2020', '06-14-2020', '06-14-2020', '06-14-2020', '06-19-2020', '06-19-2020', '06-19-2020', '06-19-2020', '06-24-2020', '06-24-2020', '06-24-2020', '06-24-2020', '06-29-2020', '06-29-2020', '06-29-2020', '06-29-2020', '07-04-2020', '07-04-2020', '07-04-2020', '07-04-2020', '07-09-2020', '07-09-2020', '07-09-2020', '07-09-2020', '07-14-2020', '07-14-2020', '07-14-2020', '07-14-2020', '07-19-2020', '07-19-2020', '07-19-2020', '07-19-2020', '07-24-2020', '07-24-2020', '07-24-2020', '07-24-2020', '07-29-2020', '07-29-2020', '07-29-2020', '07-29-2020', '08-03-2020', '08-03-2020', '08-03-2020', '08-03-2020', '08-08-2020', '08-08-2020', '08-08-2020', '08-08-2020', '08-13-2020', '08-13-2020', '08-13-2020', '08-13-2020', '08-18-2020', '08-18-2020', '08-18-2020', '08-18-2020', '08-23-2020', '08-23-2020', '08-23-2020', '08-23-2020', '08-28-2020', '08-28-2020', '08-28-2020', '08-28-2020', '09-02-2020', '09-02-2020', '09-02-2020', '09-02-2020', '09-07-2020', '09-07-2020', '09-07-2020', '09-07-2020', '09-12-2020', '09-12-2020', '09-12-2020', '09-12-2020', '09-17-2020', '09-17-2020', '09-17-2020', '09-17-2020', '09-22-2020', '09-22-2020', '09-22-2020', '09-22-2020', '09-27-2020', '09-27-2020', '09-27-2020', '09-27-2020', '10-02-2020', '10-02-2020', '10-02-2020', '10-02-2020', '10-12-2020', '10-12-2020', '10-12-2020', '10-12-2020', '10-17-2020', '10-17-2020', '10-17-2020', '10-17-2020', '10-22-2020', '10-22-2020', '10-22-2020', '10-22-2020', '10-27-2020', '10-27-2020', '10-27-2020', '10-27-2020', '11-01-2020', '11-01-2020', '11-01-2020', '11-01-2020', '11-06-2020', '11-06-2020', '11-06-2020', '11-06-2020', '11-11-2020', '11-11-2020', '11-11-2020', '11-11-2020', '11-16-2020', '11-16-2020', '11-16-2020', '11-16-2020', '11-21-2020', '11-21-2020', '11-21-2020', '11-21-2020', '11-26-2020', '11-26-2020', '11-26-2020', '11-26-2020', '12-01-2020', '12-01-2020', '12-01-2020', '12-01-2020', '12-06-2020', '12-06-2020', '12-06-2020', '12-06-2020', '12-11-2020', '12-11-2020', '12-11-2020', '12-11-2020', '12-16-2020', '12-16-2020', '12-16-2020', '12-16-2020', '12-21-2020', '12-21-2020', '12-21-2020', '12-21-2020', '12-26-2020', '12-26-2020', '12-26-2020', '12-26-2020', '12-31-2020', '12-31-2020', '12-31-2020', '12-31-2020']\n"
     ]
    }
   ],
   "source": [
    "# check actual date of s2 or dw\n",
    "\n",
    "d1 = '2020-01-01'\n",
    "d2 = '2021-01-01'\n",
    "\n",
    "#s2_collection = ee.ImageCollection('COPERNICUS/S2').filterBounds(s1_boundary).filterDate(d1, d2)  \n",
    "s2_collection = ee.ImageCollection('COPERNICUS/S2').filterBounds(clipping_mask).filterDate(d1, d2)  \n",
    "\n",
    "# print number of images in collection\n",
    "print(s2_collection.size().getInfo())\n",
    "\n",
    "# print dates of acquisition\n",
    "acq_times = s2_collection.aggregate_array('system:time_start').getInfo()\n",
    "print([time.strftime('%m-%d-%Y', time.gmtime(t/1000)) for t in acq_times])\n"
   ]
  },
  {
   "cell_type": "code",
   "execution_count": 9,
   "id": "7b8fb6a0",
   "metadata": {},
   "outputs": [
    {
     "name": "stdout",
     "output_type": "stream",
     "text": [
      "['B1', 'B2', 'B3', 'B4', 'B5', 'B6', 'B7', 'B8', 'B8A', 'B9', 'B10', 'B11', 'B12', 'QA10', 'QA20', 'QA60']\n"
     ]
    }
   ],
   "source": [
    "# print band names\n",
    "print(s2_collection.first().bandNames().getInfo())"
   ]
  },
  {
   "cell_type": "code",
   "execution_count": 7,
   "id": "fa863bf8",
   "metadata": {},
   "outputs": [
    {
     "name": "stdout",
     "output_type": "stream",
     "text": [
      "217\n",
      "['01-06-2020', '01-06-2020', '01-06-2020', '01-06-2020', '01-11-2020', '01-11-2020', '01-11-2020', '01-11-2020', '01-16-2020', '01-16-2020', '01-16-2020', '01-16-2020', '01-21-2020', '01-21-2020', '01-21-2020', '01-21-2020', '01-26-2020', '01-26-2020', '01-26-2020', '01-26-2020', '01-31-2020', '01-31-2020', '01-31-2020', '01-31-2020', '02-05-2020', '02-05-2020', '02-05-2020', '02-05-2020', '02-10-2020', '02-10-2020', '02-10-2020', '02-10-2020', '02-15-2020', '02-20-2020', '02-20-2020', '02-20-2020', '02-20-2020', '02-25-2020', '02-25-2020', '02-25-2020', '02-25-2020', '03-01-2020', '03-01-2020', '03-01-2020', '03-01-2020', '03-06-2020', '03-06-2020', '03-06-2020', '03-06-2020', '03-11-2020', '03-11-2020', '03-11-2020', '03-11-2020', '03-21-2020', '03-21-2020', '03-21-2020', '03-21-2020', '03-31-2020', '03-31-2020', '03-31-2020', '03-31-2020', '04-05-2020', '04-05-2020', '04-05-2020', '04-05-2020', '04-10-2020', '04-10-2020', '04-10-2020', '04-10-2020', '04-15-2020', '04-15-2020', '04-15-2020', '04-20-2020', '04-20-2020', '04-20-2020', '04-20-2020', '04-25-2020', '04-25-2020', '04-25-2020', '04-25-2020', '04-30-2020', '04-30-2020', '04-30-2020', '04-30-2020', '05-05-2020', '05-05-2020', '05-05-2020', '05-05-2020', '05-10-2020', '05-10-2020', '05-10-2020', '05-10-2020', '05-15-2020', '05-15-2020', '05-15-2020', '05-15-2020', '05-20-2020', '05-20-2020', '05-20-2020', '05-20-2020', '05-25-2020', '05-25-2020', '05-25-2020', '05-25-2020', '05-30-2020', '05-30-2020', '05-30-2020', '05-30-2020', '06-04-2020', '06-04-2020', '06-04-2020', '06-04-2020', '06-09-2020', '06-09-2020', '06-09-2020', '06-09-2020', '06-24-2020', '06-29-2020', '06-29-2020', '07-14-2020', '07-19-2020', '07-19-2020', '07-24-2020', '07-24-2020', '08-03-2020', '08-03-2020', '08-03-2020', '09-02-2020', '09-02-2020', '09-02-2020', '09-07-2020', '09-07-2020', '09-07-2020', '09-07-2020', '09-12-2020', '09-12-2020', '09-17-2020', '09-17-2020', '09-22-2020', '09-22-2020', '09-22-2020', '09-22-2020', '09-27-2020', '09-27-2020', '09-27-2020', '09-27-2020', '10-02-2020', '10-02-2020', '10-02-2020', '10-02-2020', '10-12-2020', '10-12-2020', '10-12-2020', '10-12-2020', '10-17-2020', '10-17-2020', '10-17-2020', '10-17-2020', '10-22-2020', '10-22-2020', '10-22-2020', '10-22-2020', '10-27-2020', '10-27-2020', '10-27-2020', '10-27-2020', '11-01-2020', '11-01-2020', '11-01-2020', '11-01-2020', '11-06-2020', '11-06-2020', '11-06-2020', '11-06-2020', '11-11-2020', '11-11-2020', '11-11-2020', '11-11-2020', '11-16-2020', '11-16-2020', '11-16-2020', '11-16-2020', '11-21-2020', '11-21-2020', '11-21-2020', '11-21-2020', '11-26-2020', '11-26-2020', '11-26-2020', '11-26-2020', '12-01-2020', '12-01-2020', '12-01-2020', '12-01-2020', '12-06-2020', '12-06-2020', '12-06-2020', '12-06-2020', '12-11-2020', '12-11-2020', '12-11-2020', '12-16-2020', '12-16-2020', '12-16-2020', '12-16-2020', '12-21-2020', '12-21-2020', '12-21-2020', '12-21-2020', '12-26-2020', '12-26-2020', '12-26-2020', '12-26-2020', '12-31-2020', '12-31-2020', '12-31-2020', '12-31-2020']\n"
     ]
    }
   ],
   "source": [
    "# get Dynamic World data\n",
    "dw_collection = (ee.ImageCollection(\"GOOGLE/DYNAMICWORLD/V1\")\n",
    "    .filterBounds(clipping_mask)\n",
    "    .filterDate(d1, d2))  \n",
    "\n",
    "    \n",
    "# print number of images in collection\n",
    "print(dw_collection.size().getInfo())\n",
    "\n",
    "# print dates of acquisition\n",
    "acq_times = dw_collection.aggregate_array('system:time_start').getInfo()\n",
    "print([time.strftime('%m-%d-%Y', time.gmtime(t/1000)) for t in acq_times])\n"
   ]
  },
  {
   "cell_type": "code",
   "execution_count": 6,
   "id": "209a95db",
   "metadata": {},
   "outputs": [],
   "source": [
    "water = dw_collection.select('water').mean().clip(clipping_mask).rename('water');\n",
    "label = dw_collection.select('label').mode().clip(clipping_mask).rename('label');\n",
    "flooded_vegetation = dw_collection.select('flooded_vegetation').mean().clip(clipping_mask).rename('flooded_vegetation');\n",
    "bare = dw_collection.select('bare').mean().clip(clipping_mask).rename('bare');\n",
    "trees = dw_collection.select('trees').mean().clip(clipping_mask).rename('trees');\n",
    "grass = dw_collection.select('grass').mean().clip(clipping_mask).rename('grass');\n",
    "crops = dw_collection.select('crops').mean().clip(clipping_mask).rename('crops');\n",
    "shrub_and_scrub = dw_collection.select('shrub_and_scrub').mean().clip(clipping_mask).rename('shrub_and_scrub');\n",
    "built = dw_collection.select('built').mean().clip(clipping_mask).rename('built');\n",
    "snow_and_ice = dw_collection.select('snow_and_ice').mean().clip(clipping_mask).rename('snow_and_ice');\n",
    "\n",
    "dw_img = water.addBands(ee.Image([bare,flooded_vegetation,trees,grass,crops,shrub_and_scrub,built,snow_and_ice]))"
   ]
  },
  {
   "cell_type": "code",
   "execution_count": 10,
   "id": "9148d551",
   "metadata": {},
   "outputs": [],
   "source": [
    "# Get image from collection\n",
    "s2_img = ee.Image(s2_collection.mean().divide(10000).clip(clipping_mask.geometry()))\n",
    "\n",
    "#s2_img = ee.Image(s2_collection.mean().divide(10000).clip(clipping_mask))"
   ]
  },
  {
   "cell_type": "code",
   "execution_count": 11,
   "id": "ed32efef",
   "metadata": {
    "scrolled": true
   },
   "outputs": [
    {
     "data": {
      "application/vnd.jupyter.widget-view+json": {
       "model_id": "cc7295e130f440c9a307bf95c0710922",
       "version_major": 2,
       "version_minor": 0
      },
      "text/plain": [
       "Map(center=[23.54320534531615, 71.10409144438285], controls=(WidgetControl(options=['position', 'transparent_b…"
      ]
     },
     "metadata": {},
     "output_type": "display_data"
    }
   ],
   "source": [
    "# Disply S2 image on map\n",
    "\n",
    "\n",
    "# define visualization parameters\n",
    "s2_vis = {\n",
    "    'bands': ['B4','B3','B2'],\n",
    "    'min': 0.0,\n",
    "    'max': 0.3,\n",
    "}\n",
    "\n",
    "\n",
    "# set up map\n",
    "M = geemap.Map()\n",
    "M.centerObject(clipping_mask.geometry(),12)\n",
    "#M.centerObject(clipping_mask,12)\n",
    "# M.add_basemap('SATELLITE')\n",
    "M.addLayer(s2_img, s2_vis, 's2')\n",
    "\n",
    "\n",
    "\n",
    "# display map\n",
    "M"
   ]
  },
  {
   "cell_type": "code",
   "execution_count": 12,
   "id": "a0a9b501",
   "metadata": {},
   "outputs": [
    {
     "name": "stdout",
     "output_type": "stream",
     "text": [
      "['B1', 'B2', 'B3', 'B4', 'B5', 'B6', 'B7', 'B8', 'B8A', 'B9', 'B10', 'B11', 'B12', 'QA10', 'QA20', 'QA60']\n"
     ]
    }
   ],
   "source": [
    "# print band names\n",
    "print(s2_img.bandNames().getInfo())"
   ]
  },
  {
   "cell_type": "code",
   "execution_count": 13,
   "id": "a73f55bc",
   "metadata": {},
   "outputs": [],
   "source": [
    "# Export single S2 image\n",
    "txt = 's2_nandabet_20200301_all_bands' \n",
    "task = ee.batch.Export.image.toDrive(image=s2_img,\n",
    "                                     description=txt,\n",
    "                                     scale=20,\n",
    "                                     fileNamePrefix=txt,\n",
    "                                     crs='EPSG:4326',\n",
    "                                     fileFormat='GeoTIFF',\n",
    "                                     maxPixels=2e10,\n",
    "                                     region=clipping_mask.geometry())\n",
    "                                     #region=clipping_mask)\n",
    "task.start()\n"
   ]
  },
  {
   "cell_type": "code",
   "execution_count": 7,
   "id": "e0078578",
   "metadata": {},
   "outputs": [],
   "source": [
    "# Export single DW image\n",
    "txt = 'dw_bands_nandabet_20200301_20m'\n",
    "task = ee.batch.Export.image.toDrive(image=dw_img,\n",
    "                                     description=txt,\n",
    "                                     scale=20,\n",
    "                                     fileNamePrefix=txt,\n",
    "                                     crs='EPSG:4326',\n",
    "                                     fileFormat='GeoTIFF',\n",
    "                                     maxPixels=2e10,\n",
    "                                     region=clipping_mask.geometry())\n",
    "                                     #region=clipping_mask)\n",
    "task.start()\n",
    "\n",
    "\n",
    "txt = 'dw_label_nandabet_20200301_20m'\n",
    "task = ee.batch.Export.image.toDrive(image=label,\n",
    "                                     description=txt,\n",
    "                                     scale=20,\n",
    "                                     fileNamePrefix=txt,\n",
    "                                     crs='EPSG:4326',\n",
    "                                     fileFormat='GeoTIFF',\n",
    "                                     maxPixels=2e10,\n",
    "                                     region=clipping_mask.geometry())\n",
    "                                     #region=clipping_mask)\n",
    "task.start()\n",
    "\n"
   ]
  },
  {
   "cell_type": "code",
   "execution_count": 8,
   "id": "6b7d1ff2",
   "metadata": {},
   "outputs": [
    {
     "data": {
      "text/plain": [
       "[<Task TQVBNT7GYYIRPAPG4CH4U6A5 EXPORT_IMAGE: s1_nandabet_03-03-2020_20m (COMPLETED)>,\n",
       " <Task OWIHZ7CGYJ4US6N2SN2XADKO EXPORT_IMAGE: dw_label_nandabet_20200301_20m (COMPLETED)>,\n",
       " <Task EHSTRGBKUSWYUIKY4B5QVZFX EXPORT_IMAGE: dw_bands_nandabet_20200301_20m (RUNNING)>,\n",
       " <Task BJGCCBABWUWE37IK5D7VORSB EXPORT_IMAGE: s2_nandabet_20200303_all_bands (COMPLETED)>,\n",
       " <Task BGORK4R5DYOO4W7PH2HGWYKW EXPORT_IMAGE: s1_nanda_bet_08-18-2020 (COMPLETED)>,\n",
       " <Task XO2LXBBZWYNR6W3ITQF5QMHD EXPORT_IMAGE: s1_everglades_12-06-2021 (COMPLETED)>,\n",
       " <Task OPNHMXYRWGANN2IFFQVHRK4Q EXPORT_IMAGE: s1_everglades_12-06-2021 (COMPLETED)>]"
      ]
     },
     "execution_count": 8,
     "metadata": {},
     "output_type": "execute_result"
    }
   ],
   "source": [
    "# Check export status\n",
    "task.list()"
   ]
  },
  {
   "cell_type": "code",
   "execution_count": 6,
   "id": "9a061935",
   "metadata": {},
   "outputs": [
    {
     "name": "stdout",
     "output_type": "stream",
     "text": [
      "2020-01-15   2020-01-17\n",
      "2020-01-26   2020-01-29\n",
      "2020-02-07   2020-02-11\n",
      "2020-02-20   2020-02-23\n",
      "2020-03-01   2020-03-05\n",
      "2020-04-07   2020-04-14\n",
      "2020-04-30   2020-05-03\n",
      "2020-05-12   2020-05-16\n",
      "2020-05-25   2020-05-28\n",
      "2020-09-22   2020-09-25\n",
      "2020-10-27   2020-10-31\n",
      "2020-11-08   2020-11-12\n",
      "2020-11-21   2020-11-25\n",
      "2020-12-03   2020-12-07\n"
     ]
    }
   ],
   "source": [
    "# Import s2 and dynamic world data in a loop\n",
    "\n",
    "dates_beg = ['2020-01-15','2020-01-26','2020-02-07','2020-02-20','2020-03-01','2020-04-07','2020-04-30','2020-05-12',\n",
    "             '2020-05-25','2020-09-22','2020-10-27','2020-11-08','2020-11-21','2020-12-03']\n",
    "             \n",
    "dates_end = ['2020-01-17','2020-01-29','2020-02-11','2020-02-23','2020-03-05','2020-04-14','2020-05-03','2020-05-16',\n",
    "             '2020-05-28','2020-09-25','2020-10-31','2020-11-12','2020-11-25','2020-12-07']\n",
    "    \n",
    "\n",
    "n = len(dates_beg)\n",
    "\n",
    "task_id = []\n",
    "\n",
    "for idx in range(n):\n",
    "    d1 = dates_beg[idx]\n",
    "    d2 = dates_end[idx]\n",
    "    \n",
    "    # get Dynamic World data\n",
    "    dw_collection = (ee.ImageCollection(\"GOOGLE/DYNAMICWORLD/V1\")\n",
    "        .filterBounds(s1_boundary)\n",
    "        .filterDate(d1, d2))    \n",
    "\n",
    "#     # get Sentinel-2 data\n",
    "#     s2_collection = ee.ImageCollection('COPERNICUS/S2').filterBounds(s1_boundary).filterDate(d1, d2)  \n",
    "\n",
    "#     # get Sentinel-1 data\n",
    "#     s1_collection = (ee.ImageCollection('COPERNICUS/S1_GRD_FLOAT')\n",
    "#                      .filter(ee.Filter.eq('instrumentMode', 'IW'))\n",
    "#                      .filterMetadata('resolution_meters', 'equals', 10)\n",
    "#                      .filter(ee.Filter.eq('orbitProperties_pass', 'DESCENDING'))\n",
    "#                      .filter(ee.Filter.date(d1,d2))\n",
    "#                      .filterBounds(roi_small))\n",
    "#     s1_collection = s1_collection.map(speckle)\n",
    "\n",
    "\n",
    "    water = dw_collection.select('water').mean().clip(clipping_mask).rename('water');\n",
    "    label = dw_collection.select('label').mode().clip(clipping_mask).rename('label');\n",
    "    flooded_vegetation = dw_collection.select('flooded_vegetation').mean().clip(clipping_mask).rename('flooded_vegetation');\n",
    "    bare = dw_collection.select('bare').mean().clip(clipping_mask).rename('bare');\n",
    "    trees = dw_collection.select('trees').mean().clip(clipping_mask).rename('trees');\n",
    "    grass = dw_collection.select('grass').mean().clip(clipping_mask).rename('grass');\n",
    "    crops = dw_collection.select('crops').mean().clip(clipping_mask).rename('crops');\n",
    "    shrub_and_scrub = dw_collection.select('shrub_and_scrub').mean().clip(clipping_mask).rename('shrub_and_scrub');\n",
    "    built = dw_collection.select('built').mean().clip(clipping_mask).rename('built');\n",
    "    snow_and_ice = dw_collection.select('snow_and_ice').mean().clip(clipping_mask).rename('snow_and_ice');\n",
    "    dw_img = water.addBands(ee.Image([bare,flooded_vegetation,trees,grass,crops,shrub_and_scrub,built,snow_and_ice]))\n",
    "\n",
    "\n",
    "#     # s2\n",
    "#     B2 = s2_collection.select('B2').mean().clip(clipping_mask).rename('B2').divide(10000);\n",
    "#     B3 = s2_collection.select('B3').mean().clip(clipping_mask).rename('B3').divide(10000);\n",
    "#     B4 = s2_collection.select('B4').mean().clip(clipping_mask).rename('B4').divide(10000);\n",
    "#     B8 = s2_collection.select('B8').mean().clip(clipping_mask).rename('B8').divide(10000);\n",
    "#     B11 = s2_collection.select('B11').mean().clip(clipping_mask).rename('B11').divide(10000); # SWIR1\n",
    "#     B12 = s2_collection.select('B12').mean().clip(clipping_mask).rename('B12').divide(10000); # SWIR2\n",
    "#     s2_img = B2.addBands(ee.Image([B3,B4,B8,B11,B12]))\n",
    "\n",
    "\n",
    "#     # s1\n",
    "#     s1_img = s1_collection.select(['VV_filtered','VH_filtered','VV_VH_filtered'])\n",
    "\n",
    "\n",
    "\n",
    "\n",
    "    txt = d1 + '_' + d2\n",
    "\n",
    "\n",
    "    # export dynamic world data\n",
    "    txt2 = 'dynamic_world_small_bands_' + txt\n",
    "    task = ee.batch.Export.image.toDrive(image=dw_img,\n",
    "                                         description=txt2,\n",
    "                                         scale=10,\n",
    "                                         fileNamePrefix=txt2,\n",
    "                                         crs='EPSG:4326',\n",
    "                                         fileFormat='GeoTIFF',\n",
    "                                         maxPixels=2e10,\n",
    "                                         region=clipping_mask.geometry())\n",
    "    task.start()\n",
    "    task_id.append(task.id)\n",
    "\n",
    "\n",
    "    txt2 = 'dynamic_world_small_label_' + txt\n",
    "    task = ee.batch.Export.image.toDrive(image=label,\n",
    "                                         description=txt2,\n",
    "                                         scale=10,\n",
    "                                         fileNamePrefix=txt2,\n",
    "                                         crs='EPSG:4326',\n",
    "                                         fileFormat='GeoTIFF',\n",
    "                                         maxPixels=2e10,\n",
    "                                         region=clipping_mask.geometry())\n",
    "    task.start()\n",
    "    task_id.append(task.id)\n",
    "\n",
    "\n",
    "#     # export s2 data\n",
    "#     txt2 = 's2_small_' + txt\n",
    "#     task = ee.batch.Export.image.toDrive(image=s2_img,\n",
    "#                                          description=txt2,\n",
    "#                                          scale=10,\n",
    "#                                          fileNamePrefix=txt2,\n",
    "#                                          crs='EPSG:4326',\n",
    "#                                          fileFormat='GeoTIFF',\n",
    "#                                          maxPixels=2e10,\n",
    "#                                          region=clipping_mask.geometry())\n",
    "#     task.start()\n",
    "#     task_id.append(task.id)\n",
    "\n",
    "\n",
    "#     # export s1 data\n",
    "#     txt2 = 's1_' + txt\n",
    "#     task = ee.batch.Export.image.toDrive(image=s1_img.first(),\n",
    "#                                          description=txt2,\n",
    "#                                          scale=100,\n",
    "#                                          fileNamePrefix=txt2,\n",
    "#                                          crs='EPSG:4326',\n",
    "#                                          fileFormat='GeoTIFF',\n",
    "#                                          maxPixels=2e10,\n",
    "#                                          region=s1_boundary.geometry())\n",
    "#     task.start()\n",
    "#     task_id.append(task.id)\n",
    "    \n",
    "    print(d1, ' ', d2)    "
   ]
  },
  {
   "cell_type": "code",
   "execution_count": 15,
   "id": "53a40095",
   "metadata": {
    "scrolled": true
   },
   "outputs": [
    {
     "data": {
      "text/plain": [
       "[<Task FTD4SBOAWONNMBXCIFI7ZWAN EXPORT_IMAGE: dynamic_world_small_label_2020-03-25_2020-03-30 (RUNNING)>,\n",
       " <Task BHVTRV7P64U5L6JD6JVDTN6H EXPORT_IMAGE: dynamic_world_small_label_2020-03-25_2020-03-30 (COMPLETED)>,\n",
       " <Task TRHMLW5VW3X3FAOTPK5XANSJ EXPORT_IMAGE: dynamic_world_small_bands_2020-03-25_2020-03-30 (COMPLETED)>,\n",
       " <Task OP3ELE5EQU7KZVWBDJYLG4BU EXPORT_IMAGE: dynamic_world_small_label_2020-12-03_2020-12-07 (COMPLETED)>,\n",
       " <Task TIH3BWWD2YP42PKANGOP5LNQ EXPORT_IMAGE: dynamic_world_small_bands_2020-12-03_2020-12-07 (COMPLETED)>,\n",
       " <Task GX2DV6ODCI7BOGCJCRWZS3SB EXPORT_IMAGE: dynamic_world_small_label_2020-11-21_2020-11-25 (COMPLETED)>,\n",
       " <Task VTZFOTOTSUIIH3MROSI3FV5X EXPORT_IMAGE: dynamic_world_small_bands_2020-11-21_2020-11-25 (COMPLETED)>,\n",
       " <Task IYJW34GW4UORGUHOONYA22KC EXPORT_IMAGE: dynamic_world_small_label_2020-11-08_2020-11-12 (COMPLETED)>,\n",
       " <Task YEWIYE2DERU6RMNNONZE3J5T EXPORT_IMAGE: dynamic_world_small_bands_2020-11-08_2020-11-12 (COMPLETED)>,\n",
       " <Task 4ZRXT5UTEN62NY7L5QJ42DWW EXPORT_IMAGE: dynamic_world_small_label_2020-10-27_2020-10-31 (COMPLETED)>,\n",
       " <Task EEVOSY4HPI63R2ROJVJ5QYDX EXPORT_IMAGE: dynamic_world_small_bands_2020-10-27_2020-10-31 (COMPLETED)>,\n",
       " <Task ITERAOSJE4QIHCQ5BASQOT22 EXPORT_IMAGE: dynamic_world_small_label_2020-09-22_2020-09-25 (COMPLETED)>,\n",
       " <Task SAXXDTFL2U4DJ7VX4BU2H4Z4 EXPORT_IMAGE: dynamic_world_small_bands_2020-09-22_2020-09-25 (COMPLETED)>,\n",
       " <Task ZWGP3VUAQ3DKSGDLNADJ42C7 EXPORT_IMAGE: dynamic_world_small_label_2020-05-25_2020-05-28 (COMPLETED)>,\n",
       " <Task P62WVHUDKEUSS6GADS472RNA EXPORT_IMAGE: dynamic_world_small_bands_2020-05-25_2020-05-28 (COMPLETED)>,\n",
       " <Task FU7M23NERVAAPRJ33F5RW3YN EXPORT_IMAGE: dynamic_world_small_label_2020-05-12_2020-05-16 (COMPLETED)>,\n",
       " <Task LUGHFY24T6TKSU7A7TUTNKX6 EXPORT_IMAGE: dynamic_world_small_bands_2020-05-12_2020-05-16 (COMPLETED)>,\n",
       " <Task M6EA7BFB42GMTXU4R4IVO57Q EXPORT_IMAGE: dynamic_world_small_label_2020-04-30_2020-05-03 (COMPLETED)>,\n",
       " <Task JJDKZ773T7YV6ZJQQSBWOAHD EXPORT_IMAGE: dynamic_world_small_bands_2020-04-30_2020-05-03 (COMPLETED)>,\n",
       " <Task JB3JBSURLZRAX3NQ5FVZOCJV EXPORT_IMAGE: dynamic_world_small_label_2020-04-07_2020-04-14 (COMPLETED)>,\n",
       " <Task U3H5GJ5R5M33DCHJPPPL7AGQ EXPORT_IMAGE: dynamic_world_small_bands_2020-04-07_2020-04-14 (COMPLETED)>,\n",
       " <Task LDTUGALFLP6NAE2DQE4GH5AB EXPORT_IMAGE: dynamic_world_small_label_2020-03-01_2020-03-05 (COMPLETED)>,\n",
       " <Task 4D6UQ4LRVBT6BUWERXBSX4KF EXPORT_IMAGE: dynamic_world_small_bands_2020-03-01_2020-03-05 (COMPLETED)>,\n",
       " <Task 5JOYKSZWEOQKV7AA4OJ4FP6K EXPORT_IMAGE: dynamic_world_small_label_2020-02-20_2020-02-23 (COMPLETED)>,\n",
       " <Task 6OGHQCYQPG3OBFBEGCFEYW5D EXPORT_IMAGE: dynamic_world_small_bands_2020-02-20_2020-02-23 (COMPLETED)>,\n",
       " <Task KR47BUGZPKTVKDX5RWYDNL6D EXPORT_IMAGE: dynamic_world_small_label_2020-02-07_2020-02-11 (COMPLETED)>,\n",
       " <Task DU7NOFX4K25ECHLAM2ZTZKQT EXPORT_IMAGE: dynamic_world_small_bands_2020-02-07_2020-02-11 (COMPLETED)>,\n",
       " <Task S2OQBESZZUJGLDFO72GUUCHG EXPORT_IMAGE: dynamic_world_small_label_2020-01-26_2020-01-29 (COMPLETED)>,\n",
       " <Task RU7MVDMKRMILPKL35OI2NFQL EXPORT_IMAGE: dynamic_world_small_bands_2020-01-26_2020-01-29 (COMPLETED)>,\n",
       " <Task TKBS7257DILLPPWHSU44PYAC EXPORT_IMAGE: dynamic_world_small_label_2020-01-15_2020-01-17 (COMPLETED)>,\n",
       " <Task P3BDIFP2SW5OOKSOWLB24E2C EXPORT_IMAGE: dynamic_world_small_bands_2020-01-15_2020-01-17 (COMPLETED)>]"
      ]
     },
     "execution_count": 15,
     "metadata": {},
     "output_type": "execute_result"
    }
   ],
   "source": [
    "task.list()"
   ]
  },
  {
   "cell_type": "code",
   "execution_count": 13,
   "id": "20daf15a",
   "metadata": {},
   "outputs": [
    {
     "name": "stdout",
     "output_type": "stream",
     "text": [
      "9\n",
      "['03-28-2020', '03-28-2020', '03-28-2020', '03-28-2020', '03-28-2020', '03-28-2020', '03-28-2020', '03-28-2020', '03-28-2020']\n",
      "2020-03-25   2020-03-30\n"
     ]
    }
   ],
   "source": [
    "# get data for specific date\n",
    "\n",
    "\n",
    "d1 = '2020-03-25'\n",
    "d2 = '2020-03-30'\n",
    "\n",
    "# get Dynamic World data\n",
    "dw_collection = (ee.ImageCollection(\"GOOGLE/DYNAMICWORLD/V1\")\n",
    "    .filterBounds(s1_boundary)\n",
    "    .filterDate(d1, d2))    \n",
    "\n",
    "\n",
    "# print number of images in collection\n",
    "print(dw_collection.size().getInfo())\n",
    "\n",
    "# print dates of acquisition\n",
    "acq_times = dw_collection.aggregate_array('system:time_start').getInfo()\n",
    "print([time.strftime('%m-%d-%Y', time.gmtime(t/1000)) for t in acq_times])\n",
    "\n",
    "\n",
    "#     water = dw_collection.select('water').mean().clip(clipping_mask).rename('water');\n",
    "label = dw_collection.select('label').mode().clip(clipping_mask).rename('label');\n",
    "#     flooded_vegetation = dw_collection.select('flooded_vegetation').mean().clip(clipping_mask).rename('flooded_vegetation');\n",
    "#     bare = dw_collection.select('bare').mean().clip(clipping_mask).rename('bare');\n",
    "#     trees = dw_collection.select('trees').mean().clip(clipping_mask).rename('trees');\n",
    "#     grass = dw_collection.select('grass').mean().clip(clipping_mask).rename('grass');\n",
    "#     crops = dw_collection.select('crops').mean().clip(clipping_mask).rename('crops');\n",
    "#     shrub_and_scrub = dw_collection.select('shrub_and_scrub').mean().clip(clipping_mask).rename('shrub_and_scrub');\n",
    "#     built = dw_collection.select('built').mean().clip(clipping_mask).rename('built');\n",
    "#     snow_and_ice = dw_collection.select('snow_and_ice').mean().clip(clipping_mask).rename('snow_and_ice');\n",
    "#     dw_img = water.addBands(ee.Image([bare,flooded_vegetation,trees,grass,crops,shrub_and_scrub,built,snow_and_ice]))\n",
    "\n",
    "\n",
    "task_id = []\n",
    "txt = d1 + '_' + d2\n",
    "\n",
    "\n",
    "#     # export dynamic world data\n",
    "#     txt2 = 'dynamic_world_small_bands_' + txt\n",
    "#     task = ee.batch.Export.image.toDrive(image=dw_img,\n",
    "#                                          description=txt2,\n",
    "#                                          scale=10,\n",
    "#                                          fileNamePrefix=txt2,\n",
    "#                                          crs='EPSG:4326',\n",
    "#                                          fileFormat='GeoTIFF',\n",
    "#                                          maxPixels=2e10,\n",
    "#                                          region=clipping_mask.geometry())\n",
    "#     task.start()\n",
    "#     task_id.append(task.id)\n",
    "\n",
    "\n",
    "txt2 = 'dynamic_world_small_label_' + txt\n",
    "task = ee.batch.Export.image.toDrive(image=label,\n",
    "                                     description=txt2,\n",
    "                                     scale=10,\n",
    "                                     fileNamePrefix=txt2,\n",
    "                                     crs='EPSG:4326',\n",
    "                                     fileFormat='GeoTIFF',\n",
    "                                     maxPixels=2e10,\n",
    "                                     region=clipping_mask.geometry())\n",
    "task.start()\n",
    "task_id.append(task.id)\n",
    "\n",
    "\n",
    "print(d1, ' ', d2)    "
   ]
  }
 ],
 "metadata": {
  "kernelspec": {
   "display_name": "Python [conda env:nandabetenv] *",
   "language": "python",
   "name": "conda-env-nandabetenv-py"
  },
  "language_info": {
   "codemirror_mode": {
    "name": "ipython",
    "version": 3
   },
   "file_extension": ".py",
   "mimetype": "text/x-python",
   "name": "python",
   "nbconvert_exporter": "python",
   "pygments_lexer": "ipython3",
   "version": "3.8.13"
  }
 },
 "nbformat": 4,
 "nbformat_minor": 5
}
